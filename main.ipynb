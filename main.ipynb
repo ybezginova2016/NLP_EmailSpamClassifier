{
 "cells": [
  {
   "cell_type": "markdown",
   "source": [
    "# Классификация спама в электронной почте\n",
    "\n",
    "## Задача проекта\n",
    "Обучить модель классифицировать сообщения в почте на спам / не спам. В нашем распоряжении набор данных с разметкой о том, что является спамом. Качество модели должно быть со значением метрики качества F1 не меньше 0.75.\n",
    "\n",
    "## Методология проекта\n",
    "\n",
    "1. Загрузить и подготовить данные.\n",
    "2. Обучить разные модели.\n",
    "3. Сделать выводы.\n",
    "\n",
    "#### Используем три подхода для препроцессинга текста: логрегрессия + мешок слов, затем попробуем word2vec и наконец Fasttext. Таким образом выберем наилучший вариант обработки для обучения модели."
   ],
   "metadata": {
    "collapsed": false
   }
  },
  {
   "cell_type": "code",
   "execution_count": 2,
   "outputs": [
    {
     "name": "stderr",
     "output_type": "stream",
     "text": [
      "[nltk_data] Downloading package stopwords to\n",
      "[nltk_data]     C:\\Users\\HOME\\AppData\\Roaming\\nltk_data...\n",
      "[nltk_data]   Package stopwords is already up-to-date!\n"
     ]
    }
   ],
   "source": [
    "from functools import lru_cache\n",
    "\n",
    "import fasttext.util\n",
    "import lightgbm as lgb\n",
    "import matplotlib.pyplot as plt\n",
    "import nltk\n",
    "import numpy as np\n",
    "import pandas as pd\n",
    "from catboost import CatBoostClassifier\n",
    "from gensim.models import word2vec\n",
    "from pymorphy2 import MorphAnalyzer\n",
    "\n",
    "# загрузка модели Word2Vec для английского языка\n",
    "nltk.download('stopwords')\n",
    "import warnings\n",
    "\n",
    "from sklearn.metrics import classification_report\n",
    "from sklearn.metrics import confusion_matrix\n",
    "from sklearn.metrics import f1_score\n",
    "from sklearn.feature_extraction.text import CountVectorizer\n",
    "from sklearn.model_selection import train_test_split\n",
    "from sklearn.linear_model import LogisticRegression\n",
    "from sklearn.metrics import accuracy_score\n",
    "from tqdm import tqdm\n",
    "from nltk.corpus import stopwords\n",
    "from sklearn.feature_extraction.text import TfidfVectorizer # TfidfVectorizer преобразует тексты в числовые векторы, отражающие важность использования каждого слова из некоторого набора слов (количество слов набора определяет размерность вектора) в каждом тексте\n",
    "from sklearn.model_selection import GridSearchCV # модуль поиска по сетке параметров\n",
    "\n",
    "from sklearn.pipeline import Pipeline\n",
    "\n",
    "warnings.simplefilter(\"ignore\", category=RuntimeWarning)\n",
    "pd.options.mode.chained_assignment = None\n",
    "tqdm.pandas()"
   ],
   "metadata": {
    "collapsed": false
   }
  },
  {
   "cell_type": "markdown",
   "source": [
    "## Загрузка данных"
   ],
   "metadata": {
    "collapsed": false
   }
  },
  {
   "cell_type": "code",
   "execution_count": 4,
   "outputs": [
    {
     "data": {
      "text/plain": "  label                                               text\n0   ham  Go until jurong point, crazy.. Available only ...\n1   ham                      Ok lar... Joking wif u oni...\n2  spam  Free entry in 2 a wkly comp to win FA Cup fina...\n3   ham  U dun say so early hor... U c already then say...\n4   ham  Nah I don't think he goes to usf, he lives aro...",
      "text/html": "<div>\n<style scoped>\n    .dataframe tbody tr th:only-of-type {\n        vertical-align: middle;\n    }\n\n    .dataframe tbody tr th {\n        vertical-align: top;\n    }\n\n    .dataframe thead th {\n        text-align: right;\n    }\n</style>\n<table border=\"1\" class=\"dataframe\">\n  <thead>\n    <tr style=\"text-align: right;\">\n      <th></th>\n      <th>label</th>\n      <th>text</th>\n    </tr>\n  </thead>\n  <tbody>\n    <tr>\n      <th>0</th>\n      <td>ham</td>\n      <td>Go until jurong point, crazy.. Available only ...</td>\n    </tr>\n    <tr>\n      <th>1</th>\n      <td>ham</td>\n      <td>Ok lar... Joking wif u oni...</td>\n    </tr>\n    <tr>\n      <th>2</th>\n      <td>spam</td>\n      <td>Free entry in 2 a wkly comp to win FA Cup fina...</td>\n    </tr>\n    <tr>\n      <th>3</th>\n      <td>ham</td>\n      <td>U dun say so early hor... U c already then say...</td>\n    </tr>\n    <tr>\n      <th>4</th>\n      <td>ham</td>\n      <td>Nah I don't think he goes to usf, he lives aro...</td>\n    </tr>\n  </tbody>\n</table>\n</div>"
     },
     "execution_count": 4,
     "metadata": {},
     "output_type": "execute_result"
    }
   ],
   "source": [
    "df = pd.read_csv(\"C:\\\\Users\\\\HOME\\\\PycharmProjects\\\\NLP_EmailSpamClassifier\\\\spam.csv\")\n",
    "df.head()"
   ],
   "metadata": {
    "collapsed": false
   }
  },
  {
   "cell_type": "markdown",
   "source": [
    "Изучим целевую переменную label."
   ],
   "metadata": {
    "collapsed": false
   }
  },
  {
   "cell_type": "code",
   "execution_count": 5,
   "outputs": [
    {
     "data": {
      "text/plain": "array(['ham', 'spam'], dtype=object)"
     },
     "execution_count": 5,
     "metadata": {},
     "output_type": "execute_result"
    }
   ],
   "source": [
    "df['label'].unique()"
   ],
   "metadata": {
    "collapsed": false
   }
  },
  {
   "cell_type": "code",
   "execution_count": 6,
   "outputs": [
    {
     "data": {
      "text/plain": "ham     4825\nspam     747\nName: label, dtype: int64"
     },
     "execution_count": 6,
     "metadata": {},
     "output_type": "execute_result"
    }
   ],
   "source": [
    "# проверка таргета на дисбаланс\n",
    "df['label'].value_counts()"
   ],
   "metadata": {
    "collapsed": false
   }
  },
  {
   "cell_type": "code",
   "execution_count": 7,
   "outputs": [
    {
     "data": {
      "text/plain": "0"
     },
     "execution_count": 7,
     "metadata": {},
     "output_type": "execute_result"
    }
   ],
   "source": [
    "# проверка на пропуски в таргете\n",
    "df['label'].isna().sum()"
   ],
   "metadata": {
    "collapsed": false
   }
  },
  {
   "cell_type": "code",
   "execution_count": 8,
   "outputs": [],
   "source": [
    "data = df.copy()"
   ],
   "metadata": {
    "collapsed": false
   }
  },
  {
   "cell_type": "code",
   "execution_count": 9,
   "outputs": [
    {
     "data": {
      "text/plain": "   label                                               text\n0      0  Go until jurong point, crazy.. Available only ...\n1      0                      Ok lar... Joking wif u oni...\n2      1  Free entry in 2 a wkly comp to win FA Cup fina...\n3      0  U dun say so early hor... U c already then say...\n4      0  Nah I don't think he goes to usf, he lives aro...\n5      1  FreeMsg Hey there darling it's been 3 week's n...\n6      0  Even my brother is not like to speak with me. ...\n7      0  As per your request 'Melle Melle (Oru Minnamin...\n8      1  WINNER!! As a valued network customer you have...\n9      1  Had your mobile 11 months or more? U R entitle...",
      "text/html": "<div>\n<style scoped>\n    .dataframe tbody tr th:only-of-type {\n        vertical-align: middle;\n    }\n\n    .dataframe tbody tr th {\n        vertical-align: top;\n    }\n\n    .dataframe thead th {\n        text-align: right;\n    }\n</style>\n<table border=\"1\" class=\"dataframe\">\n  <thead>\n    <tr style=\"text-align: right;\">\n      <th></th>\n      <th>label</th>\n      <th>text</th>\n    </tr>\n  </thead>\n  <tbody>\n    <tr>\n      <th>0</th>\n      <td>0</td>\n      <td>Go until jurong point, crazy.. Available only ...</td>\n    </tr>\n    <tr>\n      <th>1</th>\n      <td>0</td>\n      <td>Ok lar... Joking wif u oni...</td>\n    </tr>\n    <tr>\n      <th>2</th>\n      <td>1</td>\n      <td>Free entry in 2 a wkly comp to win FA Cup fina...</td>\n    </tr>\n    <tr>\n      <th>3</th>\n      <td>0</td>\n      <td>U dun say so early hor... U c already then say...</td>\n    </tr>\n    <tr>\n      <th>4</th>\n      <td>0</td>\n      <td>Nah I don't think he goes to usf, he lives aro...</td>\n    </tr>\n    <tr>\n      <th>5</th>\n      <td>1</td>\n      <td>FreeMsg Hey there darling it's been 3 week's n...</td>\n    </tr>\n    <tr>\n      <th>6</th>\n      <td>0</td>\n      <td>Even my brother is not like to speak with me. ...</td>\n    </tr>\n    <tr>\n      <th>7</th>\n      <td>0</td>\n      <td>As per your request 'Melle Melle (Oru Minnamin...</td>\n    </tr>\n    <tr>\n      <th>8</th>\n      <td>1</td>\n      <td>WINNER!! As a valued network customer you have...</td>\n    </tr>\n    <tr>\n      <th>9</th>\n      <td>1</td>\n      <td>Had your mobile 11 months or more? U R entitle...</td>\n    </tr>\n  </tbody>\n</table>\n</div>"
     },
     "execution_count": 9,
     "metadata": {},
     "output_type": "execute_result"
    }
   ],
   "source": [
    "# перекодируем таргет цифрами\n",
    "data['label'] = data['label'].replace({'ham': 0, 'spam': 1})\n",
    "data.head(10)"
   ],
   "metadata": {
    "collapsed": false
   }
  },
  {
   "cell_type": "code",
   "execution_count": 10,
   "outputs": [
    {
     "data": {
      "text/plain": "<Figure size 640x480 with 1 Axes>",
      "image/png": "[encoded data removed]"
     },
     "metadata": {},
     "output_type": "display_data"
    }
   ],
   "source": [
    "data['label'].value_counts().plot(kind='bar', color=['cyan'])\n",
    "\n",
    "plt.title('Disbalanced Target')\n",
    "plt.xlabel('Categories')\n",
    "plt.ylabel('Frequency')\n",
    "plt.show();"
   ],
   "metadata": {
    "collapsed": false
   }
  },
  {
   "cell_type": "markdown",
   "source": [
    "### Начинаем с простых baselines\n",
    "\n",
    "Это всегда хорошая практика - сначала попробовать что-то предельно простое. В нашем случае это будет логистическая регрессия + мешок слов (Bag of Words, BoW)."
   ],
   "metadata": {
    "collapsed": false
   }
  },
  {
   "cell_type": "code",
   "execution_count": 11,
   "outputs": [],
   "source": [
    "train, test = train_test_split(data, test_size=0.2)"
   ],
   "metadata": {
    "collapsed": false
   }
  },
  {
   "cell_type": "code",
   "execution_count": 12,
   "outputs": [],
   "source": [
    "X_train = train.drop(columns=['label'])\n",
    "y_train = train[['label']]\n",
    "\n",
    "X_test = test.drop(columns=['label'])\n",
    "y_test = test[['label']]"
   ],
   "metadata": {
    "collapsed": false
   }
  },
  {
   "cell_type": "code",
   "execution_count": 13,
   "outputs": [
    {
     "data": {
      "text/plain": "      label                                               text\n5491      0  U studying in sch or going home? Anyway i'll b...",
      "text/html": "<div>\n<style scoped>\n    .dataframe tbody tr th:only-of-type {\n        vertical-align: middle;\n    }\n\n    .dataframe tbody tr th {\n        vertical-align: top;\n    }\n\n    .dataframe thead th {\n        text-align: right;\n    }\n</style>\n<table border=\"1\" class=\"dataframe\">\n  <thead>\n    <tr style=\"text-align: right;\">\n      <th></th>\n      <th>label</th>\n      <th>text</th>\n    </tr>\n  </thead>\n  <tbody>\n    <tr>\n      <th>5491</th>\n      <td>0</td>\n      <td>U studying in sch or going home? Anyway i'll b...</td>\n    </tr>\n  </tbody>\n</table>\n</div>"
     },
     "execution_count": 13,
     "metadata": {},
     "output_type": "execute_result"
    }
   ],
   "source": [
    "train.sample()"
   ],
   "metadata": {
    "collapsed": false
   }
  },
  {
   "cell_type": "code",
   "execution_count": 14,
   "outputs": [
    {
     "data": {
      "text/plain": "      label                                               text\n3525      0  \\HEY BABE! FAR 2 SPUN-OUT 2 SPK AT DA MO... DE...",
      "text/html": "<div>\n<style scoped>\n    .dataframe tbody tr th:only-of-type {\n        vertical-align: middle;\n    }\n\n    .dataframe tbody tr th {\n        vertical-align: top;\n    }\n\n    .dataframe thead th {\n        text-align: right;\n    }\n</style>\n<table border=\"1\" class=\"dataframe\">\n  <thead>\n    <tr style=\"text-align: right;\">\n      <th></th>\n      <th>label</th>\n      <th>text</th>\n    </tr>\n  </thead>\n  <tbody>\n    <tr>\n      <th>3525</th>\n      <td>0</td>\n      <td>\\HEY BABE! FAR 2 SPUN-OUT 2 SPK AT DA MO... DE...</td>\n    </tr>\n  </tbody>\n</table>\n</div>"
     },
     "execution_count": 14,
     "metadata": {},
     "output_type": "execute_result"
    }
   ],
   "source": [
    "test.sample()"
   ],
   "metadata": {
    "collapsed": false
   }
  },
  {
   "cell_type": "code",
   "execution_count": 15,
   "outputs": [
    {
     "data": {
      "text/plain": "      label\n2069      1",
      "text/html": "<div>\n<style scoped>\n    .dataframe tbody tr th:only-of-type {\n        vertical-align: middle;\n    }\n\n    .dataframe tbody tr th {\n        vertical-align: top;\n    }\n\n    .dataframe thead th {\n        text-align: right;\n    }\n</style>\n<table border=\"1\" class=\"dataframe\">\n  <thead>\n    <tr style=\"text-align: right;\">\n      <th></th>\n      <th>label</th>\n    </tr>\n  </thead>\n  <tbody>\n    <tr>\n      <th>2069</th>\n      <td>1</td>\n    </tr>\n  </tbody>\n</table>\n</div>"
     },
     "execution_count": 15,
     "metadata": {},
     "output_type": "execute_result"
    }
   ],
   "source": [
    "y_train.sample()"
   ],
   "metadata": {
    "collapsed": false
   }
  },
  {
   "cell_type": "code",
   "execution_count": 16,
   "outputs": [
    {
     "data": {
      "text/plain": "      label\n4051      0",
      "text/html": "<div>\n<style scoped>\n    .dataframe tbody tr th:only-of-type {\n        vertical-align: middle;\n    }\n\n    .dataframe tbody tr th {\n        vertical-align: top;\n    }\n\n    .dataframe thead th {\n        text-align: right;\n    }\n</style>\n<table border=\"1\" class=\"dataframe\">\n  <thead>\n    <tr style=\"text-align: right;\">\n      <th></th>\n      <th>label</th>\n    </tr>\n  </thead>\n  <tbody>\n    <tr>\n      <th>4051</th>\n      <td>0</td>\n    </tr>\n  </tbody>\n</table>\n</div>"
     },
     "execution_count": 16,
     "metadata": {},
     "output_type": "execute_result"
    }
   ],
   "source": [
    "y_test.sample()"
   ],
   "metadata": {
    "collapsed": false
   }
  },
  {
   "cell_type": "code",
   "execution_count": 17,
   "outputs": [
    {
     "data": {
      "text/plain": "array([0, 0, 0, ..., 0, 0, 0], dtype=int64)"
     },
     "execution_count": 17,
     "metadata": {},
     "output_type": "execute_result"
    }
   ],
   "source": [
    "y_test = y_test['label'].values\n",
    "y_test"
   ],
   "metadata": {
    "collapsed": false
   }
  },
  {
   "cell_type": "code",
   "execution_count": 18,
   "outputs": [],
   "source": [
    "# строим BoW для слов\n",
    "vec = CountVectorizer(ngram_range=(1, 1), token_pattern='\\w{3,}')"
   ],
   "metadata": {
    "collapsed": false
   }
  },
  {
   "cell_type": "code",
   "execution_count": 19,
   "outputs": [],
   "source": [
    "bow = vec.fit_transform(train['text'])"
   ],
   "metadata": {
    "collapsed": false
   }
  },
  {
   "cell_type": "code",
   "execution_count": 20,
   "outputs": [
    {
     "data": {
      "text/plain": "<4457x7413 sparse matrix of type '<class 'numpy.int64'>'\n\twith 47744 stored elements in Compressed Sparse Row format>"
     },
     "execution_count": 20,
     "metadata": {},
     "output_type": "execute_result"
    }
   ],
   "source": [
    "bow"
   ],
   "metadata": {
    "collapsed": false
   }
  },
  {
   "cell_type": "code",
   "execution_count": 21,
   "outputs": [
    {
     "name": "stdout",
     "output_type": "stream",
     "text": [
      "Any chance you might have had with me evaporated as soon as you violated my privacy by stealing my phone number from your employer's paperwork. Not cool at all. Please do not contact me again or I will report you to your supervisor.\n"
     ]
    }
   ],
   "source": [
    "print(train.text[333])"
   ],
   "metadata": {
    "collapsed": false
   }
  },
  {
   "cell_type": "code",
   "execution_count": 22,
   "outputs": [
    {
     "data": {
      "text/plain": "[('send', 5754),\n ('birthdate', 1282),\n ('with', 7228),\n ('month', 4385),\n ('and', 893),\n ('year', 7344),\n ('will', 7201),\n ('tel', 6468),\n ('life', 3924),\n ('partner', 4866)]"
     },
     "execution_count": 22,
     "metadata": {},
     "output_type": "execute_result"
    }
   ],
   "source": [
    "list(vec.vocabulary_.items())[:10]"
   ],
   "metadata": {
    "collapsed": false
   }
  },
  {
   "cell_type": "code",
   "execution_count": 23,
   "outputs": [
    {
     "data": {
      "text/plain": "[('000', 0),\n ('000pes', 1),\n ('008704050406', 2),\n ('0089', 3),\n ('0121', 4),\n ('01223585236', 5),\n ('01223585334', 6),\n ('0125698789', 7),\n ('0207', 8),\n ('02072069400', 9)]"
     },
     "execution_count": 23,
     "metadata": {},
     "output_type": "execute_result"
    }
   ],
   "source": [
    "sorted(list(vec.vocabulary_.items()), key=lambda x: x[0])[:10]"
   ],
   "metadata": {
    "collapsed": false
   }
  },
  {
   "cell_type": "code",
   "execution_count": 24,
   "outputs": [
    {
     "data": {
      "text/plain": "['staff',\n 'placement',\n 'training',\n 'amrita',\n 'college',\n 'cps',\n 'causing',\n 'the',\n 'outages',\n 'conserve']"
     },
     "execution_count": 24,
     "metadata": {},
     "output_type": "execute_result"
    }
   ],
   "source": [
    "list(vec.vocabulary_.keys())[:10]"
   ],
   "metadata": {
    "collapsed": false
   }
  },
  {
   "cell_type": "code",
   "execution_count": 25,
   "outputs": [
    {
     "data": {
      "text/plain": "7507"
     },
     "execution_count": 25,
     "metadata": {},
     "output_type": "execute_result"
    }
   ],
   "source": [
    "len(vec.vocabulary_.items())"
   ],
   "metadata": {
    "collapsed": false
   }
  },
  {
   "cell_type": "markdown",
   "source": [
    "### Logistic Regression (baseline)"
   ],
   "metadata": {
    "collapsed": false
   }
  },
  {
   "cell_type": "code",
   "execution_count": 27,
   "outputs": [
    {
     "name": "stderr",
     "output_type": "stream",
     "text": [
      "C:\\Users\\HOME\\AppData\\Local\\Programs\\Python\\Python39\\lib\\site-packages\\sklearn\\utils\\validation.py:1143: DataConversionWarning: A column-vector y was passed when a 1d array was expected. Please change the shape of y to (n_samples, ), for example using ravel().\n",
      "  y = column_or_1d(y, warn=True)\n"
     ]
    },
    {
     "data": {
      "text/plain": "LogisticRegression(max_iter=500, random_state=42)",
      "text/html": "<style>#sk-container-id-2 {color: black;background-color: white;}#sk-container-id-2 pre{padding: 0;}#sk-container-id-2 div.sk-toggleable {background-color: white;}#sk-container-id-2 label.sk-toggleable__label {cursor: pointer;display: block;width: 100%;margin-bottom: 0;padding: 0.3em;box-sizing: border-box;text-align: center;}#sk-container-id-2 label.sk-toggleable__label-arrow:before {content: \"▸\";float: left;margin-right: 0.25em;color: #696969;}#sk-container-id-2 label.sk-toggleable__label-arrow:hover:before {color: black;}#sk-container-id-2 div.sk-estimator:hover label.sk-toggleable__label-arrow:before {color: black;}#sk-container-id-2 div.sk-toggleable__content {max-height: 0;max-width: 0;overflow: hidden;text-align: left;background-color: #f0f8ff;}#sk-container-id-2 div.sk-toggleable__content pre {margin: 0.2em;color: black;border-radius: 0.25em;background-color: #f0f8ff;}#sk-container-id-2 input.sk-toggleable__control:checked~div.sk-toggleable__content {max-height: 200px;max-width: 100%;overflow: auto;}#sk-container-id-2 input.sk-toggleable__control:checked~label.sk-toggleable__label-arrow:before {content: \"▾\";}#sk-container-id-2 div.sk-estimator input.sk-toggleable__control:checked~label.sk-toggleable__label {background-color: #d4ebff;}#sk-container-id-2 div.sk-label input.sk-toggleable__control:checked~label.sk-toggleable__label {background-color: #d4ebff;}#sk-container-id-2 input.sk-hidden--visually {border: 0;clip: rect(1px 1px 1px 1px);clip: rect(1px, 1px, 1px, 1px);height: 1px;margin: -1px;overflow: hidden;padding: 0;position: absolute;width: 1px;}#sk-container-id-2 div.sk-estimator {font-family: monospace;background-color: #f0f8ff;border: 1px dotted black;border-radius: 0.25em;box-sizing: border-box;margin-bottom: 0.5em;}#sk-container-id-2 div.sk-estimator:hover {background-color: #d4ebff;}#sk-container-id-2 div.sk-parallel-item::after {content: \"\";width: 100%;border-bottom: 1px solid gray;flex-grow: 1;}#sk-container-id-2 div.sk-label:hover label.sk-toggleable__label {background-color: #d4ebff;}#sk-container-id-2 div.sk-serial::before {content: \"\";position: absolute;border-left: 1px solid gray;box-sizing: border-box;top: 0;bottom: 0;left: 50%;z-index: 0;}#sk-container-id-2 div.sk-serial {display: flex;flex-direction: column;align-items: center;background-color: white;padding-right: 0.2em;padding-left: 0.2em;position: relative;}#sk-container-id-2 div.sk-item {position: relative;z-index: 1;}#sk-container-id-2 div.sk-parallel {display: flex;align-items: stretch;justify-content: center;background-color: white;position: relative;}#sk-container-id-2 div.sk-item::before, #sk-container-id-2 div.sk-parallel-item::before {content: \"\";position: absolute;border-left: 1px solid gray;box-sizing: border-box;top: 0;bottom: 0;left: 50%;z-index: -1;}#sk-container-id-2 div.sk-parallel-item {display: flex;flex-direction: column;z-index: 1;position: relative;background-color: white;}#sk-container-id-2 div.sk-parallel-item:first-child::after {align-self: flex-end;width: 50%;}#sk-container-id-2 div.sk-parallel-item:last-child::after {align-self: flex-start;width: 50%;}#sk-container-id-2 div.sk-parallel-item:only-child::after {width: 0;}#sk-container-id-2 div.sk-dashed-wrapped {border: 1px dashed gray;margin: 0 0.4em 0.5em 0.4em;box-sizing: border-box;padding-bottom: 0.4em;background-color: white;}#sk-container-id-2 div.sk-label label {font-family: monospace;font-weight: bold;display: inline-block;line-height: 1.2em;}#sk-container-id-2 div.sk-label-container {text-align: center;}#sk-container-id-2 div.sk-container {/* jupyter's `normalize.less` sets `[hidden] { display: none; }` but bootstrap.min.css set `[hidden] { display: none !important; }` so we also need the `!important` here to be able to override the default hidden behavior on the sphinx rendered scikit-learn.org. See: https://github.com/scikit-learn/scikit-learn/issues/21755 */display: inline-block !important;position: relative;}#sk-container-id-2 div.sk-text-repr-fallback {display: none;}</style><div id=\"sk-container-id-2\" class=\"sk-top-container\"><div class=\"sk-text-repr-fallback\"><pre>LogisticRegression(max_iter=500, random_state=42)</pre><b>In a Jupyter environment, please rerun this cell to show the HTML representation or trust the notebook. <br />On GitHub, the HTML representation is unable to render, please try loading this page with nbviewer.org.</b></div><div class=\"sk-container\" hidden><div class=\"sk-item\"><div class=\"sk-estimator sk-toggleable\"><input class=\"sk-toggleable__control sk-hidden--visually\" id=\"sk-estimator-id-2\" type=\"checkbox\" checked><label for=\"sk-estimator-id-2\" class=\"sk-toggleable__label sk-toggleable__label-arrow\">LogisticRegression</label><div class=\"sk-toggleable__content\"><pre>LogisticRegression(max_iter=500, random_state=42)</pre></div></div></div></div></div>"
     },
     "execution_count": 27,
     "metadata": {},
     "output_type": "execute_result"
    }
   ],
   "source": [
    "clf = LogisticRegression(random_state=42, max_iter=500)\n",
    "clf.fit(bow, y_train)"
   ],
   "metadata": {
    "collapsed": false
   }
  },
  {
   "cell_type": "code",
   "execution_count": 28,
   "outputs": [
    {
     "data": {
      "text/plain": "7507"
     },
     "execution_count": 28,
     "metadata": {},
     "output_type": "execute_result"
    }
   ],
   "source": [
    "len(clf.coef_[0])"
   ],
   "metadata": {
    "collapsed": false
   }
  },
  {
   "cell_type": "code",
   "execution_count": 29,
   "outputs": [
    {
     "data": {
      "text/plain": "<1115x7507 sparse matrix of type '<class 'numpy.int64'>'\n\twith 10940 stored elements in Compressed Sparse Row format>"
     },
     "execution_count": 29,
     "metadata": {},
     "output_type": "execute_result"
    }
   ],
   "source": [
    "bow_test = vec.transform(test['text'])\n",
    "bow_test"
   ],
   "metadata": {
    "collapsed": false
   }
  },
  {
   "cell_type": "code",
   "execution_count": 30,
   "outputs": [
    {
     "data": {
      "text/plain": "array([0, 0, 1, 0, 0, 0, 0, 0, 0, 0], dtype=int64)"
     },
     "execution_count": 30,
     "metadata": {},
     "output_type": "execute_result"
    }
   ],
   "source": [
    "pred = clf.predict(bow_test)\n",
    "pred[:10]"
   ],
   "metadata": {
    "collapsed": false
   }
  },
  {
   "cell_type": "code",
   "execution_count": 31,
   "outputs": [
    {
     "data": {
      "text/plain": "0.9811659192825112"
     },
     "execution_count": 31,
     "metadata": {},
     "output_type": "execute_result"
    }
   ],
   "source": [
    "accuracy_score(pred, y_test)"
   ],
   "metadata": {
    "collapsed": false
   }
  },
  {
   "cell_type": "code",
   "execution_count": 32,
   "outputs": [
    {
     "name": "stdout",
     "output_type": "stream",
     "text": [
      "              precision    recall  f1-score   support\n",
      "\n",
      "           0       1.00      0.98      0.99       999\n",
      "           1       0.86      0.98      0.92       116\n",
      "\n",
      "    accuracy                           0.98      1115\n",
      "   macro avg       0.93      0.98      0.95      1115\n",
      "weighted avg       0.98      0.98      0.98      1115\n",
      "\n"
     ]
    }
   ],
   "source": [
    "print(classification_report(pred, y_test))"
   ],
   "metadata": {
    "collapsed": false
   }
  },
  {
   "cell_type": "markdown",
   "source": [
    "### *Вывод:*\n",
    "\n",
    "**В данном случае, модель показала высокую точность (precision) и полноту (recall) для класса 0, а также высокую точность для класса 1. Однако полнота для класса 1 немного ниже, чем для класса 0, что может означать, что модель не совсем точно определяет объекты этого класса.**\n",
    "\n",
    "Также стоит обратить внимание на F1-меру, которая учитывает как точность, так и полноту. F1-мера равна 0.92 для класса 1, что может говорить о том, что модель делает ошибки в классификации этого класса.\n",
    "\n",
    "* Precision (точность) - это доля истинно положительных результатов из всех положительных результатов, которые модель предсказала. Для класса 0 точность равна 1.0, а для класса 1 - 0.85.\n",
    "\n",
    "* Recall (полнота) - это доля истинно положительных результатов, которые модель предсказала, относительно всех реальных положительных результатов. Для класса 0 полнота равна 0.98, а для класса 1 - 0.99.\n",
    "\n",
    "* F1-score - это среднее гармоническое между точностью и полнотой. Он показывает, насколько хорошо модель справляется с обнаружением положительных результатов. F1-мера равна 0,99 для класса 0 и 0,92 для класса 1.\n",
    "\n",
    "* Support - это количество примеров каждого класса в тестовом наборе данных.\n",
    "\n",
    "* Accuracy (точность классификации) - это доля правильно классифицированных примеров. Здесь она равна 0,98.\n",
    "\n",
    "* Macro avg - это среднее значение метрик (precision, recall, f1-score) для каждого класса без учета их дисбаланса. В данном случае, macro avg precision, recall и f1-score равны 0,93.\n",
    "\n",
    "* Weighted avg - это взвешенное среднее метрик с учетом дисбаланса классов. В данном случае, weighted avg precision, recall и f1-score равны 0,98."
   ],
   "metadata": {
    "collapsed": false
   }
  },
  {
   "cell_type": "markdown",
   "source": [
    "#### Попробуем добавить препроцессинг текста и посмотрим, улучшится ли качество модели.\n",
    "\n",
    "Препроцессинг, как правило, включает удаление небуквенных символов, топ-слов и нормализацию (стемминг - приведение к основе слова - или лемматизацию - приведение слов к начальной форме).\n",
    "\n",
    "Кроме того, заменим мешок слов на TF-IDF матрицу. В качестве модели оставим логистическую регрессию."
   ],
   "metadata": {
    "collapsed": false
   }
  },
  {
   "cell_type": "code",
   "execution_count": 33,
   "outputs": [],
   "source": [
    "# !pip install pymorphy2 -qq"
   ],
   "metadata": {
    "collapsed": false
   }
  },
  {
   "cell_type": "markdown",
   "source": [
    "### Напишем необходимые функции для препроцессинга.\n",
    "\n",
    "1. (f1) Функция для удаления небуквенных символов из текста.\n",
    "2. (f2) Функция для удаления небуквенных символов\n",
    "2. (f3) Функция для лемматизации.\n",
    "3. (f4) Функция для удаления коротких (менее 3 символов) и стоп-слов."
   ],
   "metadata": {
    "collapsed": false
   }
  },
  {
   "cell_type": "code",
   "execution_count": 115,
   "outputs": [],
   "source": [
    "import re"
   ],
   "metadata": {
    "collapsed": false
   }
  },
  {
   "cell_type": "code",
   "execution_count": 116,
   "outputs": [],
   "source": [
    "# f1\n",
    "# Создание регулярного выражения для английского алфавита\n",
    "m = MorphAnalyzer()\n",
    "regex = re.compile(\"[a-z]+\")\n",
    "\n",
    "def words_only(text, regex=regex):\n",
    "    try:\n",
    "        # Приведение текста к нижнему регистру и поиск всех слов, соответствующих регулярному выражению\n",
    "        return regex.findall(text.lower())\n",
    "    except:\n",
    "        # Если происходит ошибка, возвращаем пустой список\n",
    "        return []"
   ],
   "metadata": {
    "collapsed": false
   }
  },
  {
   "cell_type": "code",
   "execution_count": 117,
   "outputs": [
    {
     "data": {
      "text/plain": "'Ok lar... Joking wif u oni...'"
     },
     "execution_count": 117,
     "metadata": {},
     "output_type": "execute_result"
    }
   ],
   "source": [
    "# testing the function\n",
    "train.text[1]"
   ],
   "metadata": {
    "collapsed": false
   }
  },
  {
   "cell_type": "code",
   "execution_count": 118,
   "outputs": [
    {
     "data": {
      "text/plain": "['ok', 'lar', 'joking', 'wif', 'u', 'oni']"
     },
     "execution_count": 118,
     "metadata": {},
     "output_type": "execute_result"
    }
   ],
   "source": [
    "words_only(train.text[1])"
   ],
   "metadata": {
    "collapsed": false
   }
  },
  {
   "cell_type": "code",
   "execution_count": 119,
   "outputs": [],
   "source": [
    "# f2\n",
    "@lru_cache(maxsize=128)\n",
    "def lemmatize_word(token, pymorphy=m):\n",
    "    return pymorphy.parse(token)[0].normal_form\n",
    "\n",
    "# f3\n",
    "def lemmatize_text(text):\n",
    "    return [lemmatize_word(w) for w in text]\n",
    "\n",
    "mystopwords = stopwords.words('english')\n",
    "\n",
    "# f4\n",
    "def remove_stopwords(lemmas, stopwords=mystopwords):\n",
    "    return [w for w in lemmas if not w in stopwords and len(w) > 3]\n",
    "\n",
    "# applying all\n",
    "def clean_text(text):\n",
    "    tokens = words_only(text)\n",
    "    lemmas = lemmatize_text(tokens)\n",
    "\n",
    "    return ' '.join(remove_stopwords(lemmas))"
   ],
   "metadata": {
    "collapsed": false
   }
  },
  {
   "cell_type": "code",
   "execution_count": 120,
   "outputs": [
    {
     "name": "stdout",
     "output_type": "stream",
     "text": [
      "CPU times: total: 0 ns\n",
      "Wall time: 1 ms\n"
     ]
    },
    {
     "data": {
      "text/plain": "'outstanding world'"
     },
     "execution_count": 120,
     "metadata": {},
     "output_type": "execute_result"
    }
   ],
   "source": [
    "%time lemmatize_word('outstanding world')"
   ],
   "metadata": {
    "collapsed": false
   }
  },
  {
   "cell_type": "code",
   "execution_count": 121,
   "outputs": [
    {
     "data": {
      "text/plain": "'Ok lar... Joking wif u oni...'"
     },
     "execution_count": 121,
     "metadata": {},
     "output_type": "execute_result"
    }
   ],
   "source": [
    "train.text[1]"
   ],
   "metadata": {
    "collapsed": false
   }
  },
  {
   "cell_type": "code",
   "execution_count": 122,
   "outputs": [
    {
     "data": {
      "text/plain": "'joking'"
     },
     "execution_count": 122,
     "metadata": {},
     "output_type": "execute_result"
    }
   ],
   "source": [
    "# testing the cleaning functions\n",
    "clean_text(train.text[1])"
   ],
   "metadata": {
    "collapsed": false
   }
  },
  {
   "cell_type": "markdown",
   "source": [
    "#### Функции работают, проводим препроцессинг для train и test выборок."
   ],
   "metadata": {
    "collapsed": false
   }
  },
  {
   "cell_type": "code",
   "execution_count": 123,
   "outputs": [
    {
     "name": "stderr",
     "output_type": "stream",
     "text": [
      "100%|██████████| 4457/4457 [00:00<00:00, 5872.78it/s]\n"
     ]
    },
    {
     "data": {
      "text/plain": "      label                                               text  \\\n4207      0  Or i go home first lar Ì_ wait 4 me lor.. I pu...   \n4902      0               \\I;m reaching in another 2 stops.\\\"\"   \n5276      0  Dunno leh cant remember mayb lor. So wat time ...   \n681       0                     ÌÏ log off 4 wat. It's sdryb8i   \n4610      0                                Wat time Ì_ finish?   \n\n                                     lemmas  \\\n4207            home first wait stuff first   \n4902                 reaching another stops   \n5276  dunno cant remember mayb time meeting   \n681                                   sdryb   \n4610                            time finish   \n\n                                          w2v_embedding  \\\n4207  [-0.000543399597518146, 0.03698877617716789, 0...   \n4902  [-0.00041641556890681386, 0.02654660865664482,...   \n5276  [-0.0013092289979492004, 0.026340352992216747,...   \n681   [0.0, 0.0, 0.0, 0.0, 0.0, 0.0, 0.0, 0.0, 0.0, ...   \n4610  [-0.0004960598307661712, 0.04001572635024786, ...   \n\n                                           ft_embedding  \n4207  [0.05041737146010356, -0.05347472412644753, -0...  \n4902  [0.013876400189474225, -0.040173141402192414, ...  \n5276  [-0.009408633379886547, -0.06609238358214498, ...  \n681   [0.029583919793367386, 0.06998465093784034, 0....  \n4610  [0.020060984417796135, -0.01158096082508564, -...  ",
      "text/html": "<div>\n<style scoped>\n    .dataframe tbody tr th:only-of-type {\n        vertical-align: middle;\n    }\n\n    .dataframe tbody tr th {\n        vertical-align: top;\n    }\n\n    .dataframe thead th {\n        text-align: right;\n    }\n</style>\n<table border=\"1\" class=\"dataframe\">\n  <thead>\n    <tr style=\"text-align: right;\">\n      <th></th>\n      <th>label</th>\n      <th>text</th>\n      <th>lemmas</th>\n      <th>w2v_embedding</th>\n      <th>ft_embedding</th>\n    </tr>\n  </thead>\n  <tbody>\n    <tr>\n      <th>4207</th>\n      <td>0</td>\n      <td>Or i go home first lar Ì_ wait 4 me lor.. I pu...</td>\n      <td>home first wait stuff first</td>\n      <td>[-0.000543399597518146, 0.03698877617716789, 0...</td>\n      <td>[0.05041737146010356, -0.05347472412644753, -0...</td>\n    </tr>\n    <tr>\n      <th>4902</th>\n      <td>0</td>\n      <td>\\I;m reaching in another 2 stops.\\\"\"</td>\n      <td>reaching another stops</td>\n      <td>[-0.00041641556890681386, 0.02654660865664482,...</td>\n      <td>[0.013876400189474225, -0.040173141402192414, ...</td>\n    </tr>\n    <tr>\n      <th>5276</th>\n      <td>0</td>\n      <td>Dunno leh cant remember mayb lor. So wat time ...</td>\n      <td>dunno cant remember mayb time meeting</td>\n      <td>[-0.0013092289979492004, 0.026340352992216747,...</td>\n      <td>[-0.009408633379886547, -0.06609238358214498, ...</td>\n    </tr>\n    <tr>\n      <th>681</th>\n      <td>0</td>\n      <td>ÌÏ log off 4 wat. It's sdryb8i</td>\n      <td>sdryb</td>\n      <td>[0.0, 0.0, 0.0, 0.0, 0.0, 0.0, 0.0, 0.0, 0.0, ...</td>\n      <td>[0.029583919793367386, 0.06998465093784034, 0....</td>\n    </tr>\n    <tr>\n      <th>4610</th>\n      <td>0</td>\n      <td>Wat time Ì_ finish?</td>\n      <td>time finish</td>\n      <td>[-0.0004960598307661712, 0.04001572635024786, ...</td>\n      <td>[0.020060984417796135, -0.01158096082508564, -...</td>\n    </tr>\n  </tbody>\n</table>\n</div>"
     },
     "execution_count": 123,
     "metadata": {},
     "output_type": "execute_result"
    }
   ],
   "source": [
    "lemmas = list(tqdm(map(clean_text, train['text']), total=len(train)))\n",
    "\n",
    "train['lemmas'] = lemmas\n",
    "train.sample(5)"
   ],
   "metadata": {
    "collapsed": false
   }
  },
  {
   "cell_type": "code",
   "execution_count": 124,
   "outputs": [
    {
     "name": "stderr",
     "output_type": "stream",
     "text": [
      "100%|██████████| 1115/1115 [00:00<00:00, 5956.86it/s]\n"
     ]
    },
    {
     "data": {
      "text/plain": "      label                                               text  \\\n1471      0  Oh. U must have taken your REAL Valentine out ...   \n4199      0                            I will come tomorrow di   \n2134      0  If he started searching he will get job in few...   \n3514      0                   I'm job profile seems like bpo..   \n3708      0               Ok.ok ok..then..whats ur todays plan   \n\n                                             lemmas  \\\n1471       must taken real valentine shopping first   \n4199                                  come tomorrow   \n2134  started searching days great potential talent   \n3514                             profile seems like   \n3708                              whats todays plan   \n\n                                          w2v_embedding  \\\n1471  [0.0016672755009494722, 0.027477499097585678, ...   \n4199  [0.0017443140968680382, 0.03964747488498688, 0...   \n2134  [-0.002422505902359262, 0.028905640977124374, ...   \n3514  [-0.007187643088400364, 0.055316630750894547, ...   \n3708  [0.0012923784088343382, 0.016592067355910938, ...   \n\n                                           ft_embedding  \n1471  [0.021809755147180775, -0.043560537763617256, ...  \n4199  [-0.04405460488051176, -0.015770922973752023, ...  \n2134  [0.018386028396586578, -0.04373697893073161, 0...  \n3514  [0.021234225761145354, 0.06216824539005757, 0....  \n3708  [0.0545611617465814, -0.04441642062738538, 0.0...  ",
      "text/html": "<div>\n<style scoped>\n    .dataframe tbody tr th:only-of-type {\n        vertical-align: middle;\n    }\n\n    .dataframe tbody tr th {\n        vertical-align: top;\n    }\n\n    .dataframe thead th {\n        text-align: right;\n    }\n</style>\n<table border=\"1\" class=\"dataframe\">\n  <thead>\n    <tr style=\"text-align: right;\">\n      <th></th>\n      <th>label</th>\n      <th>text</th>\n      <th>lemmas</th>\n      <th>w2v_embedding</th>\n      <th>ft_embedding</th>\n    </tr>\n  </thead>\n  <tbody>\n    <tr>\n      <th>1471</th>\n      <td>0</td>\n      <td>Oh. U must have taken your REAL Valentine out ...</td>\n      <td>must taken real valentine shopping first</td>\n      <td>[0.0016672755009494722, 0.027477499097585678, ...</td>\n      <td>[0.021809755147180775, -0.043560537763617256, ...</td>\n    </tr>\n    <tr>\n      <th>4199</th>\n      <td>0</td>\n      <td>I will come tomorrow di</td>\n      <td>come tomorrow</td>\n      <td>[0.0017443140968680382, 0.03964747488498688, 0...</td>\n      <td>[-0.04405460488051176, -0.015770922973752023, ...</td>\n    </tr>\n    <tr>\n      <th>2134</th>\n      <td>0</td>\n      <td>If he started searching he will get job in few...</td>\n      <td>started searching days great potential talent</td>\n      <td>[-0.002422505902359262, 0.028905640977124374, ...</td>\n      <td>[0.018386028396586578, -0.04373697893073161, 0...</td>\n    </tr>\n    <tr>\n      <th>3514</th>\n      <td>0</td>\n      <td>I'm job profile seems like bpo..</td>\n      <td>profile seems like</td>\n      <td>[-0.007187643088400364, 0.055316630750894547, ...</td>\n      <td>[0.021234225761145354, 0.06216824539005757, 0....</td>\n    </tr>\n    <tr>\n      <th>3708</th>\n      <td>0</td>\n      <td>Ok.ok ok..then..whats ur todays plan</td>\n      <td>whats todays plan</td>\n      <td>[0.0012923784088343382, 0.016592067355910938, ...</td>\n      <td>[0.0545611617465814, -0.04441642062738538, 0.0...</td>\n    </tr>\n  </tbody>\n</table>\n</div>"
     },
     "execution_count": 124,
     "metadata": {},
     "output_type": "execute_result"
    }
   ],
   "source": [
    "lemmas_test = list(tqdm(map(clean_text, test['text']), total=len(test)))\n",
    "\n",
    "test['lemmas'] = lemmas_test\n",
    "test.sample(5)"
   ],
   "metadata": {
    "collapsed": false
   }
  },
  {
   "cell_type": "markdown",
   "source": [
    "#### Считаем TF-IDF матрицу и обучаем модель:"
   ],
   "metadata": {
    "collapsed": false
   }
  },
  {
   "cell_type": "code",
   "execution_count": 125,
   "outputs": [
    {
     "data": {
      "text/plain": "0.9390134529147982"
     },
     "execution_count": 125,
     "metadata": {},
     "output_type": "execute_result"
    }
   ],
   "source": [
    "vec = TfidfVectorizer(ngram_range=(1, 2)) # строим BoW для слов\n",
    "tfidf = vec.fit_transform(train['lemmas'])\n",
    "\n",
    "clf = LogisticRegression(random_state=42, max_iter=500)\n",
    "clf.fit(tfidf, y_train)\n",
    "\n",
    "pred = clf.predict(vec.transform(test['lemmas']))\n",
    "accuracy_score(pred, y_test)"
   ],
   "metadata": {
    "collapsed": false
   }
  },
  {
   "cell_type": "code",
   "execution_count": 126,
   "outputs": [
    {
     "name": "stdout",
     "output_type": "stream",
     "text": [
      "              precision    recall  f1-score   support\n",
      "\n",
      "           0       0.99      0.94      0.97      1040\n",
      "           1       0.53      0.93      0.67        75\n",
      "\n",
      "    accuracy                           0.94      1115\n",
      "   macro avg       0.76      0.94      0.82      1115\n",
      "weighted avg       0.96      0.94      0.95      1115\n",
      "\n"
     ]
    }
   ],
   "source": [
    "print(classification_report(pred, y_test))"
   ],
   "metadata": {
    "collapsed": false
   }
  },
  {
   "cell_type": "markdown",
   "source": [
    "### Word2Vec\n",
    "\n",
    "Попробуем использовать эмбеддинги слов - для этого сперва обучим модель Word2Vec c помощью библиотеки gensim."
   ],
   "metadata": {
    "collapsed": false
   }
  },
  {
   "cell_type": "code",
   "execution_count": 127,
   "outputs": [
    {
     "data": {
      "text/plain": "      label                     text   lemmas  \\\n4035      0  How are you holding up?  holding   \n\n                                          w2v_embedding  \\\n4035  [0.0, 0.0, 0.0, 0.0, 0.0, 0.0, 0.0, 0.0, 0.0, ...   \n\n                                           ft_embedding  \n4035  [0.02890441135969013, -0.03259328380227089, 0....  ",
      "text/html": "<div>\n<style scoped>\n    .dataframe tbody tr th:only-of-type {\n        vertical-align: middle;\n    }\n\n    .dataframe tbody tr th {\n        vertical-align: top;\n    }\n\n    .dataframe thead th {\n        text-align: right;\n    }\n</style>\n<table border=\"1\" class=\"dataframe\">\n  <thead>\n    <tr style=\"text-align: right;\">\n      <th></th>\n      <th>label</th>\n      <th>text</th>\n      <th>lemmas</th>\n      <th>w2v_embedding</th>\n      <th>ft_embedding</th>\n    </tr>\n  </thead>\n  <tbody>\n    <tr>\n      <th>4035</th>\n      <td>0</td>\n      <td>How are you holding up?</td>\n      <td>holding</td>\n      <td>[0.0, 0.0, 0.0, 0.0, 0.0, 0.0, 0.0, 0.0, 0.0, ...</td>\n      <td>[0.02890441135969013, -0.03259328380227089, 0....</td>\n    </tr>\n  </tbody>\n</table>\n</div>"
     },
     "execution_count": 127,
     "metadata": {},
     "output_type": "execute_result"
    }
   ],
   "source": [
    "train.sample()"
   ],
   "metadata": {
    "collapsed": false
   }
  },
  {
   "cell_type": "code",
   "execution_count": 128,
   "outputs": [
    {
     "name": "stdout",
     "output_type": "stream",
     "text": [
      "CPU times: total: 0 ns\n",
      "Wall time: 0 ns\n"
     ]
    }
   ],
   "source": [
    "tokenized_emails = [email.split() for email in train['lemmas'].values]\n",
    "\n",
    "%time\n",
    "w2v = word2vec.Word2Vec(tokenized_emails, workers=4, vector_size=200, min_count=10, window=5, sample=1e-3)"
   ],
   "metadata": {
    "collapsed": false
   }
  },
  {
   "cell_type": "code",
   "execution_count": 129,
   "outputs": [
    {
     "data": {
      "text/plain": "[['staff', 'placement', 'training', 'amrita', 'college'],\n ['causing', 'outages', 'conserve', 'energy'],\n ['many', 'unfortunately', 'pics', 'obviously', 'arent', 'cakes', 'kinda'],\n ['pete', 'please', 'ring', 'meive', 'hardly', 'gotany', 'credit'],\n ['almost'],\n ['ummmmmaah',\n  'many',\n  'many',\n  'happy',\n  'returns',\n  'dear',\n  'sweet',\n  'heart',\n  'happy',\n  'birthday',\n  'dear'],\n ['sorry', 'call', 'later'],\n ['feel', 'real', 'valentine', 'valentine', 'even', 'hardly', 'play'],\n ['nosy', 'guess', 'reacting', 'freaked'],\n ['nice', 'dear'],\n ['engalnd', 'telly', 'decided', 'watch', 'elliot', 'kissing', 'damn'],\n ['regret',\n  'inform',\n  'made',\n  'mistake',\n  'never',\n  'actually',\n  'born',\n  'please',\n  'report',\n  'local',\n  'hospital',\n  'terminated',\n  'sorry',\n  'inconvenience'],\n ['trip', 'postponed', 'still', 'stocked'],\n [],\n ['finish', 'watching'],\n ['rather', 'prominent', 'bite', 'mark', 'right', 'cheek'],\n ['friendship',\n  'game',\n  'play',\n  'word',\n  'start',\n  'march',\n  'ends',\n  'tomorrow',\n  'yesterday',\n  'today'],\n ['home', 'always', 'chat'],\n ['glad', 'went', 'well', 'come', 'plenty', 'time', 'claire', 'goes', 'work'],\n ['host', 'based', 'idps', 'linux', 'systems'],\n ['bored', 'housewives', 'chat', 'date', 'national', 'rate', 'landlines'],\n ['hoping',\n  'would',\n  'send',\n  'message',\n  'rent',\n  'dont',\n  'enough',\n  'reserves',\n  'completely',\n  'gone',\n  'loan',\n  'need',\n  'hoping',\n  'could',\n  'balance',\n  'could',\n  'till',\n  'march',\n  'hope',\n  'back'],\n ['goodo', 'must', 'speak', 'friday', 'potato', 'ratio', 'tortilla', 'needed'],\n ['uhhhhrmm', 'isnt', 'test', 'youre', 'sick'],\n ['dare', 'luck', 'sorting'],\n ['sorry', 'friend', 'friend', 'stuff', 'talk', 'actual', 'wants'],\n ['remember', 'commercial'],\n ['haha', 'used', 'driving', 'know', 'stoners'],\n [],\n ['take', 'exam', 'march'],\n ['talk',\n  'atleast',\n  'otherwise',\n  'miss',\n  'best',\n  'friend',\n  'world',\n  'shakespeare',\n  'shesil'],\n ['dont', 'know', 'jabo'],\n ['really', 'need', 'shit', 'tomorrow', 'know', 'awake', 'like'],\n ['going', 'robinson', 'already'],\n ['anyway',\n  'cant',\n  'tickets',\n  'like',\n  'quite',\n  'late',\n  'already',\n  'look',\n  'frens',\n  'darren'],\n ['urgent',\n  'trying',\n  'contact',\n  'todays',\n  'draw',\n  'shows',\n  'prize',\n  'guaranteed',\n  'call',\n  'land',\n  'line',\n  'claim',\n  'valid'],\n ['okmail',\n  'dear',\n  'dave',\n  'final',\n  'notice',\n  'collect',\n  'tenerife',\n  'holiday',\n  'cash',\n  'award',\n  'call',\n  'landline'],\n ['think', 'thanks', 'tomo'],\n ['woke', 'yeesh', 'late', 'fall', 'asleep'],\n ['refused',\n  'loan',\n  'secured',\n  'unsecured',\n  'credit',\n  'call',\n  'free',\n  'text',\n  'back',\n  'help'],\n ['hiya',\n  'last',\n  'night',\n  'naughty',\n  'bought',\n  'clothes',\n  'little',\n  'ready',\n  'shopping',\n  'kind',\n  'time',\n  'wanna',\n  'meet'],\n ['know',\n  'dramatic',\n  'schools',\n  'already',\n  'closed',\n  'tomorrow',\n  'apparently',\n  'drive',\n  'inch',\n  'snow',\n  'supposed'],\n ['tell',\n  'shola',\n  'please',\n  'college',\n  'medicine',\n  'visit',\n  'academic',\n  'department',\n  'tell',\n  'academic',\n  'secretary',\n  'current',\n  'situation',\n  'transfer',\n  'someone',\n  'check',\n  'sagamu',\n  'thing',\n  'lautech',\n  'vital',\n  'completes',\n  'medical',\n  'education',\n  'nigeria',\n  'less',\n  'expensive',\n  'much',\n  'less',\n  'expensive',\n  'unless',\n  'getting',\n  'citizen',\n  'rates',\n  'zealand'],\n ['going', 'restaurant'],\n ['baby', 'study', 'positions', 'kama', 'sutra'],\n ['club',\n  'dont',\n  'fink',\n  'please',\n  'leave',\n  'area',\n  'reply',\n  'promised',\n  'carlie',\n  'calls',\n  'minmobsmore',\n  'lkpobox'],\n ['know', 'someone', 'great', 'inpersonation', 'flea', 'forums', 'love'],\n ['watching', 'movie', 'tonight', 'prob', 'home', 'early'],\n ['sarcasm', 'scarcasim'],\n ['urgent',\n  'attempt',\n  'contact',\n  'prize',\n  'yesterday',\n  'still',\n  'awaiting',\n  'collection',\n  'claim',\n  'call'],\n ['darlin',\n  'work',\n  'trouble',\n  'ijust',\n  'talked',\n  'morning',\n  'really',\n  'good',\n  'time',\n  'last',\n  'night',\n  'goin',\n  'soon',\n  'call'],\n ['check',\n  'mail',\n  'mailed',\n  'varma',\n  'kept',\n  'copy',\n  'regarding',\n  'membership',\n  'take',\n  'care',\n  'insha',\n  'allah'],\n ['ahhhh',\n  'woken',\n  'dream',\n  'dont',\n  'like',\n  'right',\n  'didnt',\n  'know',\n  'anything',\n  'comedy',\n  'night',\n  'guess'],\n ['barred',\n  'stores',\n  'life',\n  'twat',\n  'orange',\n  'dungerees',\n  'came',\n  'asked',\n  'wanted',\n  'decking',\n  'first',\n  'punch'],\n ['early', 'dinner', 'outside', 'izzit'],\n ['thing',\n  'good',\n  'thanx',\n  'exams',\n  'march',\n  'done',\n  'revision',\n  'fran',\n  'still',\n  'boyf',\n  'gotta',\n  'interviw',\n  'exeter',\n  'worried'],\n ['someone',\n  'conacted',\n  'dating',\n  'service',\n  'entered',\n  'phone',\n  'fancy',\n  'find',\n  'call',\n  'landline',\n  'pobox'],\n ['want', 'morow', 'dear', 'didnt', 'time'],\n ['brother',\n  'alert',\n  'computer',\n  'selected',\n  'cash',\n  'voucher',\n  'call',\n  'landline',\n  'cost',\n  'mobiles',\n  'vary'],\n ['getting',\n  'tickets',\n  'walsall',\n  'march',\n  'mate',\n  'getting',\n  'treat',\n  'want',\n  'terry'],\n ['gloucesterroad', 'later'],\n ['talking'],\n ['come', 'room', 'point', 'iron', 'plan', 'weekend'],\n ['project', 'come'],\n ['schedule'],\n ['watch', 'films'],\n ['lmao', 'know', 'well'],\n ['probably', 'almost', 'cash', 'tomorrow'],\n ['well', 'watch', 'shrek'],\n ['eerie',\n  'nokia',\n  'tones',\n  'rply',\n  'tone',\n  'title',\n  'tone',\n  'dracula',\n  'titles',\n  'ghost',\n  'addamsfa',\n  'munsters',\n  'exorcist',\n  'twilight',\n  'getzed',\n  'pobox'],\n ['aight', 'roommates'],\n ['pathaya', 'enketa', 'maraikara'],\n ['need', 'tell', 'anything', 'going', 'sleep', 'good', 'night'],\n ['wana', 'specialise'],\n ['tell', 'bslvyl', 'sent', 'fullonsms'],\n ['really', 'make', 'talent'],\n ['darlin',\n  'kate',\n  'doin',\n  'somethin',\n  'tonight',\n  'going',\n  'called',\n  'swan',\n  'something',\n  'parents',\n  'drink',\n  'phone'],\n ['time', 'tried', 'contact', 'prize', 'claim', 'call', 'stop'],\n ['final',\n  'chance',\n  'claim',\n  'worth',\n  'discount',\n  'vouchers',\n  'today',\n  'text',\n  'savamob',\n  'member',\n  'offers',\n  'mobile',\n  'savamob',\n  'pobox',\n  'subs'],\n ['small', 'boost', 'secret', 'energy'],\n ['guess', 'could', 'good', 'excuse'],\n ['thought', 'praps', 'meant', 'another', 'goodo', 'look', 'tomorrow'],\n ['combine'],\n ['probably',\n  'much',\n  'message',\n  'thought',\n  'bored',\n  'james',\n  'farting',\n  'night'],\n ['like', 'jerk'],\n ['hiya', 'probably', 'coming', 'home', 'weekend', 'next'],\n ['live', 'next', 'mins'],\n ['wait', 'know', 'wesleys', 'town', 'hella', 'drugs'],\n ['convey', 'regards'],\n ['good',\n  'morning',\n  'hope',\n  'good',\n  'weekend',\n  'called',\n  'know',\n  'able',\n  'raise',\n  'however',\n  'said',\n  'would',\n  'make',\n  'rest',\n  'available',\n  'amount',\n  'still',\n  'quite',\n  'short',\n  'hoping',\n  'would',\n  'help',\n  'good',\n  'abiola'],\n ['hiya',\n  'hows',\n  'going',\n  'sunny',\n  'africa',\n  'hope',\n  'avin',\n  'good',\n  'time',\n  'give',\n  'silver',\n  'back',\n  'kiss'],\n ['says', 'double', 'faggot'],\n ['know',\n  'yetunde',\n  'sent',\n  'money',\n  'sent',\n  'text',\n  'bother',\n  'sending',\n  'dont',\n  'involve',\n  'anything',\n  'imposed',\n  'anything',\n  'first',\n  'place',\n  'apologise'],\n ['realy', 'sorry', 'recognise', 'number', 'confused', 'please'],\n ['cool'],\n ['services',\n  'inclusive',\n  'text',\n  'credits',\n  'goto',\n  'comuk',\n  'login',\n  'unsubscribe',\n  'stop',\n  'extra',\n  'charge',\n  'help',\n  'comuk'],\n ['left',\n  'vague',\n  'said',\n  'would',\n  'inform',\n  'person',\n  'accounting',\n  'delayed',\n  'rent',\n  'discuss',\n  'housing',\n  'agency',\n  'renting',\n  'another',\n  'place',\n  'checking',\n  'online',\n  'places',\n  'around'],\n ['como',\n  'listened',\n  'plaid',\n  'album',\n  'quite',\n  'hilarious',\n  'also',\n  'bought',\n  'braindance',\n  'comp',\n  'ofstuff',\n  'aphex',\n  'abel'],\n ['sure', 'consent', 'forms'],\n ['exhausted', 'train', 'morning', 'much', 'wine', 'sleep', 'well'],\n ['tell', 'dear', 'happen', 'talking', 'like', 'alian'],\n ['bits', 'pieces', 'sighs'],\n ['people',\n  'dogging',\n  'area',\n  'call',\n  'join',\n  'like',\n  'minded',\n  'guys',\n  'arrange',\n  'evening',\n  'minapn'],\n ['secret',\n  'admirer',\n  'looking',\n  'make',\n  'contact',\n  'find',\n  'reveal',\n  'thinks',\n  'special',\n  'call'],\n ['wats', 'problem'],\n ['life',\n  'means',\n  'love',\n  'life',\n  'love',\n  'people',\n  'life',\n  'world',\n  'calls',\n  'friends',\n  'call',\n  'world'],\n ['sorry', 'call', 'later'],\n ['okie', 'scared', 'already'],\n ['train', 'back', 'northampton', 'afraid'],\n ['later',\n  'showing',\n  'around',\n  'want',\n  'drink',\n  'prefer',\n  'spend',\n  'money',\n  'nosh',\n  'mind'],\n ['good', 'morning', 'dear', 'great', 'successful'],\n ['read',\n  'shame',\n  'tell',\n  'takes',\n  'runs',\n  'blame',\n  'ever',\n  'really',\n  'ever',\n  'long',\n  'time'],\n ['arrived', 'couple', 'days'],\n ['nokia',\n  'plus',\n  'free',\n  'digital',\n  'camera',\n  'free',\n  'auction',\n  'take',\n  'part',\n  'send',\n  'nokia',\n  'pobox'],\n ['completely', 'form', 'clark', 'also', 'utter', 'waste'],\n [],\n ['honestly',\n  'made',\n  'lovely',\n  'promptly',\n  'dropped',\n  'keys',\n  'burnt',\n  'fingers',\n  'getting'],\n ['aiya', 'discuss', 'later', 'pick'],\n ['double',\n  'mins',\n  'txts',\n  'months',\n  'free',\n  'bluetooth',\n  'orange',\n  'available',\n  'sony',\n  'nokia',\n  'motorola',\n  'phones',\n  'call',\n  'mobileupd',\n  'call',\n  'optout'],\n ['surely', 'result', 'offer'],\n ['message', 'responce', 'happend'],\n ['story',\n  'last',\n  'week',\n  'wife',\n  'wish',\n  'parents',\n  'forgot',\n  'kids',\n  'went',\n  'work',\n  'even',\n  'colleagues',\n  'wish'],\n ['would', 'like', 'pics', 'nearly', 'banned'],\n ['guaranteed',\n  'latest',\n  'nokia',\n  'phone',\n  'ipod',\n  'player',\n  'prize',\n  'word',\n  'collect',\n  'ibhltd',\n  'ldnw',\n  'mtmsgrcvd'],\n ['message', 'please', 'call'],\n ['would', 'like', 'birthday'],\n ['know', 'watchin', 'lido'],\n ['customer',\n  'service',\n  'announcement',\n  'recently',\n  'tried',\n  'make',\n  'delivery',\n  'unable',\n  'please',\n  'call',\n  'schedule'],\n ['effect', 'irritation', 'ignore'],\n ['make',\n  'note',\n  'exposed',\n  'also',\n  'find',\n  'school',\n  'anyone',\n  'else',\n  'vomiting',\n  'house',\n  'know',\n  'later'],\n ['night', 'night', 'tomorrow'],\n ['update', 'face', 'book', 'status', 'frequently'],\n ['party',\n  'days',\n  'week',\n  'study',\n  'lightly',\n  'think',\n  'need',\n  'draw',\n  'custom',\n  'checkboxes',\n  'know',\n  'hardcore'],\n ['movie', 'collect', 'oredi'],\n ['practising', 'curtsey'],\n ['pick', 'taunton', 'still', 'want', 'come'],\n ['donno', 'scorable'],\n ['please', 'call', 'immediately', 'urgent', 'message', 'waiting'],\n ['compliments', 'away', 'system', 'side'],\n ['almost', 'home'],\n ['voicemail', 'please', 'call'],\n ['cool',\n  'tyler',\n  'take',\n  'gonna',\n  'drop',\n  'place',\n  'later',\n  'tonight',\n  'total',\n  'order',\n  'quarter',\n  'enough'],\n ['interested', 'like'],\n ['sorry', 'delay', 'masters'],\n ['meeting', 'work', 'shall', 'work', 'tomorrow'],\n ['call', 'like', 'times', 'give', 'hypertension'],\n ['many', 'happy', 'returns', 'wish', 'happy', 'birthday'],\n ['well',\n  'weather',\n  'cali',\n  'great',\n  'complexities',\n  'great',\n  'need',\n  'move',\n  'freely',\n  'taxes',\n  'outrageous',\n  'great',\n  'place',\n  'part',\n  'missing',\n  'home'],\n ['elaine', 'today', 'meeting', 'still'],\n ['would',\n  'good',\n  'phone',\n  'tomo',\n  'lunchtime',\n  'shall',\n  'organise',\n  'something'],\n ['summers',\n  'finally',\n  'fancy',\n  'chat',\n  'flirt',\n  'sexy',\n  'singles',\n  'area',\n  'matched',\n  'reply',\n  'summer',\n  'free',\n  'join',\n  'optout',\n  'stop',\n  'help'],\n ['sorry', 'help'],\n ['response', 'powerful', 'weapon', 'occupy', 'place', 'others', 'heart'],\n ['made', 'payments', 'dont', 'much', 'sorry', 'would', 'want', 'fedex'],\n ['much', 'understand', 'special', 'ring', 'morrow'],\n ['many', 'times', 'told', 'stage', 'laugh', 'listen'],\n ['pocked'],\n ['maybe', 'find', 'something', 'else', 'instead'],\n ['freemsg',\n  'fancy',\n  'flirt',\n  'reply',\n  'date',\n  'join',\n  'fastest',\n  'growing',\n  'mobile',\n  'dating',\n  'service',\n  'msgs',\n  'rcvd',\n  'optout',\n  'stop',\n  'reply',\n  'date'],\n ['forwarding', 'message', 'proof'],\n ['somewhere',\n  'beneath',\n  'pale',\n  'moon',\n  'light',\n  'someone',\n  'think',\n  'dreams',\n  'come',\n  'true',\n  'goodnite',\n  'sweet',\n  'dreams'],\n ['download',\n  'many',\n  'ringtones',\n  'like',\n  'restrictions',\n  'choose',\n  'even',\n  'send',\n  'buddys'],\n ['hack',\n  'chat',\n  'backdoor',\n  'entry',\n  'chat',\n  'rooms',\n  'fraction',\n  'cost',\n  'reply',\n  'call',\n  'subscribe'],\n ['younger', 'make', 'pretty', 'babies', 'together'],\n ['lazy', 'type', 'forgot', 'lect', 'pouch', 'like', 'nice'],\n ['came', 'hostel', 'going', 'sleep', 'call', 'class', 'hrishi'],\n ['download', 'fring'],\n ['gonna', 'worry', 'nothing', 'give', 'money'],\n ['ultimately', 'motive', 'achieve', 'korli'],\n ['send', 'warned', 'sprint', 'dead', 'slow', 'prolly', 'tomorrow'],\n ['anti', 'sleep', 'medicine'],\n ['escape', 'theatre', 'going', 'watch', 'kavalan', 'minutes'],\n ['rajini', 'comes'],\n ['good', 'morning', 'princess', 'happy', 'year'],\n ['sptv',\n  'jersey',\n  'devils',\n  'detroit',\n  'wings',\n  'play',\n  'hockey',\n  'correct',\n  'incorrect',\n  'reply',\n  'sptv'],\n ['hard',\n  'true',\n  'much',\n  'show',\n  'express',\n  'love',\n  'someone',\n  'much',\n  'hurt',\n  'leave',\n  'seperated',\n  'evening'],\n ['pain', 'come', 'worse', 'time'],\n ['frnd', 'best', 'avoid', 'missunderstding', 'beloved'],\n ['kinda',\n  'flaky',\n  'friend',\n  'interested',\n  'picking',\n  'worth',\n  'tonight',\n  'possible'],\n ['thing',\n  'change',\n  'sentence',\n  'want',\n  'concentrate',\n  'educational',\n  'career',\n  'leaving'],\n ['phone', 'weirdest', 'auto', 'correct'],\n ['come', 'quick', 'cant', 'bare'],\n ['also', 'bringing', 'galileo', 'dobby'],\n ['lmao', 'fish', 'memory', 'need'],\n ['oops', 'somerset', 'back', 'tomo', 'soon'],\n ['rightio', 'well', 'arent', 'bright', 'early', 'morning'],\n ['valued',\n  'customer',\n  'pleased',\n  'advise',\n  'following',\n  'recent',\n  'review',\n  'awarded',\n  'bonus',\n  'prize',\n  'call'],\n ['dont', 'phone', 'silent', 'mode'],\n ['really', 'hope', 'work', 'doesnt', 'stressful'],\n ['called', 'oredi'],\n ['must', 'come', 'later', 'normally', 'bathe', 'afternoon'],\n ['near', 'kalainar', 'office', 'thenampet'],\n ['really', 'paper', 'ended', 'long', 'copied', 'happy', 'still', 'study'],\n ['sorry', 'call', 'later', 'meeting'],\n ['great', 'office', 'today'],\n ['wait', 'finish'],\n ['still',\n  'working',\n  'time',\n  'also',\n  'tried',\n  'adding',\n  'zeros',\n  'savings',\n  'checking'],\n ['ello', 'babe'],\n ['watching'],\n ['another',\n  'hospital',\n  'data',\n  'analysis',\n  'something',\n  'starts',\n  'monday',\n  'sure',\n  'thesis',\n  'finished'],\n ['subscribed',\n  'best',\n  'mobile',\n  'content',\n  'service',\n  'days',\n  'send',\n  'stop',\n  'helpline'],\n ['much',\n  'though',\n  'friday',\n  'cant',\n  'wait',\n  'dunno',\n  'hell',\n  'gonna',\n  'another',\n  'weeks',\n  'become',\n  'slob',\n  'wait',\n  'already',\n  'done'],\n ['waqt',\n  'pehle',\n  'naseeb',\n  'zyada',\n  'kisi',\n  'kuch',\n  'nahi',\n  'milta',\n  'zindgi',\n  'nahi',\n  'sochte',\n  'zindgi',\n  'jeetey'],\n ['registered',\n  'sinco',\n  'payee',\n  'icicibank',\n  'enter',\n  'confirm',\n  'beware',\n  'frauds',\n  'share',\n  'disclose',\n  'anyone'],\n ['attempt', 'contract', 'weeks', 'prize', 'either', 'cash', 'prize', 'call'],\n ['think', 'find', 'check', 'google', 'maps', 'place', 'dorm'],\n ['poop', 'looks', 'like', 'prob', 'send', 'laptop', 'fixed', 'problem'],\n [],\n ['single', 'line', 'meaning', 'miss', 'anything', 'best', 'life'],\n [],\n ['seems',\n  'like',\n  'weird',\n  'timing',\n  'night',\n  'want',\n  'come',\n  'smoke',\n  'shitstorm',\n  'attributed',\n  'always',\n  'coming',\n  'making',\n  'everyone',\n  'smoke'],\n ['waiting', 'reach', 'home', 'already'],\n ['notice',\n  'like',\n  'looking',\n  'shit',\n  'mirror',\n  'youre',\n  'turning',\n  'right',\n  'freak'],\n ['fine', 'remember'],\n ['anytime'],\n ['swing', 'things', 'take', 'care', 'firsg'],\n ['dare', 'stupid', 'wont', 'tell', 'anything', 'hear', 'wont', 'talk'],\n ['aight', 'couple', 'minutes'],\n ['piss', 'talking', 'someone', 'realise', 'point', 'read', 'backwards'],\n ['continent'],\n ['congrats',\n  'mobile',\n  'videophones',\n  'call',\n  'videochat',\n  'mates',\n  'play',\n  'java',\n  'games',\n  'dload',\n  'polyph',\n  'music',\n  'noline',\n  'rentl'],\n ['bishan', 'lavender'],\n ['bugis', 'walking', 'home', 'oredi', 'late', 'reply', 'like'],\n ['know', 'kicks'],\n ['might', 'still', 'vomit', 'okay', 'everything', 'come'],\n ['book', 'liao'],\n ['natalja', 'inviting', 'friend', 'reply', 'stop', 'send', 'stop', 'frnd'],\n ['beautiful',\n  'truth',\n  'expression',\n  'face',\n  'could',\n  'seen',\n  'everyone',\n  'depression',\n  'heart',\n  'could',\n  'understood',\n  'loved',\n  'ones'],\n ['probably', 'gonna', 'later', 'tonight'],\n ['roommate',\n  'also',\n  'wants',\n  'dubsack',\n  'another',\n  'friend',\n  'also',\n  'want',\n  'plan',\n  'bringing',\n  'extra',\n  'tell',\n  'know',\n  'sure'],\n ['valentine',\n  'game',\n  'send',\n  'friends',\n  'answers',\n  'someone',\n  'really',\n  'loves',\n  'ques',\n  'colour',\n  'suits',\n  'best'],\n ['dunno', 'lets', 'learn', 'pilates'],\n [],\n ['last',\n  'chance',\n  'claim',\n  'worth',\n  'discount',\n  'vouchers',\n  'text',\n  'savamob',\n  'member',\n  'offers',\n  'mobile',\n  'remove',\n  'stop'],\n ['tomarrow', 'want', 'court', 'decimal', 'come', 'stand'],\n ['goin', 'workout', 'lose', 'fats'],\n ['lets', 'make', 'saturday', 'monday', 'convenience'],\n ['thought', 'king', 'hill', 'thing'],\n ['already', 'planned', 'pick'],\n ['great',\n  'news',\n  'call',\n  'freefone',\n  'claim',\n  'guaranteed',\n  'cash',\n  'gift',\n  'speak',\n  'live',\n  'operator'],\n ['could', 'snow', 'tonite'],\n ['dear',\n  'voucher',\n  'holder',\n  'claim',\n  'weeks',\n  'offer',\n  'please',\n  'http',\n  'wtlp',\n  'text',\n  'apply'],\n ['happy',\n  'year',\n  'dear',\n  'brother',\n  'really',\n  'miss',\n  'number',\n  'decided',\n  'send',\n  'text',\n  'wishing',\n  'happiness',\n  'abiola'],\n ['give', 'plus', 'said', 'grinule', 'greet', 'whenever', 'speak'],\n ['costa',\n  'holiday',\n  'await',\n  'collection',\n  'call',\n  'toclaim',\n  'pobox',\n  'stockport',\n  'cost',\n  'mins'],\n [],\n ['oops',\n  'shower',\n  'called',\n  'parking',\n  'garage',\n  'collapsed',\n  'university',\n  'hospital',\n  'crazy',\n  'stuff',\n  'like',\n  'happen'],\n ['send', 'password'],\n ['orchard', 'near', 'univ'],\n ['hello',\n  'saturday',\n  'texting',\n  'decided',\n  'anything',\n  'tomo',\n  'trying',\n  'invite',\n  'anything'],\n ['phone', 'phoned', 'disconnected'],\n ['borderline', 'yeah', 'whatever'],\n ['come', 'home', 'half', 'hour'],\n ['tomorrow',\n  'going',\n  'theatre',\n  'come',\n  'wherever',\n  'call',\n  'tell',\n  'come',\n  'tomorrow'],\n ['hide', 'anythiing', 'keeping', 'distance'],\n ['sorry', 'call', 'later'],\n ['think', 'think', 'good'],\n ['pool', 'money', 'together', 'bunch', 'lotto', 'tickets', 'deal'],\n ['spile', 'seven', 'broad', 'canal'],\n ['claire',\n  'havin',\n  'borin',\n  'time',\n  'alone',\n  'wanna',\n  'nite',\n  'chat',\n  'hope',\n  'claire',\n  'calls',\n  'minmoremobsemspobox'],\n ['contacted',\n  'dating',\n  'service',\n  'someone',\n  'know',\n  'find',\n  'call',\n  'mobile',\n  'landline',\n  'pobox',\n  'ldns'],\n ['going', 'quit', 'soon', 'xuhui', 'working', 'till', 'month'],\n ['raviyog', 'peripherals', 'bhayandar', 'east'],\n ['convince', 'possible', 'witot', 'hurting', 'feeling', 'main'],\n ['good', 'night', 'going', 'sleep'],\n ['bring', 'home', 'wendy'],\n ['shadow', 'early', 'spring'],\n ['sian', 'meeting', 'supervisor', 'work', 'liao', 'working'],\n ['finally', 'match', 'heading', 'towards', 'draw', 'prediction'],\n ['attend', 'driving', 'lesson', 'many', 'times'],\n ['chance',\n  'reality',\n  'fantasy',\n  'show',\n  'call',\n  'croydon',\n  'national',\n  'rate',\n  'call'],\n ['nope', 'drivin', 'neva', 'develop', 'photos'],\n ['goodnight', 'thangam', 'really', 'miss', 'dear'],\n ['calls', 'messages', 'missed', 'calls'],\n ['tell'],\n ['finishing', 'soon'],\n ['placement'],\n ['likely',\n  'called',\n  'mittelschmertz',\n  'google',\n  'dont',\n  'paracetamol',\n  'dont',\n  'worry'],\n ['like', 'things', 'scared', 'like', 'said', 'loud'],\n ['jurong',\n  'point',\n  'crazy',\n  'available',\n  'bugis',\n  'great',\n  'world',\n  'buffet',\n  'cine',\n  'amore'],\n ['looking', 'forward', 'cuddling', 'sleeps'],\n ['want',\n  'latest',\n  'video',\n  'handset',\n  'anytime',\n  'network',\n  'mins',\n  'half',\n  'price',\n  'line',\n  'rental',\n  'reply',\n  'call',\n  'delivery',\n  'tomorrow'],\n ['wanna', 'missy'],\n ['single', 'line', 'meaning', 'miss', 'anything', 'best', 'life'],\n [],\n ['good', 'wondering', 'wont', 'smiling', 'coping', 'long', 'distance'],\n ['persons', 'story'],\n ['write',\n  'dictionary',\n  'mode',\n  'cover',\n  'screen',\n  'hand',\n  'press',\n  'gently',\n  'remove',\n  'hand',\n  'interesting'],\n ['error'],\n ['sent'],\n ['openin',\n  'sentence',\n  'formal',\n  'anyway',\n  'fine',\n  'eatin',\n  'much',\n  'puttin',\n  'weight',\n  'haha',\n  'anythin',\n  'special',\n  'happened'],\n ['persons', 'story'],\n [],\n ['hows',\n  'arab',\n  'hope',\n  'good',\n  'give',\n  'love',\n  'evry',\n  'love',\n  'eshxxxxxxxxxxx'],\n ['schedule', 'next', 'week', 'town', 'weekend'],\n ['want',\n  'nokia',\n  'colour',\n  'phone',\n  'delivered',\n  'tomorrow',\n  'free',\n  'minutes',\n  'mobile',\n  'free',\n  'text',\n  'free',\n  'camcorder',\n  'reply',\n  'call'],\n ['fine', 'feel', 'gota'],\n ['happy',\n  'baby',\n  'alright',\n  'take',\n  'hope',\n  'fine',\n  'send',\n  'kiss',\n  'make',\n  'smile',\n  'across',\n  'kiss',\n  'kiss'],\n ['sports',\n  'fans',\n  'latest',\n  'sports',\n  'news',\n  'mobile',\n  'free',\n  'plus',\n  'free',\n  'tone',\n  'sport',\n  'getzed',\n  'norm'],\n ['joking', 'seriously', 'told'],\n ['wait', 'lect', 'havent', 'finish'],\n ['find', 'sitter', 'kaitlyn', 'sick', 'slept', 'yesterday'],\n ['aiyar', 'poor', 'thing', 'give', 'support', 'think'],\n ['looking', 'good'],\n ['dont', 'know', 'exactly', 'could', 'chechi'],\n ['dear', 'friends', 'present', 'number', 'rajitha', 'ranju'],\n ['sent',\n  'many',\n  'many',\n  'messages',\n  'since',\n  'want',\n  'know',\n  'actually',\n  'getting',\n  'enjoy',\n  'rest'],\n ['specially',\n  'selected',\n  'receive',\n  'pound',\n  'award',\n  'call',\n  'lines',\n  'close',\n  'cost',\n  'apply',\n  'promo'],\n ['urgent',\n  'attempt',\n  'contact',\n  'call',\n  'csbcm',\n  'callcost',\n  'ppmmobilesvary'],\n ['late', 'need', 'drink', 'coffee'],\n ['making', 'dinner'],\n ['film', 'call', 'later'],\n ['happy', 'year', 'princess'],\n ['greatest',\n  'test',\n  'courage',\n  'earth',\n  'bear',\n  'defeat',\n  'without',\n  'losing',\n  'heart'],\n ['first', 'time', 'dhoni', 'rocks'],\n ['free',\n  'week',\n  'nokia',\n  'tone',\n  'every',\n  'week',\n  'nokia',\n  'txting',\n  'tell',\n  'mates',\n  'pobox',\n  'norm',\n  'tone'],\n ['night',\n  'worrying',\n  'appt',\n  'shame',\n  'missed',\n  'girls',\n  'night',\n  'quizzes',\n  'popcorn',\n  'hair'],\n ['bank', 'money'],\n ['shitload', 'diamonds', 'though'],\n ['cinema', 'plus', 'drink', 'appeal', 'tomo', 'thriller', 'director', 'like'],\n ['year', 'many', 'miles'],\n ['date', 'sunday'],\n ['gonna', 'call', 'sporadically', 'starting', 'like', 'doin', 'shit'],\n ['guaranteed',\n  'latest',\n  'nokia',\n  'phone',\n  'ipod',\n  'player',\n  'prize',\n  'word',\n  'collect',\n  'ibhltd',\n  'ldnw',\n  'mtmsgrcvd'],\n ['thank', 'princess', 'sexy'],\n ['felt', 'conveying', 'reason'],\n ['week', 'course', 'coimbatore'],\n ['bloody',\n  'hell',\n  'cant',\n  'believe',\n  'forgot',\n  'surname',\n  'give',\n  'clue',\n  'spanish',\n  'begins'],\n ['post', 'class'],\n ['started', 'searching', 'days', 'great', 'potential', 'talent'],\n ['sorry', 'call', 'later', 'meeting'],\n ['whats', 'house', 'beer'],\n ['done',\n  'handed',\n  'know',\n  'mega',\n  'shop',\n  'asda',\n  'counts',\n  'celebration',\n  'thats'],\n ['urgent',\n  'week',\n  'free',\n  'membership',\n  'prize',\n  'jackpot',\n  'word',\n  'claim',\n  'dbuk',\n  'lccltd',\n  'pobox',\n  'ldnw'],\n ['free',\n  'unlimited',\n  'hardcore',\n  'porn',\n  'direct',\n  'mobile',\n  'porn',\n  'free',\n  'access',\n  'chrgd',\n  'stop',\n  'exit',\n  'free'],\n ['bored', 'housewives', 'chat', 'date', 'national', 'rate', 'landlines'],\n ['thank',\n  'much',\n  'skyped',\n  'sura',\n  'didnt',\n  'pleasure',\n  'company',\n  'hope',\n  'good',\n  'given',\n  'ultimatum',\n  'countin',\n  'aburo',\n  'enjoy',\n  'message',\n  'sent',\n  'days'],\n ['currently',\n  'message',\n  'awaiting',\n  'collection',\n  'collect',\n  'message',\n  'call'],\n ['supposed', 'wake'],\n ['chosen',\n  'receive',\n  'award',\n  'call',\n  'claim',\n  'number',\n  'collect',\n  'award',\n  'selected',\n  'receive',\n  'valued',\n  'mobile',\n  'customer'],\n ['hiya',\n  'comin',\n  'bristol',\n  'week',\n  'april',\n  'rudi',\n  'snoring',\n  'drunk',\n  'college',\n  'work',\n  'sends',\n  'bath'],\n ['cold', 'dont', 'dear'],\n ['convey', 'regards'],\n ['going', 'take', 'bath', 'place', 'window'],\n ['wanna', 'warm'],\n ['okay', 'good', 'problem', 'thanx'],\n ['dont', 'know', 'hopefully', 'month'],\n ['customer',\n  'service',\n  'annoncement',\n  'years',\n  'delivery',\n  'waiting',\n  'please',\n  'call',\n  'arrange',\n  'delivery'],\n ['many', 'page', 'want'],\n ['hello',\n  'things',\n  'quite',\n  'plan',\n  'limping',\n  'slowly',\n  'home',\n  'followed',\n  'exhaust',\n  'hanging'],\n ['hope',\n  'great',\n  'hoping',\n  'text',\n  'meets',\n  'well',\n  'full',\n  'life',\n  'great',\n  'abiola'],\n ['think', 'still'],\n ['kano', 'download', 'come', 'free'],\n ['send', 'group', 'mail', 'check'],\n ['missed', 'call', 'mumhas', 'beendropping', 'wine', 'theplace', 'adress'],\n ['want',\n  'video',\n  'handset',\n  'anytime',\n  'network',\n  'mins',\n  'half',\n  'price',\n  'line',\n  'rental',\n  'camcorder',\n  'reply',\n  'call',\n  'delivery',\n  'tomorrow'],\n ['congratulations',\n  'claim',\n  'tickets',\n  'concert',\n  'november',\n  'gift',\n  'guaranteed',\n  'call',\n  'claim',\n  'smsco',\n  'cost'],\n ['neva', 'mind'],\n ['siva', 'tats', 'askd'],\n ['really', 'crashed', 'cuddled', 'sofa'],\n ['dint', 'touch'],\n ['yeah',\n  'apologetic',\n  'fallen',\n  'actin',\n  'like',\n  'spoilt',\n  'child',\n  'caught',\n  'till',\n  'badly',\n  'cheers'],\n ['thanx', 'sending', 'home'],\n ['stop', 'build', 'snowman', 'snow', 'angels', 'snowball', 'fights'],\n ['heard',\n  'call',\n  'rude',\n  'chat',\n  'private',\n  'line',\n  'pics',\n  'gettin',\n  'shagged',\n  'text',\n  'send',\n  'stop'],\n ['know', 'complain', 'bettr', 'directly', 'bsnl', 'offc', 'apply'],\n ['princess', 'brothas', 'chasing'],\n ['happend', 'tron', 'maybe'],\n ['wait', 'chikku', 'send', 'aftr', 'mins'],\n ['ambrith', 'madurai', 'arun', 'marrge', 'remembr'],\n ['good', 'morning', 'dear', 'shijutta', 'great', 'successful'],\n ['time', 'supposed', 'take', 'shopping', 'today'],\n ['princess', 'going', 'make', 'moan'],\n ['still', 'west', 'coast', 'haiz', 'take', 'forever', 'come', 'back'],\n ['urgent',\n  'trying',\n  'contact',\n  'todays',\n  'draw',\n  'shows',\n  'prize',\n  'guaranteed',\n  'call',\n  'land',\n  'line',\n  'claim',\n  'valid'],\n ['left', 'already', 'orchard'],\n ['boys',\n  'back',\n  'take',\n  'tour',\n  'tickets',\n  'book',\n  'club',\n  'club',\n  'trackmarque',\n  'info',\n  'vipclub'],\n ['private',\n  'account',\n  'statement',\n  'shows',\n  'redeemed',\n  'points',\n  'call',\n  'identifier',\n  'code',\n  'expires'],\n ['cool', 'come', 'like'],\n ['shop', 'closes'],\n ['hello',\n  'baby',\n  'back',\n  'setting',\n  'computer',\n  'filling',\n  'belly',\n  'goes',\n  'loverboy',\n  'miss',\n  'already',\n  'sighs'],\n ['pandy', 'joined', 'technologies', 'today'],\n ['quiz', 'cash', 'balance', 'currently', 'maximize', 'cash', 'send'],\n ['email'],\n ['need',\n  'testing',\n  'phone',\n  'card',\n  'dunno',\n  'network',\n  'waiting',\n  'finish',\n  'bathing',\n  'bathe',\n  'disturb',\n  'liao',\n  'cleaning',\n  'room'],\n ['sign',\n  'maturity',\n  'start',\n  'saying',\n  'things',\n  'actually',\n  'start',\n  'understanding',\n  'small',\n  'things',\n  'nice',\n  'evening',\n  'bslvyl'],\n ['gonna', 'rimac', 'access'],\n ['always', 'chat', 'fact', 'need', 'money', 'raise'],\n ['free', 'entry', 'weekly', 'competition', 'text', 'word', 'txttowin'],\n ['dont', 'think', 'turns', 'like', 'randomlly', 'within', 'opening'],\n ['receiving', 'week', 'triple', 'echo', 'ringtone', 'shortly', 'enjoy'],\n ['sorry', 'call', 'later'],\n ['speak',\n  'bcaz',\n  'mobile',\n  'problem',\n  'listen',\n  'cann',\n  'listen',\n  'voice',\n  'calls',\n  'later'],\n ['bull',\n  'plan',\n  'floating',\n  'ikea',\n  'without',\n  'care',\n  'world',\n  'live',\n  'mess',\n  'another'],\n ['also', 'fine', 'complete', 'course'],\n ['miss', 'someone'],\n ['freezing', 'craving'],\n ['available', 'pick', 'drop', 'door', 'steps'],\n ['time'],\n ['nothing', 'unknown'],\n ['wish', 'great', 'semester'],\n ['lookin',\n  'saucy',\n  'daytime',\n  'busty',\n  'married',\n  'woman',\n  'free',\n  'next',\n  'week',\n  'chat',\n  'sort',\n  'time',\n  'janinexx',\n  'calls',\n  'minmobsmorelkpobox'],\n ['yeah', 'lined'],\n ['captain', 'vijaykanth', 'comedy', 'captain', 'drunken'],\n ['going', 'take', 'babe'],\n ['problem',\n  'walk',\n  'around',\n  'julianaland',\n  'oblivious',\n  'going',\n  'around',\n  'things',\n  'constantly',\n  'whatever',\n  'want',\n  'know',\n  'upset',\n  'listen',\n  'tell',\n  'going',\n  'upset',\n  'want',\n  'surprised'],\n ['around', 'still', 'asleep'],\n ['check', 'corect', 'speling', 'sarcasm'],\n ['math', 'good'],\n ['gonna', 'miss', 'much'],\n ['late', 'home', 'father', 'power', 'frndship'],\n ['bookedthe', 'also', 'time'],\n ['sale', 'arsenal', 'dartboard', 'good', 'condition', 'doubles', 'trebles'],\n ['feel',\n  'always',\n  'happy',\n  'slowly',\n  'becomes',\n  'habit',\n  'finally',\n  'becomes',\n  'part',\n  'life',\n  'follow',\n  'happy',\n  'morning',\n  'happy'],\n ['guaranteed',\n  'latests',\n  'nokia',\n  'phone',\n  'ipod',\n  'player',\n  'prize',\n  'word',\n  'collect',\n  'msgrcvd'],\n ['answerin', 'phone', 'actually', 'pretty', 'reasonable', 'hour', 'sleepy'],\n ['ever',\n  'thought',\n  'living',\n  'good',\n  'life',\n  'perfect',\n  'partner',\n  'back',\n  'name',\n  'join',\n  'mobile',\n  'community'],\n ['thing', 'watch', 'tonight', 'already', 'smth', 'mind'],\n ['someone',\n  'know',\n  'asked',\n  'dating',\n  'service',\n  'contact',\n  'cant',\n  'guess',\n  'call',\n  'revealed',\n  'pobox'],\n ['dude',\n  'avatar',\n  'point',\n  'thought',\n  'actually',\n  'flies',\n  'room',\n  'almost',\n  'tried',\n  'hittng',\n  'reflex'],\n ['okay', 'thought', 'expert'],\n ['maybe', 'find', 'card', 'great', 'escape', 'wetherspoons'],\n ['tell', 'pain'],\n ['cancelled',\n  'yeah',\n  'baby',\n  'well',\n  'sounds',\n  'important',\n  'understand',\n  'darlin',\n  'give',\n  'ring',\n  'later',\n  'fone',\n  'love',\n  'kate'],\n ['todays',\n  'vodafone',\n  'numbers',\n  'ending',\n  'selected',\n  'receive',\n  'award',\n  'number',\n  'matches',\n  'call',\n  'receive',\n  'award'],\n ['yalru',\n  'lyfu',\n  'astne',\n  'chikku',\n  'innu',\n  'mundhe',\n  'halla',\n  'bilo',\n  'marriage',\n  'program',\n  'edhae',\n  'chikku',\n  'vargu',\n  'lyfu',\n  'meow',\n  'meow'],\n [],\n ['prabha', 'soryda', 'realy', 'heart', 'sory'],\n ['spoke',\n  'maneesha',\n  'like',\n  'know',\n  'satisfied',\n  'experience',\n  'reply',\n  'toll',\n  'free'],\n ['away', 'walk', 'slowly', 'kills', 'care', 'enough', 'stop'],\n ['could', 'read', 'love', 'answered'],\n ['first', 'time', 'type', 'words'],\n ['urgent',\n  'urgent',\n  'free',\n  'flights',\n  'europe',\n  'give',\n  'away',\n  'call',\n  'sept',\n  'take',\n  'friend',\n  'free',\n  'call',\n  'claim',\n  'nnfwfly'],\n ['work', 'going'],\n ['went', 'rent', 'bank', 'authorise', 'payment'],\n ['long', 'fuckin', 'showr'],\n ['stuck', 'middle', 'right', 'hand', 'side'],\n ['remember'],\n ['free',\n  'tones',\n  'hope',\n  'enjoyed',\n  'content',\n  'text',\n  'stop',\n  'unsubscribe',\n  'help',\n  'provided',\n  'tones'],\n ['watching', 'footie', 'worried', 'going', 'blow', 'phil', 'neville'],\n ['something'],\n ['happy', 'saying'],\n ['possession', 'especially', 'first', 'offense'],\n ['want',\n  'video',\n  'handset',\n  'time',\n  'network',\n  'mins',\n  'unlimited',\n  'text',\n  'camcorder',\n  'reply',\n  'call'],\n ['account',\n  'refilled',\n  'successfully',\n  'decimal',\n  'keralacircle',\n  'prepaid',\n  'account',\n  'balance',\n  'decimal',\n  'transaction'],\n ['boooo', 'always', 'work', 'quit'],\n ['late'],\n ['sure', 'time', 'sure', 'library', 'class', 'point', 'good'],\n ['dear',\n  'xxxxxxx',\n  'invited',\n  'xchat',\n  'final',\n  'attempt',\n  'contact',\n  'chat',\n  'msgrcvdhg',\n  'suite',\n  'lands'],\n ['save',\n  'stress',\n  'person',\n  'dorm',\n  'account',\n  'send',\n  'account',\n  'details',\n  'money',\n  'sent'],\n ['good', 'making', 'money'],\n ['onluy', 'matters', 'getting', 'offcampus'],\n ['dear',\n  'call',\n  'urgnt',\n  'know',\n  'whats',\n  'problem',\n  'want',\n  'work',\n  'problem',\n  'least',\n  'tell',\n  'wating',\n  'reply'],\n ['guys', 'movies', 'side'],\n ['free', 'entry', 'weekly', 'comp', 'send', 'word', 'txttowin'],\n ['unbelievable', 'faglord'],\n ['tell', 'address'],\n ['nope', 'work'],\n ['good', 'morning', 'princess'],\n ['thanks',\n  'yesterday',\n  'wonderful',\n  'hope',\n  'enjoyed',\n  'burial',\n  'mojibiola'],\n ['customer', 'place', 'call'],\n ['splashmobile',\n  'choose',\n  'tones',\n  'subscrition',\n  'service',\n  'weekly',\n  'tones',\n  'costing',\n  'credit',\n  'kick',\n  'back',\n  'enjoy'],\n ['free', 'finish', 'thurs'],\n ['airport', 'satsgettin', 'hour', 'means', 'keep', 'touch'],\n ['lunch', 'canteen'],\n ['know',\n  'told',\n  'yesterday',\n  'name',\n  'roger',\n  'touch',\n  'last',\n  'night',\n  'wants',\n  'meet',\n  'today'],\n ['mobile',\n  'months',\n  'entitled',\n  'update',\n  'latest',\n  'colour',\n  'mobiles',\n  'camera',\n  'free',\n  'call',\n  'mobile',\n  'update',\n  'free'],\n ['still', 'plumbers', 'tape', 'wrench', 'could', 'borrow'],\n ['dude', 'snake', 'raiden', 'buff'],\n ['luck', 'love', 'someone', 'fortune', 'love', 'loves'],\n ['eldest', 'know'],\n ['dude', 'like', 'buff', 'wind'],\n ['quit', 'hmmm', 'jazz', 'yogasana', 'meet', 'lessons'],\n ['neva', 'tell', 'home'],\n ['impossible',\n  'argue',\n  'always',\n  'treats',\n  'like',\n  'like',\n  'never',\n  'released',\n  'remind',\n  'necessary'],\n ['surprised', 'still', 'guess', 'right'],\n ['hahaha', 'brain', 'dear'],\n ['sent', 'maga', 'money', 'yesterday'],\n ['todays',\n  'vodafone',\n  'numbers',\n  'ending',\n  'last',\n  'four',\n  'digits',\n  'selected',\n  'received',\n  'award',\n  'number',\n  'matches',\n  'please',\n  'call',\n  'claim',\n  'award'],\n ['like', 'shaking', 'booty', 'dance', 'floor'],\n ['seeking', 'lady', 'street', 'freak', 'sheets'],\n ['thought', 'could', 'dinner', 'treat', 'seem'],\n ['nite', 'nite', 'pocay', 'wocay', 'thing', 'promise', 'ring', 'morrowxxxx'],\n ['remind', 'shall'],\n ['sure',\n  'acknowledgement',\n  'astoundingly',\n  'tactless',\n  'generally',\n  'faggy',\n  'demand',\n  'blood',\n  'oath'],\n ['good',\n  'afternoon',\n  'sexy',\n  'buns',\n  'goes',\n  'search',\n  'wake',\n  'first',\n  'thought',\n  'always',\n  'love',\n  'wish',\n  'fine',\n  'happy',\n  'know',\n  'adore'],\n ['beautiful',\n  'truth',\n  'gravity',\n  'read',\n  'carefully',\n  'heart',\n  'feels',\n  'light',\n  'someone',\n  'feels',\n  'heavy',\n  'someone',\n  'leaves',\n  'good',\n  'night'],\n ['lions',\n  'england',\n  'tone',\n  'reply',\n  'lionm',\n  'mono',\n  'lionp',\n  'poly',\n  'ringtones',\n  'original',\n  'best',\n  'tones',\n  'network',\n  'operator',\n  'rates',\n  'apply'],\n ['skint',\n  'fancied',\n  'bevies',\n  'gona',\n  'meet',\n  'othrs',\n  'spoon',\n  'watchng',\n  'planet',\n  'earth',\n  'sofa',\n  'comfey',\n  'dont',\n  'make',\n  'night'],\n ['dont', 'know', 'getting', 'messages'],\n ['height',\n  'confidence',\n  'aeronautics',\n  'professors',\n  'calld',\n  'askd',\n  'aeroplane',\n  'aftr',\n  'told',\n  'plane',\n  'made',\n  'students',\n  'hurried',\n  'plane',\n  'didnt',\n  'move',\n  'said',\n  'made',\n  'students'],\n ['theory',\n  'argument',\n  'wins',\n  'situation',\n  'loses',\n  'person',\n  'dont',\n  'argue',\n  'friends',\n  'kick',\n  'always',\n  'correct'],\n ['argh',\n  'spotty',\n  'anyway',\n  'thing',\n  'remember',\n  'research',\n  'province',\n  'sterling',\n  'problem',\n  'free',\n  'places',\n  'looked'],\n ['said', 'thanks', 'gift'],\n ['receive', 'account', 'another', 'time', 'sorry', 'delay'],\n ['posted', 'facebook'],\n ['thats',\n  'late',\n  'well',\n  'good',\n  'night',\n  'give',\n  'call',\n  'tomorrow',\n  'going',\n  'sleep',\n  'night',\n  'night'],\n ['going', 'college', 'else', 'come', 'self'],\n ['wats', 'opinion', 'character'],\n ['would', 'awesome', 'payback'],\n ['reach', 'home', 'call'],\n ['sister', 'placed', 'birla', 'soft'],\n ['princess'],\n ['nobody', 'names', 'penis', 'girls', 'name', 'story'],\n ['nice',\n  'sheffield',\n  'opinions',\n  'categories',\n  'used',\n  'measure',\n  'ethnicity',\n  'next',\n  'census',\n  'busy',\n  'transcribing'],\n ['cant',\n  'believe',\n  'said',\n  'many',\n  'things',\n  'morning',\n  'really',\n  'wanted',\n  'good',\n  'morning',\n  'love',\n  'beautiful',\n  'morning',\n  'library',\n  'later'],\n ['foreign', 'stamps', 'country'],\n ['details', 'later'],\n ['waaaat', 'lololo', 'next', 'time'],\n ['sent', 'scream', 'moan', 'princess'],\n ['sounds', 'great', 'home'],\n ['meet', 'lobby'],\n ['urgent',\n  'mobile',\n  'xxxxxxxxx',\n  'bonus',\n  'caller',\n  'prize',\n  'attempt',\n  'reach',\n  'call',\n  'asap'],\n ['meant',\n  'calculation',\n  'units',\n  'school',\n  'really',\n  'expensive',\n  'started',\n  'practicing',\n  'accent',\n  'important',\n  'decided',\n  'years',\n  'dental',\n  'school',\n  'nmde',\n  'exam'],\n ['took', 'tablets', 'reaction', 'morning'],\n [],\n ['house',\n  'maid',\n  'murderer',\n  'murdered',\n  'january',\n  'public',\n  'holiday',\n  'govt',\n  'instituitions',\n  'closed',\n  'including',\n  'post',\n  'office',\n  'understand'],\n ['need', 'lunch', 'maggi'],\n ['dump', 'heap', 'decided', 'come', 'lowes', 'boring'],\n ['toot', 'fringe'],\n ['text', 'ringtones', 'logos', 'games', 'questions', 'info'],\n ['always', 'even', 'spirit', 'soon', 'trying', 'sure', 'need'],\n ['aiyah', 'long', 'improve', 'already'],\n ['dont', 'message', 'offer'],\n ['outbid',\n  'simonwatson',\n  'shinco',\n  'plyr',\n  'visit',\n  'smsrewards',\n  'notifications',\n  'reply'],\n ['chillaxin'],\n ['like', 'talk', 'able', 'dont', 'know'],\n ['discussed', 'mother'],\n ['right', 'work'],\n ['fast',\n  'approaching',\n  'wish',\n  'happy',\n  'year',\n  'happy',\n  'sankranti',\n  'happy',\n  'republic',\n  'happy',\n  'valentines',\n  'happy',\n  'shivratri',\n  'happy',\n  'ugadi',\n  'happy',\n  'fools',\n  'happy',\n  'happy',\n  'independence',\n  'happy',\n  'friendship',\n  'mother',\n  'father',\n  'teachers',\n  'childrens',\n  'happy',\n  'birthday',\n  'happy',\n  'ganesh',\n  'festival',\n  'happy',\n  'dasara',\n  'happy',\n  'diwali',\n  'happy',\n  'christmas',\n  'good',\n  'mornings',\n  'afternoons',\n  'evenings',\n  'nights',\n  'rememberi',\n  'first',\n  'wishing'],\n ['want',\n  'anytime',\n  'network',\n  'mins',\n  'text',\n  'video',\n  'phone',\n  'five',\n  'pounds',\n  'week',\n  'call',\n  'reply',\n  'delivery',\n  'tomorrow'],\n ['someone',\n  'year',\n  'toyota',\n  'camry',\n  'like',\n  'olayiwola',\n  'mileage',\n  'clean',\n  'need',\n  'know',\n  'much',\n  'sell',\n  'raise',\n  'dough',\n  'soon',\n  'landing',\n  'sell',\n  'holla',\n  'back'],\n ['last', 'week', 'taking', 'live', 'call'],\n ['happen', 'tell', 'truth'],\n ['prasanth',\n  'ettans',\n  'mother',\n  'passed',\n  'away',\n  'last',\n  'night',\n  'pray',\n  'family'],\n ['done',\n  'sorry',\n  'hope',\n  'next',\n  'space',\n  'gives',\n  'everything',\n  'want',\n  'remember',\n  'furniture',\n  'around',\n  'move',\n  'lock',\n  'locks',\n  'leave',\n  'jenne'],\n ['jess', 'dont', 'know', 'work', 'call', 'home'],\n ['check', 'rooms', 'befor', 'activities'],\n ['aathi', 'dear'],\n ['come', 'hair'],\n ['thats', 'cool', 'princess', 'cover', 'face', 'sticky'],\n ['asked', 'forgiveness', 'little', 'child', 'gave', 'lovely', 'reply'],\n ['double',\n  'mins',\n  'double',\n  'price',\n  'linerental',\n  'latest',\n  'orange',\n  'bluetooth',\n  'mobiles',\n  'call',\n  'mobileupd',\n  'latest',\n  'offers',\n  'call',\n  'optout'],\n ['know',\n  'girls',\n  'always',\n  'safe',\n  'selfish',\n  'know',\n  'thank',\n  'good',\n  'night'],\n ['decided'],\n ['stranger',\n  'choose',\n  'friend',\n  'long',\n  'world',\n  'stands',\n  'friendship',\n  'never',\n  'ends',\n  'lets',\n  'friends',\n  'forever',\n  'nitz'],\n ['part', 'checking'],\n ['call',\n  'mins',\n  'calls',\n  'cast',\n  'vary',\n  'service',\n  'provided',\n  'month',\n  'stop',\n  'ages'],\n ['none', 'nowhere', 'ikno', 'doesdiscount', 'shitinnit'],\n ['well', 'night', 'night'],\n ['dunno', 'cant', 'remember', 'mayb', 'time', 'meeting'],\n ['lmao'],\n ['sleeping',\n  'going',\n  'take',\n  'haha',\n  'spys',\n  'online',\n  'checking',\n  'replying',\n  'mails'],\n ['babes', 'think', 'brolly', 'left', 'english', 'bring', 'franxx'],\n ['prob'],\n ['customer',\n  'loyalty',\n  'offer',\n  'nokia',\n  'mobile',\n  'txtauction',\n  'word',\n  'start',\n  'ctxt',\n  'mtmsg'],\n ['yeah',\n  'random',\n  'dude',\n  'need',\n  'change',\n  'info',\n  'sheets',\n  'party',\n  'never',\n  'study',\n  'safe'],\n ['womdarfull', 'actor'],\n ['sorry', 'battery', 'died', 'come', 'getting', 'gram', 'place'],\n ['chance', 'cash', 'every', 'play', 'music', 'trivia', 'custcare'],\n ['thanks', 'thangam', 'feel', 'happy', 'dear', 'also', 'miss'],\n ['good'],\n ['ever', 'easier'],\n ['today', 'workin', 'free', 'thgt', 'workin', 'fren', 'shop'],\n ['darren', 'pick', 'sian', 'meet', 'lect'],\n ['cutie',\n  'goes',\n  'wales',\n  'kinda',\n  'like',\n  'hills',\n  'shit',\n  'still',\n  'avent',\n  'killed'],\n ['still',\n  'havent',\n  'collected',\n  'dough',\n  'know',\n  'place',\n  'sent',\n  'control',\n  'number'],\n ['short', 'cute', 'good', 'person'],\n ['dear',\n  'regret',\n  'cudnt',\n  'pick',\n  'call',\n  'drove',\n  'ctla',\n  'cochin',\n  'home',\n  'left',\n  'mobile',\n  'ente',\n  'style',\n  'ishtamayoo',\n  'happy',\n  'bakrid'],\n ['send', 'someone', 'else'],\n ['life', 'style', 'garments', 'account', 'please'],\n ['well', 'good', 'morning', 'hows', 'london', 'treatin', 'treacle'],\n ['dont', 'flatter', 'tell', 'mine', 'pints', 'carlin', 'minutes', 'please'],\n ['ebay', 'might', 'less', 'elsewhere'],\n ['could', 'kiss', 'feel', 'next'],\n ['taxt', 'massage', 'argh', 'lool'],\n ['beauty', 'sleep', 'help', 'pimples'],\n ['dunno'],\n ['break',\n  'accommodationvouchers',\n  'terms',\n  'conditions',\n  'apply',\n  'claim',\n  'mustprovide',\n  'claim',\n  'number'],\n ['shore', 'takin'],\n ['good',\n  'evening',\n  'hope',\n  'nice',\n  'wanted',\n  'bring',\n  'notice',\n  'late',\n  'paying',\n  'rent',\n  'past',\n  'months',\n  'charge',\n  'felt',\n  'would',\n  'inconsiderate',\n  'something',\n  'give',\n  'great',\n  'cost',\n  'didnt',\n  'speak',\n  'however',\n  'recession',\n  'wont',\n  'able',\n  'charge',\n  'month',\n  'hence',\n  'askin',\n  'well',\n  'ahead',\n  'month',\n  'please',\n  'help',\n  'thank',\n  'everything'],\n ['want', 'sent', 'mesages', 'today', 'thats', 'sorry', 'hurts'],\n ['know', 'account', 'details', 'send', 'reach'],\n ['weeks',\n  'savamob',\n  'member',\n  'offers',\n  'accessible',\n  'call',\n  'details',\n  'savamob',\n  'pobox',\n  'week',\n  'savamob',\n  'offers',\n  'mobile'],\n ['replying', 'boye', 'changed', 'phone', 'number'],\n ['voicemail', 'please', 'call'],\n ['sorry', 'mates', 'phone', 'didnt', 'write', 'love', 'kate'],\n ['goldviking',\n  'inviting',\n  'friend',\n  'reply',\n  'goldviking',\n  'stop',\n  'send',\n  'stop',\n  'frnd'],\n ['camera',\n  'quite',\n  'good',\n  'mega',\n  'pixels',\n  'optical',\n  'digital',\n  'dooms',\n  'lovely',\n  'holiday',\n  'safe',\n  'hope',\n  'good',\n  'journey',\n  'happy',\n  'year',\n  'couple',\n  'weeks'],\n ['creep'],\n ['recieve',\n  'tone',\n  'within',\n  'next',\n  'terms',\n  'conditions',\n  'please',\n  'channel',\n  'teletext'],\n ['planned', 'going', 'join', 'company', 'know', 'happen'],\n ['awesome', 'plan', 'time', 'like', 'text', 'details'],\n ['pain', 'urination', 'thing', 'else'],\n ['except', 'theres', 'chick', 'huge', 'boobs'],\n ['keeping', 'away', 'like'],\n ['local',\n  'dates',\n  'area',\n  'lots',\n  'people',\n  'registered',\n  'area',\n  'reply',\n  'date',\n  'start',\n  'flirtparty',\n  'replys'],\n ['trouble',\n  'classes',\n  'well',\n  'dodgey',\n  'expecting',\n  'mine',\n  'tomo',\n  'recovery',\n  'time',\n  'place'],\n ['movies', 'laptop'],\n ['aiyo', 'please', 'time'],\n ['sure', 'flavour'],\n ['fujitsu', 'toshiba', 'model'],\n ['dont', 'drink', 'milk'],\n ['dear',\n  'voucher',\n  'holder',\n  'claim',\n  'class',\n  'airport',\n  'lounge',\n  'passes',\n  'using',\n  'holiday',\n  'voucher',\n  'call',\n  'booking',\n  'quote',\n  'class'],\n ['good',\n  'afternoon',\n  'loverboy',\n  'goes',\n  'luck',\n  'come',\n  'think',\n  'sweetie',\n  'send',\n  'love',\n  'across',\n  'make',\n  'smile',\n  'happy'],\n ['would',\n  'lovely',\n  'sure',\n  'think',\n  'want',\n  'drinkin',\n  'dancin',\n  'eatin',\n  'cinema'],\n ['university', 'southern', 'california'],\n ['shall', 'talk'],\n ['buzzzz',\n  'grins',\n  'buzz',\n  'buzz',\n  'chest',\n  'buzz',\n  'cock',\n  'keep',\n  'phone',\n  'vibrator',\n  'feel',\n  'shake'],\n ['call', 'alter'],\n ['aluable',\n  'ffectionate',\n  'oveable',\n  'ternal',\n  'oble',\n  'ruthful',\n  'ntimate',\n  'atural',\n  'namous',\n  'happy',\n  'valentines',\n  'advance'],\n ['need', 'dial', 'open', 'browser', 'surf'],\n ['serving', 'staying', 'alone'],\n ['happen', 'dear', 'tell'],\n ['today', 'going', 'college', 'able', 'atten', 'class'],\n ['cant', 'join', 'denis', 'mina', 'denis', 'want', 'alone', 'time'],\n ['bored', 'come', 'home'],\n ['also', 'remember', 'beads', 'come', 'ever'],\n ['happy', 'birthday', 'find', 'prince', 'charming', 'soon', 'work', 'hard'],\n ['babe',\n  'sorry',\n  'sooner',\n  'gary',\n  'come',\n  'cause',\n  'thinks',\n  'knows',\n  'ptbo',\n  'says',\n  'cost',\n  'bucks',\n  'know',\n  'might',\n  'cheaper',\n  'find',\n  'someone',\n  'second',\n  'hand',\n  'machines',\n  'right',\n  'know',\n  'want',\n  'babe'],\n ['purity',\n  'friendship',\n  'smiling',\n  'reading',\n  'forwarded',\n  'message',\n  'smiling',\n  'seeing',\n  'name',\n  'evng',\n  'musthu'],\n ['wana', 'rite', 'days'],\n ['fine', 'absolutly', 'fine'],\n ['call', 'meet'],\n ['early', 'already'],\n ['dont', 'understand', 'message'],\n [],\n ['sparkling', 'shopping', 'breaks', 'person', 'call', 'visit', 'shortbreaks'],\n ['guess'],\n ['carry', 'disturbing'],\n ['senthil', 'group', 'company', 'apnt'],\n ['know', 'week', 'going', 'tirunelvai'],\n ['said',\n  'mind',\n  'bedroom',\n  'minute',\n  'sexy',\n  'mood',\n  'came',\n  'minuts',\n  'latr',\n  'cake',\n  'wife'],\n ['shall', 'fine', 'avalarr', 'hollalater'],\n ['alrite',\n  'hows',\n  'revision',\n  'goin',\n  'keris',\n  'doin',\n  'smidgin',\n  'wanna',\n  'college'],\n ['life', 'alle', 'mone', 'eppolum', 'pole', 'allalo'],\n ['nothing'],\n ['storming',\n  'lift',\n  'phne',\n  'hello',\n  'real',\n  'meaning',\n  'hello',\n  'name',\n  'girl',\n  'girl',\n  'margaret',\n  'hello',\n  'girlfrnd',\n  'grahmbell',\n  'invnted',\n  'telphone',\n  'moral',\n  'name',\n  'person'],\n ['hiya',\n  'much',\n  'truble',\n  'home',\n  'moment',\n  'evone',\n  'hates',\n  'even',\n  'hell',\n  'done',\n  'wont',\n  'tell',\n  'text',\n  'please'],\n ['moment',\n  'value',\n  'morning',\n  'brings',\n  'hope',\n  'afternoon',\n  'brings',\n  'faith',\n  'evening',\n  'brings',\n  'night',\n  'brings',\n  'rest',\n  'wish',\n  'find',\n  'today',\n  'good',\n  'morning'],\n ['pick', 'tomorrow'],\n ['well', 'welp', 'sort', 'semiobscure', 'internet', 'thing'],\n ['town', 'alone'],\n ['special'],\n ['ride', 'early', 'tomorrow', 'morning', 'crashing', 'place', 'tonight'],\n ['planning', 'usually', 'stops', 'find', 'hella', 'weed'],\n ['draw', 'dont', 'think'],\n ['please', 'give', 'pick', 'tuesday', 'evening'],\n ['okay', 'like', 'wont', 'haha', 'terms', 'conditions'],\n ['skip', 'right', 'outside', 'front', 'house', 'house', 'pull'],\n ['bitching',\n  'acted',\n  'like',\n  'interested',\n  'buying',\n  'something',\n  'else',\n  'next',\n  'week',\n  'gave',\n  'free'],\n ['cant', 'display', 'internal', 'subs', 'gotta', 'extract'],\n ['needs', 'slowly', 'vomit'],\n ['free', 'ringtone', 'reply', 'real'],\n ['said', 'look', 'pretty', 'long', 'hair', 'cutting', 'quite', 'short'],\n ['much', 'dirty', 'fellow'],\n ['ready', 'moan', 'scream'],\n ['well',\n  'done',\n  'costa',\n  'holiday',\n  'await',\n  'collection',\n  'call',\n  'toclaim',\n  'pobox',\n  'stockport',\n  'cost',\n  'mins'],\n ['best', 'exam', 'later'],\n ['good', 'weekend'],\n ['actually', 'deleted', 'website', 'blogging', 'magicalsongs', 'blogspot'],\n ['sore', 'throat', 'scratches', 'talk'],\n ['little', 'difficult', 'simple', 'enter', 'place'],\n ['single',\n  'single',\n  'answers',\n  'fighting',\n  'plus',\n  'said',\n  'broke',\n  'didnt',\n  'reply'],\n ['meeting', 'darren'],\n ['laptop', 'infra', 'slow', 'fast'],\n ['asked',\n  'mobile',\n  'chatlines',\n  'inclu',\n  'free',\n  'mins',\n  'india',\n  'cust',\n  'servs',\n  'mega',\n  'bill',\n  'dont',\n  'shit',\n  'bailiff',\n  'days',\n  'want'],\n [],\n ['please', 'call', 'immediately', 'urgent', 'message', 'waiting'],\n ['went', 'fast', 'asleep', 'dear', 'take', 'care'],\n ['slowly',\n  'love',\n  'need',\n  'clean',\n  'heart',\n  'blood',\n  'send',\n  'special',\n  'people',\n  'miracle',\n  'tomorrow'],\n ['come', 'come', 'stripes', 'skirt'],\n ['people',\n  'msgs',\n  'think',\n  'addicted',\n  'msging',\n  'wrong',\n  'bcoz',\n  'know',\n  'addicted',\n  'sweet',\n  'friends',\n  'bslvyl'],\n ['remain', 'unconvinced', 'elaborate', 'test', 'willpower'],\n ['sorry', 'call', 'later'],\n ['sure',\n  'since',\n  'parents',\n  'working',\n  'tuesday',\n  'really',\n  'need',\n  'cover',\n  'story'],\n ['thought', 'thanks'],\n ['sorry', 'brah', 'finished', 'last', 'exams'],\n [],\n ['depends', 'going'],\n ['guaranteed',\n  'award',\n  'even',\n  'cashto',\n  'claim',\n  'award',\n  'call',\n  'free',\n  'stop',\n  'getstop'],\n ['congratulations',\n  'week',\n  'competition',\n  'draw',\n  'prize',\n  'claim',\n  'call',\n  'stop'],\n ['moby',\n  'quiz',\n  'high',\n  'street',\n  'prize',\n  'know',\n  'duchess',\n  'cornwall',\n  'first',\n  'name',\n  'unsub',\n  'stop'],\n ['thank', 'wonderful'],\n ['meet', 'fren', 'meet', 'rite'],\n ['good',\n  'morning',\n  'love',\n  'sleep',\n  'wish',\n  'great',\n  'full',\n  'feeling',\n  'better',\n  'opportunity',\n  'last',\n  'thought',\n  'babe',\n  'love',\n  'kiss'],\n ['accidentally', 'deleted', 'message', 'resend', 'please'],\n ['guys', 'asking', 'slippers', 'gone', 'last', 'year'],\n [],\n ['hoping', 'away', 'langport', 'still', 'town', 'tonight'],\n ['happened', 'interview'],\n ['dear',\n  'voucher',\n  'holder',\n  'claim',\n  'weeks',\n  'offer',\n  'http',\n  'expressoffer',\n  'apply',\n  'stop',\n  'texts',\n  'stop'],\n ['good', 'need', 'drugs'],\n ['youdoing', 'later'],\n ['ooooooh', 'forgot', 'tell', 'yoville', 'phone'],\n ['hate',\n  'call',\n  'didnt',\n  'accept',\n  'even',\n  'single',\n  'call',\n  'mine',\n  'even',\n  'messaged'],\n ['always', 'saying', 'welp'],\n ['yavnt', 'tried', 'never', 'played', 'original', 'either'],\n ['wait', 'still', 'clear', 'sure', 'sarcastic', 'want', 'live'],\n ['haha', 'okay', 'today', 'weekend'],\n ['shop',\n  'flirting',\n  'phone',\n  'number',\n  'paperwork',\n  'called',\n  'texted',\n  'nervous',\n  'course',\n  'address',\n  'call',\n  'boss',\n  'tell',\n  'knowing',\n  'fired'],\n ['wishing', 'family', 'merry', 'happy', 'year', 'advance'],\n ['available', 'soiree', 'june'],\n ['eatin',\n  'goin',\n  'back',\n  'work',\n  'soon',\n  'mountain',\n  'deer',\n  'show',\n  'watch',\n  'liao',\n  'nice'],\n ['ibored', 'wanna', 'study'],\n ['sending', 'greetings', 'happiness', 'evening'],\n ['loosu', 'hospital', 'dont', 'careless'],\n ['xmas',\n  'reward',\n  'waiting',\n  'computer',\n  'randomly',\n  'picked',\n  'loyal',\n  'mobile',\n  'customers',\n  'receive',\n  'reward',\n  'call'],\n ['know', 'watching', 'film', 'computer'],\n ['probably', 'come', 'everybody', 'done', 'around', 'right'],\n ['haha', 'thinkin'],\n ['king',\n  'video',\n  'club',\n  'need',\n  'help',\n  'info',\n  'ringtoneking',\n  'call',\n  'must',\n  'club',\n  'credits',\n  'redeemable',\n  'ringtoneking',\n  'enjoy'],\n ['carlos', 'pick', 'swing', 'little'],\n ['want',\n  'video',\n  'phone',\n  'anytime',\n  'network',\n  'mins',\n  'text',\n  'five',\n  'pounds',\n  'week',\n  'call',\n  'reply',\n  'delivery',\n  'tomorrow'],\n ['pick'],\n ['keep', 'problems', 'heart'],\n ['dont',\n  'think',\n  'need',\n  'yellow',\n  'card',\n  'travel',\n  'someone',\n  'gone',\n  'bucks'],\n ['important',\n  'information',\n  'orange',\n  'user',\n  'xxxxxxx',\n  'today',\n  'lucky',\n  'find',\n  'onto',\n  'http',\n  'urawinner',\n  'fantastic',\n  'surprise',\n  'awaiting'],\n ['sure', 'checking', 'happening', 'around', 'area'],\n ['dunno',\n  'said',\n  'coming',\n  'home',\n  'bring',\n  'lunch',\n  'call',\n  'reach',\n  'school'],\n ['company', 'good', 'environment', 'terrific', 'food', 'really', 'nice'],\n ['hmmm', 'give'],\n ['house',\n  'maid',\n  'murderer',\n  'murdered',\n  'january',\n  'public',\n  'holiday',\n  'govt',\n  'instituitions',\n  'closed',\n  'including',\n  'post',\n  'office',\n  'understand'],\n ['someonone',\n  'know',\n  'trying',\n  'contact',\n  'dating',\n  'service',\n  'find',\n  'could',\n  'call',\n  'mobile',\n  'landline'],\n ['please',\n  'call',\n  'customer',\n  'service',\n  'representative',\n  'freephone',\n  'guaranteed',\n  'cash',\n  'prize'],\n ['doesnt', 'need', 'test'],\n ['aiyo', 'poor', 'thing', 'bathe', 'already'],\n ['birthdate',\n  'certificate',\n  'april',\n  'real',\n  'date',\n  'today',\n  'dont',\n  'publish',\n  'shall',\n  'give',\n  'special',\n  'treat',\n  'keep',\n  'secret',\n  'thanks',\n  'wishes'],\n ['today',\n  'accept',\n  'accept',\n  'brother',\n  'sister',\n  'lover',\n  'dear',\n  'best',\n  'clos',\n  'lvblefrnd',\n  'jstfrnd',\n  'cutefrnd',\n  'lifpartnr',\n  'belovd',\n  'swtheart',\n  'bstfrnd',\n  'rply',\n  'means',\n  'enemy'],\n ['good', 'thinking'],\n ['know', 'know', 'send', 'chat', 'find', 'rcvd', 'suite', 'lands', 'years'],\n ['double', 'eviction', 'week', 'spiral', 'michael', 'good', 'riddance'],\n ['polyphonic',\n  'tone',\n  'every',\n  'week',\n  'tone',\n  'free',\n  'txtin',\n  'tell',\n  'friends',\n  'tone',\n  'reply',\n  'info'],\n ['late', 'meet'],\n ['please',\n  'actually',\n  'send',\n  'right',\n  'wanna',\n  'pose',\n  'comb',\n  'hair',\n  'dryer',\n  'something'],\n ['want', 'custom', 'officer', 'discount'],\n ['great',\n  'offer',\n  'double',\n  'mins',\n  'double',\n  'best',\n  'orange',\n  'tariffs',\n  'latest',\n  'camera',\n  'phones',\n  'free',\n  'call',\n  'mobileupd',\n  'free',\n  'stoptxt'],\n ['dear', 'umma', 'called'],\n ['somebody', 'website', 'play', 'hold', 'using', 'online', 'spacebucks'],\n ['still', 'tonight'],\n ['babe', 'back', 'come', 'back'],\n ['engagement',\n  'fixd',\n  'next',\n  'month',\n  'know',\n  'really',\n  'shocking',\n  'njan',\n  'vilikkam',\n  'sudn'],\n ['reckon', 'need', 'town', 'eightish', 'walk', 'carpark'],\n ['orange',\n  'brings',\n  'ringtones',\n  'time',\n  'chart',\n  'heroes',\n  'free',\n  'week',\n  'ringtones',\n  'pics',\n  'stop',\n  'receiving',\n  'tips',\n  'reply',\n  'stop'],\n ['onion', 'roast'],\n ['agree', 'stop', 'thinkin', 'ipad', 'please', 'macho', 'question'],\n ['urgent',\n  'mobile',\n  'awarded',\n  'bonus',\n  'caller',\n  'prize',\n  'final',\n  'contact',\n  'call',\n  'landline'],\n ['finish', 'bathing'],\n ['always', 'brainy'],\n ['free'],\n ['awesome', 'text', 'restocked'],\n ['request',\n  'maangalyam',\n  'alaipayuthe',\n  'callertune',\n  'callers',\n  'press',\n  'copy',\n  'friends',\n  'callertune'],\n ['textbuddy',\n  'chat',\n  'horny',\n  'guys',\n  'area',\n  'free',\n  'receive',\n  'search',\n  'postcode',\n  'gaytextbuddy',\n  'name'],\n ['stop',\n  'calling',\n  'everyone',\n  'saying',\n  'might',\n  'cancer',\n  'throat',\n  'hurts',\n  'talk',\n  'answering',\n  'everyones',\n  'calls',\n  'call',\n  'babysitting',\n  'monday'],\n ['collecting', 'laptop', 'going', 'configure', 'settings', 'izzit'],\n ['check',\n  'choose',\n  'babe',\n  'videos',\n  'shsex',\n  'netun',\n  'fgkslpopw',\n  'fgkslpo'],\n ['dude', 'seeing', 'lotta', 'corvettes', 'lately'],\n ['talk'],\n ['fuck', 'cedar', 'fuck', 'come', 'anyway'],\n ['story',\n  'last',\n  'week',\n  'wife',\n  'wish',\n  'parents',\n  'forgot',\n  'kids',\n  'went',\n  'work',\n  'even',\n  'colleagues',\n  'wish',\n  'entered',\n  'cabin',\n  'said',\n  'happy',\n  'boss',\n  'felt',\n  'special',\n  'askd',\n  'lunch',\n  'lunch',\n  'invited',\n  'apartment',\n  'went',\n  'said',\n  'mind',\n  'bedroom',\n  'minute',\n  'sexy',\n  'mood',\n  'came',\n  'minuts',\n  'latr',\n  'cake',\n  'wife',\n  'parents',\n  'kidz',\n  'friends',\n  'colleagues',\n  'screaming',\n  'surprise',\n  'waiting',\n  'sofa',\n  'naked'],\n ['oops',\n  'sorry',\n  'check',\n  'mind',\n  'picking',\n  'tomo',\n  'half',\n  'eight',\n  'station',\n  'would'],\n ['subscriber',\n  'selected',\n  'receive',\n  'bonus',\n  'delivered',\n  'door',\n  'word',\n  'claim'],\n ['friend', 'says', 'upping', 'order', 'grams'],\n ['stand', 'away', 'heart', 'ache', 'without', 'wonder', 'crave'],\n ['training', 'tomorrow'],\n ['first', 'stock', 'comin'],\n ['staff', 'science', 'phyhcmk', 'teaching'],\n ['thanx', 'brownie', 'nice'],\n ['free',\n  'message',\n  'thanks',\n  'using',\n  'auction',\n  'subscription',\n  'service',\n  'msgrcvd',\n  'skip',\n  'auction',\n  'unsubscribe',\n  'stop',\n  'customercare'],\n ['well', 'general', 'price', 'know', 'much', 'want'],\n ['come', 'back', 'tampa', 'ffffuuuuuuu'],\n ['haha', 'really', 'deduct', 'lesson'],\n ['last',\n  'chance',\n  'claim',\n  'worth',\n  'discount',\n  'vouchers',\n  'today',\n  'text',\n  'shop',\n  'savamob',\n  'offers',\n  'mobile',\n  'savamob',\n  'pobox'],\n ['awesome',\n  'question',\n  'cute',\n  'answer',\n  'someone',\n  'asked',\n  'life',\n  'smiled',\n  'answered',\n  'fine',\n  'gudnite'],\n ['usual', 'fine', 'happy', 'well'],\n ['note',\n  'anyone',\n  'calling',\n  'mobile',\n  'asks',\n  'type',\n  'disconnect',\n  'call',\n  'attempt',\n  'terrorist',\n  'make',\n  'card',\n  'confirmd',\n  'nokia',\n  'motorola',\n  'verified'],\n ['sorry', 'call', 'later'],\n ['sent', 'lanre', 'fakeye', 'eckankar', 'details', 'mail'],\n ['cant', 'laptop', 'matric', 'card'],\n ['gibbs', 'unsold', 'mike', 'hussey'],\n ['thanx',\n  'darlin',\n  'cool',\n  'thanx',\n  'bday',\n  'drinks',\n  'nite',\n  'morrow',\n  'take',\n  'care',\n  'soon'],\n ['wait'],\n ['yeah',\n  'think',\n  'register',\n  'sure',\n  'anyway',\n  'help',\n  'know',\n  'sure',\n  'ready'],\n ['back', 'brum', 'thanks', 'putting', 'keeping', 'happy', 'soon'],\n ['meeting', 'nite'],\n ['theory',\n  'argument',\n  'wins',\n  'situation',\n  'loses',\n  'person',\n  'dont',\n  'argue',\n  'friends',\n  'kick',\n  'always',\n  'correct'],\n ['thesmszone',\n  'lets',\n  'send',\n  'free',\n  'anonymous',\n  'masked',\n  'messages',\n  'sending',\n  'message',\n  'potential',\n  'abuse'],\n ['tunde', 'wishing', 'great', 'abiola'],\n ['wait', 'need', 'feel'],\n ['would',\n  'back',\n  'maybe',\n  'today',\n  'told',\n  'direct',\n  'link',\n  'getting',\n  'cars',\n  'bids',\n  'online',\n  'arrange',\n  'shipping',\n  'partnership',\n  'invest',\n  'money',\n  'shipping',\n  'takes',\n  'care',\n  'rest',\n  'self',\n  'reliant',\n  'soon',\n  'worry'],\n ['congrats',\n  'mobile',\n  'videophones',\n  'call',\n  'videochat',\n  'mates',\n  'play',\n  'java',\n  'games',\n  'dload',\n  'polyph',\n  'music',\n  'noline',\n  'rentl'],\n ['seen', 'back', 'holby'],\n ['reminder',\n  'downloaded',\n  'content',\n  'already',\n  'paid',\n  'goto',\n  'http',\n  'doit',\n  'mymoby',\n  'collect',\n  'content'],\n ['taking', 'practical', 'lessons', 'start', 'june'],\n ['cant', 'pick', 'phone', 'right', 'send', 'message'],\n ['todays', 'class'],\n ['shop',\n  'till',\n  'drop',\n  'either',\n  'cash',\n  'travel',\n  'voucher',\n  'call',\n  'fixedline',\n  'cost',\n  'mobile',\n  'vary'],\n ['make', 'lasagna', 'vodka'],\n ['sorry', 'battery', 'died', 'yeah'],\n ['still', 'attending', 'talks'],\n ['dont', 'restrict', 'eating', 'anythin', 'likes', 'next', 'days'],\n ['lovely', 'night'],\n ['dont', 'play', 'others', 'life'],\n ['nothing', 'bored', 'home', 'early', 'sleep', 'today'],\n ['like',\n  'tell',\n  'deepest',\n  'darkest',\n  'fantasies',\n  'call',\n  'stop',\n  'texts',\n  'call',\n  'rate'],\n ['crab',\n  'running',\n  'shore',\n  'waves',\n  'came',\n  'cleared',\n  'footprints',\n  'crab',\n  'crab',\n  'asked',\n  'frnd',\n  'clearing',\n  'beautiful',\n  'footprints',\n  'waves',\n  'replied',\n  'following',\n  'footprints',\n  'catch',\n  'thats',\n  'cleared',\n  'frndsship',\n  'never',\n  'lets'],\n ['office'],\n ['things', 'quick', 'question'],\n ['dont',\n  'search',\n  'love',\n  'love',\n  'find',\n  'thats',\n  'called',\n  'falling',\n  'love',\n  'bcoz',\n  'dont',\n  'force',\n  'fall',\n  'know',\n  'smeone',\n  'hold',\n  'bslvyl'],\n ['kate', 'give', 'ring', 'asap'],\n ['going', 'esplanade', 'home'],\n ['laptop', 'stock', 'come', 'take', 'look'],\n ['darlin',\n  'supose',\n  'worry',\n  'much',\n  'film',\n  'stuff',\n  'mate',\n  'babysit',\n  'call'],\n ['urgent',\n  'please',\n  'call',\n  'landline',\n  'cash',\n  'luxury',\n  'canary',\n  'islands',\n  'holiday',\n  'await',\n  'collection',\n  'award'],\n ['seems', 'unnecessarily', 'affectionate'],\n ['thts', 'gift', 'birds', 'humans', 'natural', 'gift'],\n ['thanks',\n  'ringtone',\n  'order',\n  'reference',\n  'charged',\n  'week',\n  'unsubscribe',\n  'anytime',\n  'calling',\n  'customer',\n  'services'],\n ['okay', 'soon', 'best'],\n ['todays',\n  'voda',\n  'numbers',\n  'ending',\n  'selected',\n  'receive',\n  'award',\n  'match',\n  'please',\n  'call',\n  'quoting',\n  'claim',\n  'code',\n  'standard',\n  'rates'],\n ['fine', 'anytime', 'best'],\n ['think', 'mentor', 'percent', 'sure'],\n ['nope', 'come', 'online'],\n ['whats', 'todays', 'plan'],\n ['coming', 'funeral', 'home'],\n ['love', 'soul', 'fire', 'spark', 'flame', 'rawring', 'flame', 'xoxo'],\n ['winner',\n  'valued',\n  'network',\n  'customer',\n  'selected',\n  'receivea',\n  'prize',\n  'reward',\n  'claim',\n  'call',\n  'claim',\n  'code',\n  'valid',\n  'hours'],\n ['dint', 'come'],\n ['slowly',\n  'love',\n  'need',\n  'clean',\n  'heart',\n  'blood',\n  'send',\n  'special',\n  'people',\n  'miracle',\n  'tomorrow'],\n ['much', 'better', 'thanks'],\n ['chosen',\n  'receive',\n  'award',\n  'call',\n  'claim',\n  'number',\n  'collect',\n  'award',\n  'selected',\n  'receive',\n  'valued',\n  'mobile',\n  'customer'],\n ['problem', 'talk', 'later'],\n ['hurts', 'musta', 'overdid'],\n ['know',\n  'changes',\n  'next',\n  'even',\n  'appendix',\n  'range',\n  'however',\n  'impossible',\n  'chill',\n  'know'],\n ['want',\n  'tell',\n  'feel',\n  'basically',\n  'times',\n  'text',\n  'lately',\n  'need',\n  'drugs'],\n ['nope', 'bathing', 'bathe', 'looks', 'like', 'going', 'rain', 'soon'],\n ['studying', 'surfing', 'lazy', 'mode', 'today'],\n ['time', 'wrkin'],\n ['think', 'still', 'need', 'cash', 'ready'],\n ['medical', 'missions', 'nigeria'],\n ['hello', 'peach', 'cake', 'tasts', 'lush'],\n ['snickering', 'tells', 'totally', 'fucking', 'chords', 'speak'],\n ['send', 'like'],\n ['hiya', 'good', 'spoken', 'since', 'weekend'],\n ['actually',\n  'mobile',\n  'full',\n  'work',\n  'online',\n  'need',\n  'send',\n  'sent',\n  'explain',\n  'later'],\n ['designation', 'software', 'developer', 'chennai'],\n ['oops'],\n ['hello', 'andrews', 'long', 'cold', 'keep', 'posted'],\n ['chinese', 'food', 'paying', 'lipo'],\n ['live', 'fantasies', 'call', 'croydon'],\n ['good', 'combination'],\n ['leaving', 'soon', 'little'],\n ['yijue', 'meeting', 'esaplanade', 'tonight'],\n ['could', 'seen', 'recognise', 'face'],\n ['stayin',\n  'trouble',\n  'stranger',\n  'dave',\n  'sorted',\n  'still',\n  'bloke',\n  'gona',\n  'girl',\n  'still',\n  'thinks',\n  'getha'],\n ['change', 'plan', 'liao', 'back'],\n ['good',\n  'afternoon',\n  'love',\n  'goes',\n  'hope',\n  'maybe',\n  'leads',\n  'think',\n  'boytoy',\n  'send',\n  'passionate',\n  'kiss',\n  'across'],\n ['posible', 'live', 'century', 'frwd', 'thnk', 'different'],\n ['still', 'pretty', 'weak', 'today'],\n ['alright', 'sure', 'know', 'leaving'],\n ['turns',\n  'friends',\n  'staying',\n  'whole',\n  'show',\n  'back',\n  'feel',\n  'free',\n  'ahead',\n  'smoke',\n  'worth'],\n ['wlcome', 'back', 'wonder', 'eaten', 'lion', 'something', 'nothing', 'much'],\n ['thinking', 'chennai', 'forgot', 'come', 'auction'],\n ['lecture'],\n ['morning', 'come'],\n ['bognor', 'splendid', 'time', 'year'],\n ['christmas', 'enjoy', 'merry'],\n ['double',\n  'check',\n  'hair',\n  'dresser',\n  'already',\n  'said',\n  'short',\n  'said',\n  'look',\n  'nice'],\n ['stalk', 'profiles'],\n ['nokia', 'phone', 'lovly'],\n ['money',\n  'lucky',\n  'winner',\n  'claim',\n  'prize',\n  'text',\n  'money',\n  'million',\n  'give',\n  'away',\n  'normal',\n  'text',\n  'rate'],\n ['wuld',\n  'without',\n  'baby',\n  'thought',\n  'alone',\n  'mite',\n  'break',\n  'wanna',\n  'crazy',\n  'everyboy',\n  'needs',\n  'lady',\n  'xxxxxxxx'],\n ['lousy',\n  'sleep',\n  'kept',\n  'waking',\n  'every',\n  'hours',\n  'wanted',\n  'come',\n  'worry',\n  'cold'],\n ['free',\n  'ringtone',\n  'text',\n  'first',\n  'poly',\n  'text',\n  'true',\n  'tone',\n  'help',\n  'free',\n  'tones',\n  'stop'],\n ['anyone',\n  'calls',\n  'treadmill',\n  'make',\n  'sure',\n  'working',\n  'found',\n  'craigslist',\n  'selling'],\n ['another', 'month', 'need', 'chocolate', 'weed', 'alcohol'],\n ['worry', 'finished', 'march'],\n ['send',\n  'logo',\n  'lover',\n  'names',\n  'joined',\n  'heart',\n  'love',\n  'name',\n  'name',\n  'mobno',\n  'love',\n  'adam',\n  'yahoo',\n  'pobox',\n  'txtno'],\n ['send', 'naughty'],\n ['aslamalaikkum',\n  'insha',\n  'allah',\n  'tohar',\n  'beeen',\n  'muht',\n  'albi',\n  'mufti',\n  'mahfuuz',\n  'meaning'],\n ['dear', 'chechi', 'talk'],\n ['okie', 'okie', 'make', 'unlimited', 'haha'],\n ['going', 'sleep', 'hope', 'meet'],\n ['thats', 'cool', 'liked', 'photos', 'sexy'],\n ['anything', 'coming'],\n ['goin', 'nite'],\n ['rofl', 'betta', 'invest', 'anti', 'aging', 'products'],\n ['help',\n  'tell',\n  'sura',\n  'expecting',\n  'battery',\n  'hont',\n  'send',\n  'message',\n  'download',\n  'movies',\n  'thanks'],\n ['lucky', 'save', 'money'],\n ['foreign', 'stamps', 'whatever', 'send'],\n ['ever',\n  'green',\n  'quote',\n  'ever',\n  'told',\n  'jerry',\n  'cartoon',\n  'person',\n  'irritates',\n  'always',\n  'loves',\n  'much',\n  'fails',\n  'express'],\n ['olowoyey',\n  'great',\n  'time',\n  'argentina',\n  'secretary',\n  'everything',\n  'blessing'],\n ['reach'],\n ['lots', 'used', 'ones', 'babe', 'model', 'help', 'youi', 'bring', 'match'],\n ['apple',\n  'doctor',\n  'tulsi',\n  'leaf',\n  'cancer',\n  'lemon',\n  'milk',\n  'bone',\n  'problms',\n  'litres',\n  'watr',\n  'diseases',\n  'care'],\n ['charge', 'camera'],\n ['gotta', 'collect'],\n [],\n ['great', 'getting', 'hungry'],\n ['come', 'pick', 'come', 'immediately', 'lesson'],\n ['think', 'waste'],\n ['sorry',\n  'earlier',\n  'putting',\n  'fires',\n  'around',\n  'talk',\n  'actually',\n  'life'],\n ['idea'],\n ['waking', 'afternoon'],\n ['miss'],\n ['railway'],\n ['contacted',\n  'dating',\n  'service',\n  'someone',\n  'know',\n  'find',\n  'call',\n  'land',\n  'line',\n  'pobox'],\n ['hiya',\n  'like',\n  'hlday',\n  'pics',\n  'looked',\n  'horrible',\n  'took',\n  'hows',\n  'camp',\n  'amrca',\n  'thing',\n  'speak',\n  'soon',\n  'serena'],\n ['either', 'works', 'years', 'hope', 'doesnt', 'bother'],\n [],\n ['leave', 'deal', 'take', 'care'],\n ['lunch'],\n ['geeeee', 'internet', 'really', 'today'],\n ['onum', 'normal'],\n ['later', 'guess', 'needa', 'mcat', 'study'],\n ['help', 'tell', 'ashley', 'cant', 'find', 'number'],\n ['fetch', 'fetch'],\n ['someone',\n  'know',\n  'asked',\n  'dating',\n  'service',\n  'contact',\n  'cant',\n  'guess',\n  'call',\n  'revealed'],\n ['school', 'stuff', 'give', 'call', 'done'],\n ['change', 'also'],\n ['life',\n  'means',\n  'love',\n  'life',\n  'love',\n  'people',\n  'life',\n  'world',\n  'calls',\n  'friends',\n  'call',\n  'world'],\n ['sweet',\n  'wondering',\n  'moment',\n  'might',\n  'come',\n  'want',\n  'send',\n  'file',\n  'someone',\n  'yahoo',\n  'connection',\n  'sucks',\n  'remember',\n  'page',\n  'download',\n  'format',\n  'disc',\n  'could',\n  'tell',\n  'know',\n  'download',\n  'files',\n  'download',\n  'stuff',\n  'directly',\n  'internet',\n  'help',\n  'would',\n  'great',\n  'prey',\n  'teasing',\n  'kiss'],\n ['well',\n  'slightly',\n  'disastrous',\n  'class',\n  'darlings',\n  'hope',\n  'coffee',\n  'good',\n  'stay',\n  'late',\n  'tomorrow',\n  'time',\n  'place',\n  'always'],\n ['gonna', 'pick', 'burger', 'home', 'even', 'move', 'pain', 'killing'],\n ['blind',\n  'date',\n  'rodds',\n  'aberdeen',\n  'united',\n  'kingdom',\n  'check',\n  'http',\n  'icmb',\n  'cktz',\n  'blind',\n  'dates',\n  'send',\n  'hide'],\n ['xmas',\n  'prize',\n  'draws',\n  'trying',\n  'contact',\n  'todays',\n  'draw',\n  'shows',\n  'prize',\n  'guaranteed',\n  'call',\n  'land',\n  'line',\n  'valid'],\n ['burgundy', 'captaining', 'party', 'boat', 'yeah'],\n ['good', 'find'],\n ['garden',\n  'ready',\n  'summer',\n  'free',\n  'selection',\n  'summer',\n  'bulbs',\n  'seeds',\n  'worth',\n  'scotsman',\n  'saturday',\n  'stop',\n  'notxt'],\n ['airport', 'road', 'oredi', 'pple'],\n ['outside',\n  'like',\n  'hours',\n  'called',\n  'whole',\n  'family',\n  'wake',\n  'cause',\n  'started'],\n ['free',\n  'ringtone',\n  'waiting',\n  'collected',\n  'simply',\n  'text',\n  'password',\n  'verify',\n  'usher',\n  'britney'],\n ['bruce', 'downs', 'fletcher'],\n ['hello', 'good', 'week', 'fancy', 'drink', 'something', 'later'],\n ['appt', 'time', 'fault', 'listen', 'told', 'twice'],\n ['means', 'fine'],\n ['excellent', 'wish', 'together', 'right'],\n ['love',\n  'brother',\n  'time',\n  'talk',\n  'english',\n  'grins',\n  'muhommad',\n  'penny',\n  'says',\n  'hello',\n  'across'],\n ['going',\n  'thru',\n  'different',\n  'feeling',\n  'wavering',\n  'decisions',\n  'coping',\n  'individual',\n  'time',\n  'heal',\n  'everything',\n  'believe'],\n ['call',\n  'number',\n  'available',\n  'appointment',\n  'connect',\n  'call',\n  'waheed',\n  'fathima'],\n ['house',\n  'maid',\n  'murderer',\n  'murdered',\n  'january',\n  'public',\n  'holiday',\n  'govt',\n  'instituitions',\n  'closed',\n  'including',\n  'post',\n  'office'],\n ['pleassssssseeeeee', 'avent', 'done', 'sportsx'],\n ['small', 'prestige', 'problem'],\n ['ofcourse', 'also', 'upload', 'songs'],\n ['bluray', 'player'],\n ['customer',\n  'service',\n  'announcement',\n  'recently',\n  'tried',\n  'make',\n  'delivery',\n  'unable',\n  'please',\n  'call',\n  'schedule'],\n ['information',\n  'ikea',\n  'spelled',\n  'caps',\n  'yelling',\n  'thought',\n  'left',\n  'sitting',\n  'among',\n  'mess',\n  'came',\n  'said',\n  'going',\n  'home',\n  'class',\n  'please',\n  'bullshit',\n  'makes',\n  'want',\n  'listen',\n  'less'],\n ['becoz', 'post', 'ofice', 'holiday', 'post', 'ofice', 'duffer'],\n [],\n ['scratching'],\n ['stop', 'knowing', 'well'],\n ['babe',\n  'thanks',\n  'coming',\n  'even',\n  'though',\n  'didnt',\n  'well',\n  'wanted',\n  'hope',\n  'soon',\n  'love',\n  'kisses'],\n ['used', 'route'],\n ['thought', 'meant', 'mary', 'jane'],\n ['shall', 'start', 'hear'],\n ['know',\n  'grumpy',\n  'people',\n  'like',\n  'better',\n  'lying',\n  'always',\n  'play',\n  'jokes'],\n ['sent',\n  'customer',\n  'service',\n  'accounts',\n  'executive',\n  'mail',\n  'details',\n  'contact'],\n ['urgent',\n  'call',\n  'landline',\n  'complimentary',\n  'ibiza',\n  'holiday',\n  'cash',\n  'await',\n  'collection'],\n ['send', 'contents', 'page'],\n ['boltblue',\n  'tones',\n  'reply',\n  'poly',\n  'mono',\n  'poly',\n  'slide',\n  'yeah',\n  'slow',\n  'jamz',\n  'toxic',\n  'come',\n  'stop',\n  'tones'],\n ['happen', 'alright'],\n ['gals', 'anyone', 'going', 'driving', 'centre'],\n ['synced', 'shangela'],\n ['first',\n  'gained',\n  'since',\n  'took',\n  'second',\n  'done',\n  'blood',\n  'sugar',\n  'tests',\n  'blood',\n  'pressure',\n  'within',\n  'normal',\n  'limits',\n  'worries'],\n ['certainly',\n  'puts',\n  'things',\n  'perspective',\n  'something',\n  'like',\n  'happens'],\n ['come', 'online'],\n ['currently', 'scotland'],\n ['congrats',\n  'treat',\n  'pending',\n  'mail',\n  'days',\n  'mail',\n  'thru',\n  'respect',\n  'mother',\n  'home',\n  'check',\n  'mails'],\n ['noooooooo', 'please', 'last', 'thing', 'need', 'stress', 'life', 'fair'],\n ['thats',\n  'cool',\n  'either',\n  'raglan',\n  'edward',\n  'behind',\n  'cricket',\n  'ground',\n  'gimme',\n  'ring',\n  'closeby',\n  'tuesday'],\n ['dear',\n  'salam',\n  'alaikkum',\n  'pride',\n  'pleasure',\n  'meeting',\n  'today',\n  'shop',\n  'pleased',\n  'send',\n  'contact',\n  'number',\n  'qatar',\n  'rakhesh',\n  'indian',\n  'save',\n  'number',\n  'respectful',\n  'regards'],\n ['score', 'hundred', 'batsman'],\n ['rumour', 'going', 'apartment', 'chennai'],\n ['motivate',\n  'behind',\n  'every',\n  'darkness',\n  'shining',\n  'light',\n  'waiting',\n  'find',\n  'behind',\n  'every',\n  'best',\n  'friend',\n  'always',\n  'trust',\n  'love',\n  'bslvyl'],\n ['free',\n  'week',\n  'entry',\n  'textpod',\n  'chance',\n  'ipod',\n  'cash',\n  'every',\n  'textpod',\n  'custcare'],\n ['sorry',\n  'pain',\n  'meet',\n  'another',\n  'night',\n  'spent',\n  'late',\n  'afternoon',\n  'casualty',\n  'means',\n  'done',\n  'stuff',\n  'moro',\n  'includes',\n  'time',\n  'sheets',\n  'sorry'],\n ['write',\n  'dictionary',\n  'mode',\n  'cover',\n  'screen',\n  'hand',\n  'press',\n  'gently',\n  'remove',\n  'hand',\n  'interesting'],\n ['excellent', 'riley', 'plans'],\n ['think', 'players', 'unsold'],\n ['next',\n  'amazing',\n  'picsfree',\n  'video',\n  'sent',\n  'enjoy',\n  'enough',\n  'text',\n  'back',\n  'keyword',\n  'picsfree',\n  'next',\n  'video'],\n ['tonight'],\n ['haha',\n  'legs',\n  'neck',\n  'killing',\n  'amigos',\n  'hoping',\n  'night',\n  'burn',\n  'think',\n  'could',\n  'swing',\n  'like',\n  'hour'],\n ['hope',\n  'alright',\n  'babe',\n  'worry',\n  'might',\n  'felt',\n  'desparate',\n  'learned',\n  'fake',\n  'waiting',\n  'come',\n  'back',\n  'love'],\n ['dunno', 'lazy', 'neva'],\n ['nowadays',\n  'people',\n  'notixiquating',\n  'laxinorficated',\n  'opportunity',\n  'bambling',\n  'entropication',\n  'ever',\n  'oblisingately',\n  'opted',\n  'books',\n  'masteriastering',\n  'amplikater',\n  'fidalfication',\n  'champlaxigating',\n  'think',\n  'atrocious',\n  'wotz',\n  'opinion',\n  'junna'],\n ['message', 'responce', 'happend'],\n ['someone',\n  'contacted',\n  'dating',\n  'service',\n  'entered',\n  'phone',\n  'fancy',\n  'find',\n  'call',\n  'landline',\n  'pobox'],\n ['reach', 'home', 'safe', 'sound', 'liao'],\n ['went', 'project', 'centre'],\n ['hard',\n  'live',\n  'chat',\n  'choose',\n  'girl',\n  'connect',\n  'live',\n  'call',\n  'cheap',\n  'chat',\n  'biggest',\n  'live',\n  'service'],\n ['somewhr',\n  'someone',\n  'surely',\n  'made',\n  'decided',\n  'perfect',\n  'time',\n  'make',\n  'meet',\n  'person',\n  'till',\n  'enjoy',\n  'crushes'],\n ['hello',\n  'need',\n  'posh',\n  'birds',\n  'chaps',\n  'user',\n  'trial',\n  'prods',\n  'champneys',\n  'need',\n  'address',\n  'asap'],\n ['going', 'film', 'sorry'],\n ['nice',\n  'line',\n  'said',\n  'broken',\n  'heart',\n  'times',\n  'infront',\n  'wise',\n  'trust',\n  'good'],\n ['dude', 'haircut', 'breezy'],\n ['take', 'mokka', 'players'],\n ['take', 'small', 'dose', 'tablet', 'fever'],\n ['making', 'pics', 'bigger'],\n ['free',\n  'week',\n  'nokia',\n  'tone',\n  'every',\n  'week',\n  'nokia',\n  'txting',\n  'tell',\n  'mates',\n  'getzed',\n  'pobox',\n  'norm',\n  'tone'],\n ['please', 'leave', 'leave'],\n ['eyes', 'philosophy'],\n ...]"
     },
     "execution_count": 129,
     "metadata": {},
     "output_type": "execute_result"
    }
   ],
   "source": [
    "tokenized_emails"
   ],
   "metadata": {
    "collapsed": false
   }
  },
  {
   "cell_type": "code",
   "execution_count": 130,
   "outputs": [
    {
     "data": {
      "text/plain": "[('love', 0.9997051358222961),\n ('back', 0.9996834397315979),\n ('need', 0.9996771216392517),\n ('hope', 0.9996660351753235),\n ('make', 0.9996634125709534),\n ('things', 0.9996599555015564),\n ('call', 0.9996588230133057),\n ('said', 0.9996576905250549),\n ('cash', 0.9996487498283386),\n ('someone', 0.9996469616889954)]"
     },
     "execution_count": 130,
     "metadata": {},
     "output_type": "execute_result"
    }
   ],
   "source": [
    "w2v.wv.most_similar(positive=['good'], topn=10)"
   ],
   "metadata": {
    "collapsed": false
   }
  },
  {
   "cell_type": "markdown",
   "source": [
    "Теперь у нас есть эмбеддинги для слов. Но как получить эмбеддинги для емейлов?\n",
    "Можно просто усреднить эмбеддинги слов, входящих в емейл."
   ],
   "metadata": {
    "collapsed": false
   }
  },
  {
   "cell_type": "code",
   "execution_count": 131,
   "outputs": [],
   "source": [
    "def get_email_embedding(lemmas, model=w2v.wv, embedding_size=200):\n",
    "\n",
    "    res = np.zeros(embedding_size)\n",
    "    cnt = 0\n",
    "    for word in lemmas.split():\n",
    "        if word in model:\n",
    "            res += np.array(model[word])\n",
    "            cnt += 1\n",
    "    if cnt:\n",
    "        res = res / cnt\n",
    "    return res"
   ],
   "metadata": {
    "collapsed": false
   }
  },
  {
   "cell_type": "code",
   "execution_count": 132,
   "outputs": [
    {
     "data": {
      "text/plain": "array([ 0.00298305,  0.05603025,  0.04381673,  0.2216216 ,  0.19776689,\n       -0.28281066, -0.0683917 ,  0.38134679, -0.04561968,  0.25412065,\n       -0.20571817, -0.18839239,  0.05608255,  0.20797458, -0.14908552,\n       -0.20357999, -0.01408905, -0.00801768,  0.04463589, -0.41976711,\n        0.16608368, -0.21706545, -0.01851481,  0.07067773, -0.00548425,\n       -0.0770468 , -0.15040943, -0.2345549 , -0.09445211,  0.14942527,\n        0.27587557,  0.07912114,  0.08564716,  0.12001693, -0.05090627,\n        0.14225125,  0.16000345, -0.14343773, -0.11759694, -0.32410309,\n       -0.16749564,  0.01244746,  0.0728224 ,  0.07938295,  0.35852426,\n        0.02928632, -0.10793351, -0.09462432,  0.12671292,  0.15120055,\n        0.10938895, -0.06112665, -0.24017516, -0.18121615,  0.04513235,\n       -0.0113148 , -0.03162394, -0.10063913, -0.30887824, -0.07722541,\n       -0.02723734,  0.07230541, -0.16119006, -0.1643787 , -0.31578314,\n       -0.04483589,  0.04857713,  0.35008702, -0.26690808,  0.20043235,\n       -0.09450456, -0.04483246,  0.36700717, -0.075534  ,  0.06851957,\n        0.0666009 ,  0.18401523, -0.22954538, -0.38593391,  0.04096891,\n       -0.08125893, -0.03996689, -0.22503783,  0.43616208, -0.10299435,\n       -0.04397035, -0.15786614,  0.33072826,  0.06525403, -0.04599559,\n        0.18080516,  0.27306831,  0.07581804,  0.26919192,  0.40671977,\n        0.26354459,  0.12452466, -0.21831544,  0.18102893,  0.03169889,\n       -0.22551814,  0.29441857,  0.09294356, -0.11501621, -0.23516911,\n       -0.2527605 ,  0.10769601,  0.33906117, -0.10747821, -0.21607542,\n       -0.12621109, -0.23512137, -0.0129813 , -0.16670567,  0.01801586,\n       -0.01169854,  0.09339049, -0.44432431,  0.00279221, -0.30659467,\n        0.03079368,  0.34402663,  0.16341597, -0.22084023, -0.16590597,\n        0.14797679, -0.17393427, -0.12161079, -0.04733608, -0.07726801,\n        0.10832064,  0.1506943 , -0.03907431, -0.03463968, -0.11402488,\n        0.17872588, -0.32183805, -0.32477209, -0.19237632, -0.36684954,\n        0.14571001, -0.30308652, -0.02951978, -0.09121499, -0.16540061,\n       -0.18234383, -0.15667333,  0.16907749, -0.06368565,  0.11514222,\n        0.09491465, -0.24802096,  0.07037596,  0.26044115, -0.38128063,\n        0.38348123,  0.20319845,  0.08620305, -0.08561811,  0.17362213,\n        0.17700678,  0.15260376, -0.18943393, -0.03597215, -0.12622081,\n        0.09855757,  0.196116  , -0.30195296, -0.17070884,  0.09069613,\n       -0.36396977,  0.04474034, -0.0193901 , -0.18877149,  0.1597299 ,\n        0.16248783, -0.2446202 ,  0.05135011,  0.04543311,  0.17983907,\n       -0.04139458,  0.08421017, -0.02971857,  0.08068188,  0.17171477,\n        0.09115583, -0.13782188,  0.17737231,  0.40898076,  0.12653722,\n        0.21411845, -0.10735064, -0.20850281, -0.13903485,  0.21054044,\n        0.04836964,  0.07335836, -0.29553449,  0.04676543, -0.14022845])"
     },
     "execution_count": 132,
     "metadata": {},
     "output_type": "execute_result"
    }
   ],
   "source": [
    "get_email_embedding('text')"
   ],
   "metadata": {
    "collapsed": false
   }
  },
  {
   "cell_type": "markdown",
   "source": [
    "Для каждого email из обучающей и тестовой выборки вычислим такой эмбеддинг:"
   ],
   "metadata": {
    "collapsed": false
   }
  },
  {
   "cell_type": "code",
   "execution_count": 133,
   "outputs": [
    {
     "data": {
      "text/plain": "      label                                               text  \\\n3107      0  Hello hun how ru? Its here by the way. Im good...   \n\n                                                 lemmas  \\\n3107  hello good dates walkabout meet soon hows ever...   \n\n                                          w2v_embedding  \\\n3107  [-0.0012420550753761614, 0.02923354439969574, ...   \n\n                                           ft_embedding  \n3107  [0.01866847068642176, -0.01585730581334041, 0....  ",
      "text/html": "<div>\n<style scoped>\n    .dataframe tbody tr th:only-of-type {\n        vertical-align: middle;\n    }\n\n    .dataframe tbody tr th {\n        vertical-align: top;\n    }\n\n    .dataframe thead th {\n        text-align: right;\n    }\n</style>\n<table border=\"1\" class=\"dataframe\">\n  <thead>\n    <tr style=\"text-align: right;\">\n      <th></th>\n      <th>label</th>\n      <th>text</th>\n      <th>lemmas</th>\n      <th>w2v_embedding</th>\n      <th>ft_embedding</th>\n    </tr>\n  </thead>\n  <tbody>\n    <tr>\n      <th>3107</th>\n      <td>0</td>\n      <td>Hello hun how ru? Its here by the way. Im good...</td>\n      <td>hello good dates walkabout meet soon hows ever...</td>\n      <td>[-0.0012420550753761614, 0.02923354439969574, ...</td>\n      <td>[0.01866847068642176, -0.01585730581334041, 0....</td>\n    </tr>\n  </tbody>\n</table>\n</div>"
     },
     "execution_count": 133,
     "metadata": {},
     "output_type": "execute_result"
    }
   ],
   "source": [
    "test.sample()"
   ],
   "metadata": {
    "collapsed": false
   }
  },
  {
   "cell_type": "code",
   "execution_count": 134,
   "outputs": [
    {
     "data": {
      "text/plain": "0.8789237668161435"
     },
     "execution_count": 134,
     "metadata": {},
     "output_type": "execute_result"
    }
   ],
   "source": [
    "train['w2v_embedding'] = train['lemmas'].map(get_email_embedding)\n",
    "test['w2v_embedding'] = test['lemmas'].map(get_email_embedding)\n",
    "\n",
    "clf = LogisticRegression(random_state=42, max_iter=500)\n",
    "clf.fit(list(train['w2v_embedding'].values), y_train)\n",
    "\n",
    "pred = clf.predict(list(test['w2v_embedding'].values))\n",
    "accuracy_score(pred, y_test)"
   ],
   "metadata": {
    "collapsed": false
   }
  },
  {
   "cell_type": "code",
   "execution_count": 135,
   "outputs": [
    {
     "name": "stdout",
     "output_type": "stream",
     "text": [
      "              precision    recall  f1-score   support\n",
      "\n",
      "           0       1.00      0.88      0.94      1111\n",
      "           1       0.01      0.25      0.01         4\n",
      "\n",
      "    accuracy                           0.88      1115\n",
      "   macro avg       0.50      0.57      0.48      1115\n",
      "weighted avg       0.99      0.88      0.93      1115\n",
      "\n"
     ]
    }
   ],
   "source": [
    "print(classification_report(pred, y_test))"
   ],
   "metadata": {
    "collapsed": false
   }
  },
  {
   "cell_type": "markdown",
   "source": [
    "### *Вывод:*\n",
    "\n",
    "#### Для класса 0 модель показывает высокую точность (precision) - 1.0 и низкую полноту (recall) - 0.87, что может означать, что модель хорошо относит объекты к классу 0, но может пропустить некоторые объекты, которые на самом деле принадлежат к этому классу.\n",
    "\n",
    "#### Для класса 1 модель показывает низкую точность - 0.0 и полноту - 0.0, что говорит о том, что модель не смогла распознать ни один объект этого класса.\n",
    "\n",
    "#### Accuracy модели составляет 0.87, что может показаться неплохим результатом, однако этот показатель может быть обманчивым, особенно при работе с несбалансированными классами.\n",
    "\n",
    "#### Macro avg и weighted avg F1-score показывают, что модель не справляется хорошо с обнаружением объектов класса 1.\n",
    "\n",
    "## FastText\n",
    "\n",
    "FastText - это модификация модели word2vec.\n",
    "\n",
    "FastText использует не только векторы слов, но и векторы n-грам. В корпусе каждое слово автоматически представляется в виде набора символьных n-грамм. Скажем, если мы установим n=3, то вектор для слова \"where\" будет представлен суммой векторов следующих триграм: \"<wh\", \"whe\", \"her\", \"ere\", \"re>\" (где \"<\" и \">\" символы, обозначающие начало и конец слова). Благодаря этому мы можем также получать вектора для слов, отсутствуюших в словаре, а также эффективно работать с текстами, содержащими ошибки и опечатки.\n",
    "\n",
    "* [Статья](https://aclweb.org/anthology/Q17-1010)\n",
    "* [Сайт](https://fasttext.cc/)\n",
    "* [Руководство](https://fasttext.cc/docs/en/support.html)\n",
    "* [Репозиторий](https://github.com/facebookresearch/fasttext)\n",
    "\n",
    "Есть библиотека `fasttext` для питона (с готовыми моделями можно работать и через `gensim`).\n",
    "\n",
    "На сайте проекта можно найти предобученные модели для 157 языков (в том числе русского): https://fasttext.cc/docs/en/crawl-vectors.html\n",
    "\n",
    "Для начала, попробуем взять предобученную модель fastText с сайта проекта и заменить эмбеддинги в модели выше на эмбеддинги fastText.\n",
    "\n",
    "Можно попробовать взять модель с сайта проекта Rusvetores: https://rusvectores.org/ru/models/"
   ],
   "metadata": {
    "collapsed": false
   }
  },
  {
   "cell_type": "code",
   "execution_count": 136,
   "outputs": [],
   "source": [
    "# !pip install fasttext==0.9.2"
   ],
   "metadata": {
    "collapsed": false
   }
  },
  {
   "cell_type": "code",
   "execution_count": 137,
   "outputs": [],
   "source": [
    "# !pip install fasttext-wheel"
   ],
   "metadata": {
    "collapsed": false
   }
  },
  {
   "cell_type": "code",
   "execution_count": 138,
   "outputs": [
    {
     "name": "stdout",
     "output_type": "stream",
     "text": [
      "Help on function download_model in module fasttext.util.util:\n",
      "\n",
      "download_model(lang_id, if_exists='strict', dimension=None)\n",
      "    Download pre-trained common-crawl vectors from fastText's website\n",
      "    https://fasttext.cc/docs/en/crawl-vectors.html\n",
      "\n"
     ]
    }
   ],
   "source": [
    "help(fasttext.util.download_model)"
   ],
   "metadata": {
    "collapsed": false
   }
  },
  {
   "cell_type": "code",
   "execution_count": 139,
   "outputs": [
    {
     "name": "stdout",
     "output_type": "stream",
     "text": [
      "CPU times: total: 0 ns\n",
      "Wall time: 0 ns\n"
     ]
    }
   ],
   "source": [
    "%%time\n",
    "# Загрузка модели, если ее нет на диске ==> ОЧЕНЬ МНОГО ВЕСИТ\n",
    "\n",
    "# fasttext.util.download_model('ru', if_exists='ignore') # russian\n",
    "# fasttext.util.download_model('en', if_exists='ignore') # english ==> ЗАГРУЖЕНА ЛОКАЛЬНО"
   ],
   "metadata": {
    "collapsed": false
   }
  },
  {
   "cell_type": "code",
   "execution_count": 58,
   "outputs": [
    {
     "name": "stderr",
     "output_type": "stream",
     "text": [
      "Warning : `load_model` does not return WordVectorModel or SupervisedModel any more, but a `FastText` object which is very similar.\n"
     ]
    }
   ],
   "source": [
    "# Загрузка модели в переменную ft\n",
    "# ft = fasttext.load_model('cc.ru.300.bin')\n",
    "# ft = fasttext.load_model('cc.en.300.bin')\n",
    "\n",
    "ft = fasttext.load_model(\"C:\\\\Users\\\\HOME\\\\PycharmProjects\\\\cc.en.300.bin\")"
   ],
   "metadata": {
    "collapsed": false
   }
  },
  {
   "cell_type": "code",
   "execution_count": 59,
   "outputs": [
    {
     "data": {
      "text/plain": "array([-2.44131102e-03,  6.86634844e-03, -4.64297691e-03,  5.68052717e-02,\n       -8.97633377e-03, -4.34392244e-02, -4.15134765e-02, -1.96466725e-02,\n       -1.92641281e-02,  3.78250182e-02,  1.11727994e-02, -7.56735215e-04,\n        1.16112689e-02, -1.02469735e-02,  2.12699939e-02, -1.27778742e-02,\n        2.78060678e-02, -3.84030328e-03,  5.82022453e-03,  6.13621138e-02,\n       -3.29374447e-02,  2.77478788e-02, -2.64538289e-03,  1.31018646e-02,\n        4.29556891e-02,  3.20734307e-02,  2.35034321e-02,  3.64242829e-02,\n        1.46307768e-02, -1.09952707e-02,  1.80780480e-03,  4.46964875e-02,\n        2.41486672e-02,  3.29661109e-02,  2.65991520e-02,  1.39829051e-02,\n       -1.91206783e-02,  9.06543359e-02,  1.01913642e-02,  1.46549726e-02,\n       -2.65019294e-02, -2.43958365e-02,  3.87098975e-02,  2.88005592e-03,\n       -3.42124514e-02, -7.70211732e-03, -1.03406636e-02,  1.95757486e-02,\n       -4.01332974e-03,  3.15076858e-02,  8.09701346e-03, -2.69619655e-02,\n        1.27951773e-02, -1.87637564e-02,  6.45012315e-03,  1.35421520e-02,\n        2.06575636e-02,  6.72345161e-02, -3.05686202e-02, -1.19060429e-03,\n       -3.34815569e-02, -3.90172540e-03, -1.64188948e-02,  2.44756732e-02,\n        2.50424445e-02,  8.91424343e-03,  1.34099519e-03,  7.08629517e-03,\n       -9.77850426e-03,  3.56555847e-03,  3.67158540e-02, -1.74041148e-02,\n       -4.12318818e-02, -1.88148264e-02, -3.28654498e-02, -5.31758368e-03,\n       -8.62410292e-04,  3.67802978e-02,  7.42578655e-02,  4.91329134e-02,\n       -2.76520792e-02, -2.40072398e-03, -9.03249998e-03,  1.39827402e-02,\n       -2.94499341e-02,  1.00793494e-02, -5.37225939e-02, -2.24043857e-02,\n       -3.54609312e-03,  2.79208645e-03, -1.30499480e-02,  1.00907544e-02,\n       -1.97445322e-02,  1.84850600e-02,  3.80808711e-02,  3.10053527e-02,\n        4.72802408e-02, -4.92067542e-03,  2.28227465e-03, -2.74000922e-03,\n       -2.13311817e-02, -7.30201788e-03, -1.68377385e-02,  2.76746005e-02,\n        2.07770411e-02,  1.39156133e-02,  2.31609885e-02,  4.43431549e-03,\n       -2.88967267e-02,  1.87812485e-02, -2.06861570e-02, -3.56581099e-02,\n       -9.76834679e-04, -2.83069685e-02, -3.43471877e-02,  1.19546177e-02,\n       -6.37947395e-02, -2.20877212e-02, -1.71476323e-02, -2.39253300e-03,\n       -1.06566316e-02, -1.53987901e-02,  2.38207611e-03, -1.16598858e-02,\n        7.64488766e-04,  3.81361432e-02, -2.11059488e-03, -3.39053907e-02,\n        1.79415010e-02, -4.78653163e-02,  1.10168243e-02, -1.13888271e-02,\n       -1.99255496e-02,  4.96411361e-02,  8.69163275e-02,  2.58571538e-03,\n       -6.28693169e-03, -1.33576281e-02, -2.24636588e-02, -9.46701318e-03,\n       -7.35351630e-03, -4.26166207e-02, -2.81112734e-02, -7.15865195e-03,\n       -3.39638852e-02, -7.08455592e-03, -3.36407088e-02,  9.28694906e-04,\n       -2.60711182e-02,  1.60508770e-02,  4.07098122e-02, -2.03461107e-02,\n       -7.78447092e-02,  2.00578384e-02, -2.90771539e-04,  1.61014702e-02,\n       -2.57589668e-02,  8.63426272e-03, -2.43075620e-02, -2.86694728e-02,\n        1.25054838e-02, -1.06695490e-02, -2.11878456e-02,  1.14439586e-02,\n       -1.08016022e-02,  1.25400657e-02, -3.47333737e-02,  1.33746210e-02,\n       -2.54632346e-02,  8.36141966e-03, -3.85064147e-02, -1.89928170e-02,\n       -3.86153162e-03, -2.02348386e-03,  3.79020609e-02, -2.44532917e-02,\n        5.56684891e-03, -2.02921461e-02,  4.50359145e-03,  1.44086676e-02,\n        1.90001521e-02,  1.06978687e-02,  5.22274524e-04,  1.34451305e-02,\n       -8.44594929e-03, -4.54630470e-03, -9.99768730e-03, -4.97239735e-03,\n       -1.56400818e-02, -3.02033295e-04,  1.93312287e-03,  6.92387158e-03,\n       -2.58501694e-02,  7.22899626e-04, -1.70822851e-02, -2.29547415e-02,\n        1.04088271e-02,  9.26054548e-03, -4.54433402e-03,  5.91529496e-02,\n       -6.59631267e-02, -3.42909843e-02,  1.10021075e-02,  5.78046171e-03,\n       -1.46444775e-02,  3.48547958e-02,  3.24447565e-02, -1.72054730e-02,\n       -9.71865375e-03, -7.45287770e-03, -1.87981373e-03, -1.81960557e-02,\n        1.90841462e-02,  1.69042731e-03, -2.91032568e-02, -1.89868007e-02,\n       -1.78696141e-02, -7.98318721e-03,  6.79187477e-03,  2.93039046e-02,\n       -4.73616309e-02,  4.60486971e-02, -7.88654288e-05,  2.88042687e-02,\n        4.12073657e-02,  2.15066150e-02, -6.42005180e-04,  4.66480711e-03,\n       -5.76763530e-04,  6.36858726e-03, -2.56840093e-03, -2.26283222e-02,\n        4.93533686e-02,  3.15862186e-02,  1.33581283e-02, -3.24638486e-02,\n       -1.44666070e-02,  3.63256149e-02, -3.19138868e-03, -1.19890701e-02,\n       -1.72949731e-02, -2.35737059e-02, -7.72632519e-03, -6.87152073e-02,\n        8.17567855e-03,  5.62523082e-02, -4.33806889e-02,  2.43274625e-02,\n       -2.24925787e-03, -2.33694762e-02,  5.38830459e-02, -2.35052276e-02,\n       -1.88007357e-03,  1.14554619e-04, -8.35037325e-03,  2.98984013e-02,\n       -3.93669913e-03,  6.86650863e-03,  2.74082907e-02, -1.05903288e-02,\n       -2.26618089e-02,  1.60791706e-02, -9.93250757e-02, -2.30530556e-02,\n       -6.97246492e-02, -3.01863626e-02, -2.22775973e-02, -8.58125556e-03,\n        8.46999604e-03,  4.75066639e-02,  1.05169239e-02,  1.85653958e-02,\n       -3.77610065e-02, -4.33898307e-02,  7.12823635e-03, -1.06251184e-02,\n       -3.33819427e-02,  2.17952989e-02, -4.01372313e-02, -1.87157057e-02,\n        4.25431691e-03,  1.77588221e-02,  1.71347968e-02,  1.20863467e-02,\n       -1.97437331e-02,  2.81457207e-03, -2.11587641e-03, -1.04615586e-02,\n        2.87410412e-02,  1.07351439e-02,  7.10006878e-02,  1.36986272e-02,\n       -3.09292078e-02,  1.50566800e-02, -8.64890218e-03,  1.78849082e-02,\n       -4.91655059e-03,  1.45615172e-02,  8.79955105e-03, -3.05089727e-03],\n      dtype=float32)"
     },
     "execution_count": 59,
     "metadata": {},
     "output_type": "execute_result"
    }
   ],
   "source": [
    "ft['hello there']"
   ],
   "metadata": {
    "collapsed": false
   }
  },
  {
   "cell_type": "code",
   "execution_count": 60,
   "outputs": [
    {
     "data": {
      "text/plain": "array([ 0.09789046,  0.04046126,  0.00286576,  0.07163598,  0.00107945,\n        0.00910006,  0.01383169, -0.00856619,  0.00804276,  0.03836769,\n       -0.01619244, -0.01600526, -0.05596297,  0.02747893,  0.14061472,\n        0.02049343,  0.01020226, -0.03844588, -0.05681249,  0.05367368,\n       -0.01524684,  0.01843753, -0.04520749,  0.01789936,  0.00734114,\n       -0.03049576,  0.00927637,  0.02301236, -0.04156304,  0.07006981,\n       -0.05795917, -0.02243821,  0.01043514,  0.01216725, -0.01421282,\n       -0.00412487,  0.05181427,  0.05744778, -0.03657544, -0.01166686,\n       -0.05278298, -0.01856061, -0.01276752,  0.03989806,  0.02795554,\n        0.00990125, -0.0142828 ,  0.03953332, -0.02063946,  0.06250986,\n        0.02253822, -0.0720943 ,  0.09007107, -0.03542015, -0.01970844,\n       -0.01840877,  0.01657757,  0.06814404, -0.01946214, -0.01990669,\n       -0.02995278,  0.04302351, -0.05441403,  0.02654148,  0.05754455,\n        0.04096775, -0.02585623,  0.03574964,  0.02606734, -0.01577042,\n        0.01556925, -0.03118725, -0.05471661, -0.06147309, -0.06183687,\n       -0.03492227, -0.04595612,  0.04086085,  0.04173013,  0.02739017,\n       -0.00798035, -0.01771062,  0.00348714,  0.04560201, -0.00449298,\n       -0.05844134,  0.03831331,  0.0059515 ,  0.00495674, -0.03179146,\n       -0.04495857, -0.00946562,  0.09987643, -0.0078065 ,  0.00989328,\n       -0.01795067,  0.01157176,  0.01770358,  0.01569181,  0.03370551,\n       -0.04507386, -0.022266  ,  0.07853416, -0.02035418,  0.00089222,\n       -0.03019245,  0.02748057, -0.02916339, -0.02795167,  0.03774409,\n        0.0323659 , -0.03012452, -0.03734893,  0.06757108, -0.00359642,\n       -0.03466072,  0.00671074, -0.01021218, -0.05673476,  0.02105223,\n       -0.02569671,  0.02192425,  0.01071378, -0.03224923,  0.00738529,\n        0.01505436,  0.02159565, -0.06770843,  0.02480682, -0.02568106,\n       -0.02190826, -0.06699533, -0.03616704, -0.02848819, -0.01397622,\n       -0.03884021, -0.02077031,  0.04778358, -0.06024318, -0.09353506,\n        0.00585002,  0.01280812,  0.00800958,  0.02755273, -0.01779494,\n        0.0162757 , -0.11611066, -0.00342191,  0.09217697,  0.06023489,\n       -0.01666778, -0.02488427, -0.04812074, -0.04391784, -0.00360789,\n        0.00251877,  0.04937042, -0.05465415, -0.01129541,  0.03808924,\n       -0.06263206,  0.002036  , -0.01204536, -0.05054684,  0.06581184,\n       -0.04603655,  0.02464538, -0.00400776,  0.02364069,  0.01729209,\n       -0.05200965, -0.00420642, -0.0042294 ,  0.02462319,  0.02380955,\n       -0.03861655,  0.01583792,  0.00307069,  0.02075878, -0.04968022,\n        0.0464638 ,  0.01460118,  0.01025311,  0.02485511,  0.03555892,\n        0.00981636,  0.06068607,  0.00274672, -0.00813401, -0.05722755,\n       -0.00442758, -0.03919598, -0.00082831, -0.00273263, -0.02403405,\n       -0.01900893, -0.03633499,  0.05716646,  0.03790494,  0.06871273,\n       -0.03629943,  0.02182267,  0.01682171, -0.00705762, -0.04675806,\n       -0.07140395, -0.01837384,  0.01759008, -0.03154868,  0.03816979,\n        0.01991673, -0.05145851, -0.05215312, -0.03140552, -0.021917  ,\n       -0.01884844,  0.01723966, -0.01551289, -0.0539988 ,  0.03508792,\n       -0.08151306,  0.01892679, -0.01731877,  0.02056928,  0.0623168 ,\n       -0.04212969, -0.04347162, -0.0674306 , -0.0492408 ,  0.05827946,\n       -0.01767839,  0.03113504, -0.00391412, -0.08273152, -0.010578  ,\n        0.00689839,  0.02775106,  0.10320388, -0.01710592,  0.03363242,\n       -0.00438084, -0.02577869,  0.01691539, -0.06832455,  0.08084308,\n        0.0114031 , -0.01267724,  0.07446138, -0.00965654,  0.01921117,\n        0.00518491, -0.05089868,  0.04967406, -0.0280416 , -0.01902851,\n        0.08412281,  0.00227255,  0.00539251,  0.05336739,  0.00268886,\n        0.03934457, -0.02172638,  0.01047551, -0.01544542, -0.01520372,\n        0.02791812, -0.02786945, -0.00324911, -0.00878549, -0.05322391,\n        0.05102953, -0.05419306, -0.06909134,  0.03227474,  0.02385567,\n        0.02261882, -0.01993304, -0.02258021, -0.04306116,  0.00957179,\n       -0.0591858 ,  0.00556716, -0.07830029, -0.00756622, -0.02933352,\n        0.01145771,  0.03018751, -0.02738716, -0.01909248, -0.01934041,\n        0.0603103 ,  0.06529054, -0.1092473 ,  0.04669131,  0.04159298,\n       -0.02680084,  0.05554337,  0.09141783, -0.02671688, -0.0244282 ])"
     },
     "execution_count": 60,
     "metadata": {},
     "output_type": "execute_result"
    }
   ],
   "source": [
    "x = 'hello everybody'\n",
    "get_email_embedding(x, model=ft, embedding_size=300)"
   ],
   "metadata": {
    "collapsed": false
   }
  },
  {
   "cell_type": "code",
   "execution_count": 61,
   "outputs": [
    {
     "name": "stdout",
     "output_type": "stream",
     "text": [
      "train done\n"
     ]
    }
   ],
   "source": [
    "train['ft_embedding'] = train['text'].apply(lambda x: get_email_embedding(x, model=ft, embedding_size=300))\n",
    "print('train done')\n",
    "\n",
    "test['ft_embedding'] = test['text'].apply(lambda x: get_email_embedding(x, model=ft, embedding_size=300))"
   ],
   "metadata": {
    "collapsed": false
   }
  },
  {
   "cell_type": "code",
   "execution_count": 63,
   "outputs": [
    {
     "data": {
      "text/plain": "      label                                               text  \\\n3512      0     Staff of placement training in Amrita college.   \n3601      0     Cps is causing the outages to conserve energy.   \n2371      0  Hmm, too many of them unfortunately... Pics ob...   \n587       0  \\Pete can you please ring meive hardly gotany ...   \n480       0                       Almost there, see u in a sec   \n\n                                                 lemmas  \\\n3512            staff placement training amrita college   \n3601                    causing outages conserve energy   \n2371  many unfortunately pics obviously arent cakes ...   \n587         pete please ring meive hardly gotany credit   \n480                                              almost   \n\n                                          w2v_embedding  \\\n3512  [0.00031061924528330564, 0.010601486079394817,...   \n3601  [0.0, 0.0, 0.0, 0.0, 0.0, 0.0, 0.0, 0.0, 0.0, ...   \n2371  [-0.002228397657745518, 0.02354218205437064, 0...   \n587   [0.000410129160930713, 0.022921637011071045, 0...   \n480   [0.0, 0.0, 0.0, 0.0, 0.0, 0.0, 0.0, 0.0, 0.0, ...   \n\n                                           ft_embedding  \n3512  [-0.00959715200068396, -0.03786172198929957, -...  \n3601  [-0.031687527953181416, -0.058610507752746344,...  \n2371  [0.02275296327794562, -0.02210996034913338, -0...  \n587   [0.02622615210711956, 0.00964561030268669, 0.0...  \n480   [0.06951984536967107, -0.11175210507852691, 0....  ",
      "text/html": "<div>\n<style scoped>\n    .dataframe tbody tr th:only-of-type {\n        vertical-align: middle;\n    }\n\n    .dataframe tbody tr th {\n        vertical-align: top;\n    }\n\n    .dataframe thead th {\n        text-align: right;\n    }\n</style>\n<table border=\"1\" class=\"dataframe\">\n  <thead>\n    <tr style=\"text-align: right;\">\n      <th></th>\n      <th>label</th>\n      <th>text</th>\n      <th>lemmas</th>\n      <th>w2v_embedding</th>\n      <th>ft_embedding</th>\n    </tr>\n  </thead>\n  <tbody>\n    <tr>\n      <th>3512</th>\n      <td>0</td>\n      <td>Staff of placement training in Amrita college.</td>\n      <td>staff placement training amrita college</td>\n      <td>[0.00031061924528330564, 0.010601486079394817,...</td>\n      <td>[-0.00959715200068396, -0.03786172198929957, -...</td>\n    </tr>\n    <tr>\n      <th>3601</th>\n      <td>0</td>\n      <td>Cps is causing the outages to conserve energy.</td>\n      <td>causing outages conserve energy</td>\n      <td>[0.0, 0.0, 0.0, 0.0, 0.0, 0.0, 0.0, 0.0, 0.0, ...</td>\n      <td>[-0.031687527953181416, -0.058610507752746344,...</td>\n    </tr>\n    <tr>\n      <th>2371</th>\n      <td>0</td>\n      <td>Hmm, too many of them unfortunately... Pics ob...</td>\n      <td>many unfortunately pics obviously arent cakes ...</td>\n      <td>[-0.002228397657745518, 0.02354218205437064, 0...</td>\n      <td>[0.02275296327794562, -0.02210996034913338, -0...</td>\n    </tr>\n    <tr>\n      <th>587</th>\n      <td>0</td>\n      <td>\\Pete can you please ring meive hardly gotany ...</td>\n      <td>pete please ring meive hardly gotany credit</td>\n      <td>[0.000410129160930713, 0.022921637011071045, 0...</td>\n      <td>[0.02622615210711956, 0.00964561030268669, 0.0...</td>\n    </tr>\n    <tr>\n      <th>480</th>\n      <td>0</td>\n      <td>Almost there, see u in a sec</td>\n      <td>almost</td>\n      <td>[0.0, 0.0, 0.0, 0.0, 0.0, 0.0, 0.0, 0.0, 0.0, ...</td>\n      <td>[0.06951984536967107, -0.11175210507852691, 0....</td>\n    </tr>\n  </tbody>\n</table>\n</div>"
     },
     "execution_count": 63,
     "metadata": {},
     "output_type": "execute_result"
    }
   ],
   "source": [
    "train.head()"
   ],
   "metadata": {
    "collapsed": false
   }
  },
  {
   "cell_type": "code",
   "execution_count": 64,
   "outputs": [
    {
     "name": "stderr",
     "output_type": "stream",
     "text": [
      "C:\\Users\\HOME\\AppData\\Local\\Programs\\Python\\Python39\\lib\\site-packages\\sklearn\\utils\\validation.py:1143: DataConversionWarning: A column-vector y was passed when a 1d array was expected. Please change the shape of y to (n_samples, ), for example using ravel().\n",
      "  y = column_or_1d(y, warn=True)\n"
     ]
    },
    {
     "data": {
      "text/plain": "0.9542600896860987"
     },
     "execution_count": 64,
     "metadata": {},
     "output_type": "execute_result"
    }
   ],
   "source": [
    "clf = LogisticRegression(random_state=42, max_iter=500)\n",
    "clf.fit(list(train['ft_embedding'].values), y_train)\n",
    "\n",
    "pred = clf.predict(list(test['ft_embedding'].values))\n",
    "accuracy_score(pred, y_test)"
   ],
   "metadata": {
    "collapsed": false
   }
  },
  {
   "cell_type": "code",
   "execution_count": 65,
   "outputs": [
    {
     "name": "stdout",
     "output_type": "stream",
     "text": [
      "              precision    recall  f1-score   support\n",
      "\n",
      "           0       0.98      0.97      0.97       999\n",
      "           1       0.74      0.85      0.80       116\n",
      "\n",
      "    accuracy                           0.95      1115\n",
      "   macro avg       0.86      0.91      0.88      1115\n",
      "weighted avg       0.96      0.95      0.96      1115\n",
      "\n"
     ]
    }
   ],
   "source": [
    "print(classification_report(pred, y_test))"
   ],
   "metadata": {
    "collapsed": false
   }
  },
  {
   "cell_type": "markdown",
   "source": [
    "### Разделим выборку на подвыборки признаков и целевой переменной."
   ],
   "metadata": {
    "collapsed": false
   }
  },
  {
   "cell_type": "code",
   "execution_count": 67,
   "outputs": [
    {
     "data": {
      "text/plain": "      label                                               text  \\\n3512      0     Staff of placement training in Amrita college.   \n3601      0     Cps is causing the outages to conserve energy.   \n2371      0  Hmm, too many of them unfortunately... Pics ob...   \n587       0  \\Pete can you please ring meive hardly gotany ...   \n480       0                       Almost there, see u in a sec   \n1250      0  Ummmmmaah Many many happy returns of d day my ...   \n2384      0                             Sorry, I'll call later   \n1536      0  How's it feel? Mr. Your not my real Valentine ...   \n1576      0  No. To be nosy I guess. Idk am I over reacting...   \n3958      0                           Have a nice day my dear.   \n\n                                                 lemmas  \\\n3512            staff placement training amrita college   \n3601                    causing outages conserve energy   \n2371  many unfortunately pics obviously arent cakes ...   \n587         pete please ring meive hardly gotany credit   \n480                                              almost   \n1250  ummmmmaah many many happy returns dear sweet h...   \n2384                                   sorry call later   \n1536     feel real valentine valentine even hardly play   \n1576                        nosy guess reacting freaked   \n3958                                          nice dear   \n\n                                          w2v_embedding  \\\n3512  [0.00031061924528330564, 0.010601486079394817,...   \n3601  [0.0, 0.0, 0.0, 0.0, 0.0, 0.0, 0.0, 0.0, 0.0, ...   \n2371  [-0.002228397657745518, 0.02354218205437064, 0...   \n587   [0.000410129160930713, 0.022921637011071045, 0...   \n480   [0.0, 0.0, 0.0, 0.0, 0.0, 0.0, 0.0, 0.0, 0.0, ...   \n1250  [-0.004145646234974265, 0.03875032543308205, 0...   \n2384  [0.0012110385578125715, 0.046027008444070816, ...   \n1536  [0.0012089292577002198, 0.03758943174034357, 0...   \n1576  [0.0036569610238075256, 0.026117848232388496, ...   \n3958  [-0.0015286598354578018, 0.041159454733133316,...   \n\n                                           ft_embedding  \n3512  [-0.00959715200068396, -0.03786172198929957, -...  \n3601  [-0.031687527953181416, -0.058610507752746344,...  \n2371  [0.02275296327794562, -0.02210996034913338, -0...  \n587   [0.02622615210711956, 0.00964561030268669, 0.0...  \n480   [0.06951984536967107, -0.11175210507852691, 0....  \n1250  [0.031044056194122486, -0.03416430305403013, -...  \n2384  [0.01660650223493576, 0.06182510366973778, 0.0...  \n1536  [0.054683612651812534, -0.05569582556684812, -...  \n1576  [0.005178493519241993, -0.06420703031695806, 0...  \n3958  [0.10706881495813529, -0.11395440995693207, -0...  ",
      "text/html": "<div>\n<style scoped>\n    .dataframe tbody tr th:only-of-type {\n        vertical-align: middle;\n    }\n\n    .dataframe tbody tr th {\n        vertical-align: top;\n    }\n\n    .dataframe thead th {\n        text-align: right;\n    }\n</style>\n<table border=\"1\" class=\"dataframe\">\n  <thead>\n    <tr style=\"text-align: right;\">\n      <th></th>\n      <th>label</th>\n      <th>text</th>\n      <th>lemmas</th>\n      <th>w2v_embedding</th>\n      <th>ft_embedding</th>\n    </tr>\n  </thead>\n  <tbody>\n    <tr>\n      <th>3512</th>\n      <td>0</td>\n      <td>Staff of placement training in Amrita college.</td>\n      <td>staff placement training amrita college</td>\n      <td>[0.00031061924528330564, 0.010601486079394817,...</td>\n      <td>[-0.00959715200068396, -0.03786172198929957, -...</td>\n    </tr>\n    <tr>\n      <th>3601</th>\n      <td>0</td>\n      <td>Cps is causing the outages to conserve energy.</td>\n      <td>causing outages conserve energy</td>\n      <td>[0.0, 0.0, 0.0, 0.0, 0.0, 0.0, 0.0, 0.0, 0.0, ...</td>\n      <td>[-0.031687527953181416, -0.058610507752746344,...</td>\n    </tr>\n    <tr>\n      <th>2371</th>\n      <td>0</td>\n      <td>Hmm, too many of them unfortunately... Pics ob...</td>\n      <td>many unfortunately pics obviously arent cakes ...</td>\n      <td>[-0.002228397657745518, 0.02354218205437064, 0...</td>\n      <td>[0.02275296327794562, -0.02210996034913338, -0...</td>\n    </tr>\n    <tr>\n      <th>587</th>\n      <td>0</td>\n      <td>\\Pete can you please ring meive hardly gotany ...</td>\n      <td>pete please ring meive hardly gotany credit</td>\n      <td>[0.000410129160930713, 0.022921637011071045, 0...</td>\n      <td>[0.02622615210711956, 0.00964561030268669, 0.0...</td>\n    </tr>\n    <tr>\n      <th>480</th>\n      <td>0</td>\n      <td>Almost there, see u in a sec</td>\n      <td>almost</td>\n      <td>[0.0, 0.0, 0.0, 0.0, 0.0, 0.0, 0.0, 0.0, 0.0, ...</td>\n      <td>[0.06951984536967107, -0.11175210507852691, 0....</td>\n    </tr>\n    <tr>\n      <th>1250</th>\n      <td>0</td>\n      <td>Ummmmmaah Many many happy returns of d day my ...</td>\n      <td>ummmmmaah many many happy returns dear sweet h...</td>\n      <td>[-0.004145646234974265, 0.03875032543308205, 0...</td>\n      <td>[0.031044056194122486, -0.03416430305403013, -...</td>\n    </tr>\n    <tr>\n      <th>2384</th>\n      <td>0</td>\n      <td>Sorry, I'll call later</td>\n      <td>sorry call later</td>\n      <td>[0.0012110385578125715, 0.046027008444070816, ...</td>\n      <td>[0.01660650223493576, 0.06182510366973778, 0.0...</td>\n    </tr>\n    <tr>\n      <th>1536</th>\n      <td>0</td>\n      <td>How's it feel? Mr. Your not my real Valentine ...</td>\n      <td>feel real valentine valentine even hardly play</td>\n      <td>[0.0012089292577002198, 0.03758943174034357, 0...</td>\n      <td>[0.054683612651812534, -0.05569582556684812, -...</td>\n    </tr>\n    <tr>\n      <th>1576</th>\n      <td>0</td>\n      <td>No. To be nosy I guess. Idk am I over reacting...</td>\n      <td>nosy guess reacting freaked</td>\n      <td>[0.0036569610238075256, 0.026117848232388496, ...</td>\n      <td>[0.005178493519241993, -0.06420703031695806, 0...</td>\n    </tr>\n    <tr>\n      <th>3958</th>\n      <td>0</td>\n      <td>Have a nice day my dear.</td>\n      <td>nice dear</td>\n      <td>[-0.0015286598354578018, 0.041159454733133316,...</td>\n      <td>[0.10706881495813529, -0.11395440995693207, -0...</td>\n    </tr>\n  </tbody>\n</table>\n</div>"
     },
     "execution_count": 67,
     "metadata": {},
     "output_type": "execute_result"
    }
   ],
   "source": [
    "train.head(10)"
   ],
   "metadata": {
    "collapsed": false
   }
  },
  {
   "cell_type": "code",
   "execution_count": 68,
   "outputs": [
    {
     "data": {
      "text/plain": "      label                                               text  \\\n2262      0               It should take about  &lt;#&gt;  min   \n5225      0  Smile in Pleasure Smile in Pain Smile when tro...   \n4525      1  I want some cock! My hubby's away, I need a re...   \n3205      0                                      At home also.   \n3326      0                what number do u live at? Is it 11?   \n958       0  My sort code is  and acc no is . The bank is n...   \n758       0                  U should have made an appointment   \n797       0  \\Petey boy whereare you me and all your friend...   \n2403      0  Jesus christ bitch I'm trying to give you drug...   \n1616      0  K, makes sense, btw carlos is being difficult ...   \n\n                                                 lemmas  \\\n2262                                               take   \n5225  smile pleasure smile pain smile trouble pours ...   \n4525  want cock hubby away need real satisfy wife st...   \n3205                                          home also   \n3326                                        number live   \n958   sort code bank natwest reply confirm sent righ...   \n758                                    made appointment   \n797   petey whereare friendsare thekingshead come ca...   \n2403  jesus christ bitch trying give drugs answer fu...   \n1616  makes sense carlos difficult guys gonna smoke ...   \n\n                                          w2v_embedding  \\\n2262  [-0.004520016256719828, 0.045791979879140854, ...   \n5225  [-0.0021381562342867254, 0.03738793069496751, ...   \n4525  [-0.0007700716572192808, 0.03537411273767551, ...   \n3205  [-5.6280987337231636e-05, 0.03414945397526026,...   \n3326  [-0.0011079624528065324, 0.040454642847180367,...   \n958   [-0.002346955647226423, 0.037857326492667195, ...   \n758   [0.0005191086092963815, 0.019484184682369232, ...   \n797   [0.002121462021023035, 0.04530158266425133, 0....   \n2403  [-0.001611222978681326, 0.030241326708346606, ...   \n1616  [-0.0037142281071282923, 0.02098093886992761, ...   \n\n                                           ft_embedding  \n2262  [0.01590464962646365, 0.0008068623021245003, -...  \n5225  [0.03856497232336551, -0.028415523171424865, 0...  \n4525  [0.02019495954404452, -0.04221223606145941, 0....  \n3205  [0.08650101100405057, 0.15684805903583765, -0....  \n3326  [0.03724216014545943, -0.10008797781275851, 0....  \n958   [0.016261394516649572, -0.015616868262771855, ...  \n758   [0.04234688247864445, -0.1692820672566692, 0.0...  \n797   [0.0601345018314367, -0.08598910352553833, 0.0...  \n2403  [0.008123037154571367, -0.006733958681042378, ...  \n1616  [0.03580115882990261, -0.10056787772919051, 0....  ",
      "text/html": "<div>\n<style scoped>\n    .dataframe tbody tr th:only-of-type {\n        vertical-align: middle;\n    }\n\n    .dataframe tbody tr th {\n        vertical-align: top;\n    }\n\n    .dataframe thead th {\n        text-align: right;\n    }\n</style>\n<table border=\"1\" class=\"dataframe\">\n  <thead>\n    <tr style=\"text-align: right;\">\n      <th></th>\n      <th>label</th>\n      <th>text</th>\n      <th>lemmas</th>\n      <th>w2v_embedding</th>\n      <th>ft_embedding</th>\n    </tr>\n  </thead>\n  <tbody>\n    <tr>\n      <th>2262</th>\n      <td>0</td>\n      <td>It should take about  &amp;lt;#&amp;gt;  min</td>\n      <td>take</td>\n      <td>[-0.004520016256719828, 0.045791979879140854, ...</td>\n      <td>[0.01590464962646365, 0.0008068623021245003, -...</td>\n    </tr>\n    <tr>\n      <th>5225</th>\n      <td>0</td>\n      <td>Smile in Pleasure Smile in Pain Smile when tro...</td>\n      <td>smile pleasure smile pain smile trouble pours ...</td>\n      <td>[-0.0021381562342867254, 0.03738793069496751, ...</td>\n      <td>[0.03856497232336551, -0.028415523171424865, 0...</td>\n    </tr>\n    <tr>\n      <th>4525</th>\n      <td>1</td>\n      <td>I want some cock! My hubby's away, I need a re...</td>\n      <td>want cock hubby away need real satisfy wife st...</td>\n      <td>[-0.0007700716572192808, 0.03537411273767551, ...</td>\n      <td>[0.02019495954404452, -0.04221223606145941, 0....</td>\n    </tr>\n    <tr>\n      <th>3205</th>\n      <td>0</td>\n      <td>At home also.</td>\n      <td>home also</td>\n      <td>[-5.6280987337231636e-05, 0.03414945397526026,...</td>\n      <td>[0.08650101100405057, 0.15684805903583765, -0....</td>\n    </tr>\n    <tr>\n      <th>3326</th>\n      <td>0</td>\n      <td>what number do u live at? Is it 11?</td>\n      <td>number live</td>\n      <td>[-0.0011079624528065324, 0.040454642847180367,...</td>\n      <td>[0.03724216014545943, -0.10008797781275851, 0....</td>\n    </tr>\n    <tr>\n      <th>958</th>\n      <td>0</td>\n      <td>My sort code is  and acc no is . The bank is n...</td>\n      <td>sort code bank natwest reply confirm sent righ...</td>\n      <td>[-0.002346955647226423, 0.037857326492667195, ...</td>\n      <td>[0.016261394516649572, -0.015616868262771855, ...</td>\n    </tr>\n    <tr>\n      <th>758</th>\n      <td>0</td>\n      <td>U should have made an appointment</td>\n      <td>made appointment</td>\n      <td>[0.0005191086092963815, 0.019484184682369232, ...</td>\n      <td>[0.04234688247864445, -0.1692820672566692, 0.0...</td>\n    </tr>\n    <tr>\n      <th>797</th>\n      <td>0</td>\n      <td>\\Petey boy whereare you me and all your friend...</td>\n      <td>petey whereare friendsare thekingshead come ca...</td>\n      <td>[0.002121462021023035, 0.04530158266425133, 0....</td>\n      <td>[0.0601345018314367, -0.08598910352553833, 0.0...</td>\n    </tr>\n    <tr>\n      <th>2403</th>\n      <td>0</td>\n      <td>Jesus christ bitch I'm trying to give you drug...</td>\n      <td>jesus christ bitch trying give drugs answer fu...</td>\n      <td>[-0.001611222978681326, 0.030241326708346606, ...</td>\n      <td>[0.008123037154571367, -0.006733958681042378, ...</td>\n    </tr>\n    <tr>\n      <th>1616</th>\n      <td>0</td>\n      <td>K, makes sense, btw carlos is being difficult ...</td>\n      <td>makes sense carlos difficult guys gonna smoke ...</td>\n      <td>[-0.0037142281071282923, 0.02098093886992761, ...</td>\n      <td>[0.03580115882990261, -0.10056787772919051, 0....</td>\n    </tr>\n  </tbody>\n</table>\n</div>"
     },
     "execution_count": 68,
     "metadata": {},
     "output_type": "execute_result"
    }
   ],
   "source": [
    "test.head(10)"
   ],
   "metadata": {
    "collapsed": false
   }
  },
  {
   "cell_type": "code",
   "execution_count": 69,
   "outputs": [
    {
     "data": {
      "text/plain": "Index(['label', 'text', 'lemmas', 'w2v_embedding', 'ft_embedding'], dtype='object')"
     },
     "execution_count": 69,
     "metadata": {},
     "output_type": "execute_result"
    }
   ],
   "source": [
    "train.columns"
   ],
   "metadata": {
    "collapsed": false
   }
  },
  {
   "cell_type": "code",
   "execution_count": 70,
   "outputs": [],
   "source": [
    "# X_train = train.drop(columns=['label', 'text', 'lemmas', 'w2v_embedding'])\n",
    "# y_train = train[['label']]\n",
    "#\n",
    "# X_test = test.drop(columns=['label', 'text', 'lemmas', 'w2v_embedding'])\n",
    "# y_test = test[['label']]"
   ],
   "metadata": {
    "collapsed": false
   }
  },
  {
   "cell_type": "code",
   "execution_count": 71,
   "outputs": [],
   "source": [
    "# print('Размер выборки признаков для обучения:', X_train.shape[0])\n",
    "# print('Размер выборки целевых значений для обучения:', y_train.shape[0])\n",
    "# print()\n",
    "# print('Размер выборки признаков для тестирования:', X_test.shape[0])\n",
    "# print('Размер выборки целевых значений для тестирования:', y_test.shape[0])\n",
    "# print()\n",
    "# print('Размер выборки для тестирования, %:', round(X_test.shape[0] / (X_test.shape[0] + X_train.shape[0]) * 100, 1))"
   ],
   "metadata": {
    "collapsed": false
   }
  },
  {
   "cell_type": "markdown",
   "source": [
    "#### Один из способов корректировки дисбаланса таргета - добавление в обучаемую модель аргумента: ```class_weight = 'balanced'```.\n",
    "\n",
    "### *Вывод:* Данные очищены от странных букв и знаков, знаки пунктуации и стоп-слова удалены, данные разделены на тестовую и обучающую выборки, в каждой из которой выделены признаки и целевое значение. Выборки признаков приведены к векторному виду и готовы к обучению."
   ],
   "metadata": {
    "collapsed": false
   }
  },
  {
   "cell_type": "code",
   "execution_count": 72,
   "outputs": [
    {
     "name": "stdout",
     "output_type": "stream",
     "text": [
      "(4457, 5)\n",
      "(4457, 1)\n"
     ]
    }
   ],
   "source": [
    "print(train.shape)\n",
    "print(y_train.shape)"
   ],
   "metadata": {
    "collapsed": false
   }
  },
  {
   "cell_type": "markdown",
   "source": [
    "## Модели\n",
    "### 1) Логистическая регрессия"
   ],
   "metadata": {
    "collapsed": false
   }
  },
  {
   "cell_type": "code",
   "execution_count": 85,
   "outputs": [
    {
     "name": "stdout",
     "output_type": "stream",
     "text": [
      "\n",
      "accuracy: 95.43%\n",
      "\n",
      "f1-score: 0.9528949462052773%\n",
      "\n",
      " [[965  17]\n",
      " [ 34  99]]\n",
      "\n",
      "               precision    recall  f1-score   support\n",
      "\n",
      "           0       0.97      0.98      0.97       982\n",
      "           1       0.85      0.74      0.80       133\n",
      "\n",
      "    accuracy                           0.95      1115\n",
      "   macro avg       0.91      0.86      0.88      1115\n",
      "weighted avg       0.95      0.95      0.95      1115\n",
      "\n"
     ]
    }
   ],
   "source": [
    "clf = LogisticRegression(random_state=42, max_iter=500)\n",
    "clf.fit(list(train['ft_embedding'].values), y_train)\n",
    "\n",
    "prediction = clf.predict(list(test['ft_embedding'].values))\n",
    "accuracy_score(pred, y_test)\n",
    "\n",
    "print(\"\\naccuracy: {}%\".format(round(accuracy_score(y_test, prediction)*100,2)))\n",
    "print(\"\\nf1-score: {}%\".format(f1_score(y_test, prediction, average='weighted')))\n",
    "print('\\n',confusion_matrix(y_test, prediction))\n",
    "print('\\n',classification_report(y_test, prediction))"
   ],
   "metadata": {
    "collapsed": false
   }
  },
  {
   "cell_type": "markdown",
   "source": [
    "Или с использованием контейнера."
   ],
   "metadata": {
    "collapsed": false
   }
  },
  {
   "cell_type": "code",
   "execution_count": 74,
   "outputs": [
    {
     "name": "stderr",
     "output_type": "stream",
     "text": [
      "C:\\Users\\HOME\\AppData\\Local\\Programs\\Python\\Python39\\lib\\site-packages\\sklearn\\utils\\validation.py:1143: DataConversionWarning: A column-vector y was passed when a 1d array was expected. Please change the shape of y to (n_samples, ), for example using ravel().\n",
      "  y = column_or_1d(y, warn=True)\n"
     ]
    },
    {
     "data": {
      "text/plain": "Pipeline(steps=[('model', LogisticRegression())])",
      "text/html": "<style>#sk-container-id-3 {color: black;background-color: white;}#sk-container-id-3 pre{padding: 0;}#sk-container-id-3 div.sk-toggleable {background-color: white;}#sk-container-id-3 label.sk-toggleable__label {cursor: pointer;display: block;width: 100%;margin-bottom: 0;padding: 0.3em;box-sizing: border-box;text-align: center;}#sk-container-id-3 label.sk-toggleable__label-arrow:before {content: \"▸\";float: left;margin-right: 0.25em;color: #696969;}#sk-container-id-3 label.sk-toggleable__label-arrow:hover:before {color: black;}#sk-container-id-3 div.sk-estimator:hover label.sk-toggleable__label-arrow:before {color: black;}#sk-container-id-3 div.sk-toggleable__content {max-height: 0;max-width: 0;overflow: hidden;text-align: left;background-color: #f0f8ff;}#sk-container-id-3 div.sk-toggleable__content pre {margin: 0.2em;color: black;border-radius: 0.25em;background-color: #f0f8ff;}#sk-container-id-3 input.sk-toggleable__control:checked~div.sk-toggleable__content {max-height: 200px;max-width: 100%;overflow: auto;}#sk-container-id-3 input.sk-toggleable__control:checked~label.sk-toggleable__label-arrow:before {content: \"▾\";}#sk-container-id-3 div.sk-estimator input.sk-toggleable__control:checked~label.sk-toggleable__label {background-color: #d4ebff;}#sk-container-id-3 div.sk-label input.sk-toggleable__control:checked~label.sk-toggleable__label {background-color: #d4ebff;}#sk-container-id-3 input.sk-hidden--visually {border: 0;clip: rect(1px 1px 1px 1px);clip: rect(1px, 1px, 1px, 1px);height: 1px;margin: -1px;overflow: hidden;padding: 0;position: absolute;width: 1px;}#sk-container-id-3 div.sk-estimator {font-family: monospace;background-color: #f0f8ff;border: 1px dotted black;border-radius: 0.25em;box-sizing: border-box;margin-bottom: 0.5em;}#sk-container-id-3 div.sk-estimator:hover {background-color: #d4ebff;}#sk-container-id-3 div.sk-parallel-item::after {content: \"\";width: 100%;border-bottom: 1px solid gray;flex-grow: 1;}#sk-container-id-3 div.sk-label:hover label.sk-toggleable__label {background-color: #d4ebff;}#sk-container-id-3 div.sk-serial::before {content: \"\";position: absolute;border-left: 1px solid gray;box-sizing: border-box;top: 0;bottom: 0;left: 50%;z-index: 0;}#sk-container-id-3 div.sk-serial {display: flex;flex-direction: column;align-items: center;background-color: white;padding-right: 0.2em;padding-left: 0.2em;position: relative;}#sk-container-id-3 div.sk-item {position: relative;z-index: 1;}#sk-container-id-3 div.sk-parallel {display: flex;align-items: stretch;justify-content: center;background-color: white;position: relative;}#sk-container-id-3 div.sk-item::before, #sk-container-id-3 div.sk-parallel-item::before {content: \"\";position: absolute;border-left: 1px solid gray;box-sizing: border-box;top: 0;bottom: 0;left: 50%;z-index: -1;}#sk-container-id-3 div.sk-parallel-item {display: flex;flex-direction: column;z-index: 1;position: relative;background-color: white;}#sk-container-id-3 div.sk-parallel-item:first-child::after {align-self: flex-end;width: 50%;}#sk-container-id-3 div.sk-parallel-item:last-child::after {align-self: flex-start;width: 50%;}#sk-container-id-3 div.sk-parallel-item:only-child::after {width: 0;}#sk-container-id-3 div.sk-dashed-wrapped {border: 1px dashed gray;margin: 0 0.4em 0.5em 0.4em;box-sizing: border-box;padding-bottom: 0.4em;background-color: white;}#sk-container-id-3 div.sk-label label {font-family: monospace;font-weight: bold;display: inline-block;line-height: 1.2em;}#sk-container-id-3 div.sk-label-container {text-align: center;}#sk-container-id-3 div.sk-container {/* jupyter's `normalize.less` sets `[hidden] { display: none; }` but bootstrap.min.css set `[hidden] { display: none !important; }` so we also need the `!important` here to be able to override the default hidden behavior on the sphinx rendered scikit-learn.org. See: https://github.com/scikit-learn/scikit-learn/issues/21755 */display: inline-block !important;position: relative;}#sk-container-id-3 div.sk-text-repr-fallback {display: none;}</style><div id=\"sk-container-id-3\" class=\"sk-top-container\"><div class=\"sk-text-repr-fallback\"><pre>Pipeline(steps=[(&#x27;model&#x27;, LogisticRegression())])</pre><b>In a Jupyter environment, please rerun this cell to show the HTML representation or trust the notebook. <br />On GitHub, the HTML representation is unable to render, please try loading this page with nbviewer.org.</b></div><div class=\"sk-container\" hidden><div class=\"sk-item sk-dashed-wrapped\"><div class=\"sk-label-container\"><div class=\"sk-label sk-toggleable\"><input class=\"sk-toggleable__control sk-hidden--visually\" id=\"sk-estimator-id-3\" type=\"checkbox\" ><label for=\"sk-estimator-id-3\" class=\"sk-toggleable__label sk-toggleable__label-arrow\">Pipeline</label><div class=\"sk-toggleable__content\"><pre>Pipeline(steps=[(&#x27;model&#x27;, LogisticRegression())])</pre></div></div></div><div class=\"sk-serial\"><div class=\"sk-item\"><div class=\"sk-estimator sk-toggleable\"><input class=\"sk-toggleable__control sk-hidden--visually\" id=\"sk-estimator-id-4\" type=\"checkbox\" ><label for=\"sk-estimator-id-4\" class=\"sk-toggleable__label sk-toggleable__label-arrow\">LogisticRegression</label><div class=\"sk-toggleable__content\"><pre>LogisticRegression()</pre></div></div></div></div></div></div></div>"
     },
     "execution_count": 74,
     "metadata": {},
     "output_type": "execute_result"
    }
   ],
   "source": [
    "pipe_lr = Pipeline([('model', LogisticRegression())])\n",
    "pipe_lr.fit(train['ft_embedding'].values.tolist(), y_train)"
   ],
   "metadata": {
    "collapsed": false
   }
  },
  {
   "cell_type": "code",
   "execution_count": 75,
   "outputs": [],
   "source": [
    "prediction = pipe_lr.predict(test['ft_embedding'].values.tolist())"
   ],
   "metadata": {
    "collapsed": false
   }
  },
  {
   "cell_type": "code",
   "execution_count": 76,
   "outputs": [
    {
     "name": "stdout",
     "output_type": "stream",
     "text": [
      "\n",
      "accuracy: 95.43%\n",
      "\n",
      "f1-score: 0.9528949462052773%\n",
      "\n",
      " [[965  17]\n",
      " [ 34  99]]\n",
      "\n",
      "               precision    recall  f1-score   support\n",
      "\n",
      "           0       0.97      0.98      0.97       982\n",
      "           1       0.85      0.74      0.80       133\n",
      "\n",
      "    accuracy                           0.95      1115\n",
      "   macro avg       0.91      0.86      0.88      1115\n",
      "weighted avg       0.95      0.95      0.95      1115\n",
      "\n"
     ]
    }
   ],
   "source": [
    "print(\"\\naccuracy: {}%\".format(round(accuracy_score(y_test, prediction)*100,2)))\n",
    "print(\"\\nf1-score: {}%\".format(f1_score(y_test, prediction, average='weighted')))\n",
    "print('\\n',confusion_matrix(y_test, prediction))\n",
    "print('\\n',classification_report(y_test, prediction))"
   ],
   "metadata": {
    "collapsed": false
   }
  },
  {
   "cell_type": "markdown",
   "source": [
    "**Для более точного подбора гиперпараметров применим поиск по сетке.**"
   ],
   "metadata": {
    "collapsed": false
   }
  },
  {
   "cell_type": "code",
   "execution_count": 98,
   "outputs": [
    {
     "name": "stdout",
     "output_type": "stream",
     "text": [
      "\n",
      "accuracy: 93.99%\n",
      "\n",
      "f1-score: 0.9439430404145152\n",
      "\n",
      " [[923  59]\n",
      " [  8 125]]\n",
      "\n",
      "               precision    recall  f1-score   support\n",
      "\n",
      "           0       0.99      0.94      0.96       982\n",
      "           1       0.68      0.94      0.79       133\n",
      "\n",
      "    accuracy                           0.94      1115\n",
      "   macro avg       0.84      0.94      0.88      1115\n",
      "weighted avg       0.95      0.94      0.94      1115\n",
      "\n",
      "CPU times: total: 5.55 s\n",
      "Wall time: 15.1 s\n"
     ]
    }
   ],
   "source": [
    "%%time\n",
    "logreg = LogisticRegression(class_weight='balanced', random_state=42)\n",
    "\n",
    "param_grid = [\n",
    "    {'C': [0.01, 0.1, 1, 2, 10, 100],\n",
    "     'penalty': ['l1', 'l2']}\n",
    "]\n",
    "\n",
    "logreg_grid = GridSearchCV(logreg,\n",
    "                           param_grid,\n",
    "                           cv=3,\n",
    "                           verbose=False,\n",
    "                           n_jobs=-1,\n",
    "                           scoring='f1')\n",
    "\n",
    "logreg_grid.fit(train['ft_embedding'].values.tolist(), y_train)\n",
    "\n",
    "pred_final = logreg_grid.predict(test['ft_embedding'].values.tolist())\n",
    "\n",
    "print(\"\\naccuracy: {}%\".format(round(accuracy_score(y_test, pred_final)*100,2)))\n",
    "print(\"\\nf1-score: {}\".format(f1_score(y_test, pred_final, average='weighted')))\n",
    "print('\\n',confusion_matrix(y_test, pred_final))\n",
    "print('\\n',classification_report(y_test, pred_final))"
   ],
   "metadata": {
    "collapsed": false
   }
  },
  {
   "cell_type": "markdown",
   "source": [
    "#### Логистическая регрессия позволяет получить такие результаты, что:\n",
    "\n",
    "* accuracy: 93.99%\n",
    "\n",
    "* f1-score: 0.9439430404145152\n",
    "\n",
    "* 923 объектов были верно классифицированы как класс 0 (true negatives)\n",
    "* 59 объектов были неверно классифицированы как класс 1 (false positives)\n",
    "* 8 объектов были неверно классифицированы как класс 0 (false negatives)\n",
    "* 125 объектов были верно классифицированы как класс 1 (true positives)"
   ],
   "metadata": {
    "collapsed": false
   }
  },
  {
   "cell_type": "markdown",
   "source": [
    "### Fasttext как классификатор"
   ],
   "metadata": {
    "collapsed": false
   }
  },
  {
   "cell_type": "code",
   "execution_count": 80,
   "outputs": [],
   "source": [
    "with open('train_ft.txt', 'w') as f:\n",
    "    for label, lemmas in list(zip(\n",
    "        train['label'], train['ft_embedding']\n",
    "    )):\n",
    "        f.write(f\"__label__{int(label)} {lemmas}\\n\")\n",
    "        #print(f\"__label__{int(label)} {lemmas}\")\n",
    "\n",
    "with open('test_ft.txt', 'w') as f:\n",
    "    for label, lemmas in list(zip(\n",
    "        test['label'], test['ft_embedding']\n",
    "    )):\n",
    "        f.write(f\"__label__{int(label)} {lemmas}\\n\")"
   ],
   "metadata": {
    "collapsed": false
   }
  },
  {
   "cell_type": "code",
   "execution_count": 84,
   "outputs": [
    {
     "name": "stdout",
     "output_type": "stream",
     "text": [
      "Precision@1: 0.8807174887892377\n",
      "Recall@1: 0.8807174887892377\n",
      "Number of examples: 1115\n"
     ]
    }
   ],
   "source": [
    "#help(fasttext.train_supervised)\n",
    "classifier = fasttext.train_supervised('train_ft.txt')  #, 'model')\n",
    "result = classifier.test('test_ft.txt')\n",
    "print('Precision@1:', result[1])  #.precision)\n",
    "print('Recall@1:', result[2])  #.recall)\n",
    "print('Number of examples:', result[0])  #.nexamples)"
   ],
   "metadata": {
    "collapsed": false
   }
  },
  {
   "cell_type": "markdown",
   "source": [
    "### *Вывод:* В данном случае, полученные значения Precision@1 и Recall@1 равны 0.881, что означает, что модель правильно классифицировала 88% примеров."
   ],
   "metadata": {
    "collapsed": false
   }
  },
  {
   "cell_type": "markdown",
   "source": [
    "### 2) CatBoost"
   ],
   "metadata": {
    "collapsed": false
   }
  },
  {
   "cell_type": "code",
   "execution_count": 88,
   "outputs": [
    {
     "name": "stdout",
     "output_type": "stream",
     "text": [
      "0:\tlearn: 0.5670513\ttotal: 342ms\tremaining: 13.3s\n",
      "1:\tlearn: 0.4848202\ttotal: 524ms\tremaining: 9.96s\n",
      "2:\tlearn: 0.4140609\ttotal: 598ms\tremaining: 7.37s\n",
      "3:\tlearn: 0.3602376\ttotal: 622ms\tremaining: 5.6s\n",
      "4:\tlearn: 0.3157844\ttotal: 644ms\tremaining: 4.51s\n",
      "5:\tlearn: 0.2788507\ttotal: 669ms\tremaining: 3.79s\n",
      "6:\tlearn: 0.2504246\ttotal: 693ms\tremaining: 3.27s\n",
      "7:\tlearn: 0.2262719\ttotal: 716ms\tremaining: 2.86s\n",
      "8:\tlearn: 0.2066668\ttotal: 738ms\tremaining: 2.54s\n",
      "9:\tlearn: 0.1902758\ttotal: 758ms\tremaining: 2.27s\n",
      "10:\tlearn: 0.1763661\ttotal: 780ms\tremaining: 2.06s\n",
      "11:\tlearn: 0.1645641\ttotal: 802ms\tremaining: 1.87s\n",
      "12:\tlearn: 0.1573375\ttotal: 824ms\tremaining: 1.71s\n",
      "13:\tlearn: 0.1478204\ttotal: 847ms\tremaining: 1.57s\n",
      "14:\tlearn: 0.1400629\ttotal: 872ms\tremaining: 1.45s\n",
      "15:\tlearn: 0.1341329\ttotal: 899ms\tremaining: 1.35s\n",
      "16:\tlearn: 0.1279913\ttotal: 923ms\tremaining: 1.25s\n",
      "17:\tlearn: 0.1230937\ttotal: 943ms\tremaining: 1.15s\n",
      "18:\tlearn: 0.1180338\ttotal: 964ms\tremaining: 1.06s\n",
      "19:\tlearn: 0.1125744\ttotal: 984ms\tremaining: 984ms\n",
      "20:\tlearn: 0.1086904\ttotal: 1s\tremaining: 910ms\n",
      "21:\tlearn: 0.1047707\ttotal: 1.02s\tremaining: 839ms\n",
      "22:\tlearn: 0.1021104\ttotal: 1.05s\tremaining: 773ms\n",
      "23:\tlearn: 0.0982874\ttotal: 1.07s\tremaining: 711ms\n",
      "24:\tlearn: 0.0944950\ttotal: 1.09s\tremaining: 653ms\n",
      "25:\tlearn: 0.0913705\ttotal: 1.11s\tremaining: 598ms\n",
      "26:\tlearn: 0.0881203\ttotal: 1.13s\tremaining: 545ms\n",
      "27:\tlearn: 0.0856485\ttotal: 1.15s\tremaining: 495ms\n",
      "28:\tlearn: 0.0833458\ttotal: 1.18s\tremaining: 446ms\n",
      "29:\tlearn: 0.0798715\ttotal: 1.2s\tremaining: 399ms\n",
      "30:\tlearn: 0.0776996\ttotal: 1.22s\tremaining: 353ms\n",
      "31:\tlearn: 0.0761044\ttotal: 1.24s\tremaining: 309ms\n",
      "32:\tlearn: 0.0741271\ttotal: 1.27s\tremaining: 269ms\n",
      "33:\tlearn: 0.0723017\ttotal: 1.29s\tremaining: 227ms\n",
      "34:\tlearn: 0.0694825\ttotal: 1.31s\tremaining: 187ms\n",
      "35:\tlearn: 0.0677901\ttotal: 1.33s\tremaining: 148ms\n",
      "36:\tlearn: 0.0664561\ttotal: 1.36s\tremaining: 110ms\n",
      "37:\tlearn: 0.0649610\ttotal: 1.38s\tremaining: 72.5ms\n",
      "38:\tlearn: 0.0634717\ttotal: 1.4s\tremaining: 35.8ms\n",
      "39:\tlearn: 0.0620245\ttotal: 1.42s\tremaining: 0us\n",
      "0:\tlearn: 0.5620222\ttotal: 20.2ms\tremaining: 790ms\n",
      "1:\tlearn: 0.4816353\ttotal: 38.7ms\tremaining: 735ms\n",
      "2:\tlearn: 0.4073633\ttotal: 58.9ms\tremaining: 726ms\n",
      "3:\tlearn: 0.3578180\ttotal: 79ms\tremaining: 711ms\n",
      "4:\tlearn: 0.3083560\ttotal: 98.3ms\tremaining: 688ms\n",
      "5:\tlearn: 0.2798798\ttotal: 118ms\tremaining: 669ms\n",
      "6:\tlearn: 0.2510996\ttotal: 195ms\tremaining: 920ms\n",
      "7:\tlearn: 0.2286788\ttotal: 265ms\tremaining: 1.06s\n",
      "8:\tlearn: 0.2081631\ttotal: 288ms\tremaining: 993ms\n",
      "9:\tlearn: 0.1927113\ttotal: 308ms\tremaining: 925ms\n",
      "10:\tlearn: 0.1789825\ttotal: 331ms\tremaining: 872ms\n",
      "11:\tlearn: 0.1673427\ttotal: 353ms\tremaining: 823ms\n",
      "12:\tlearn: 0.1561355\ttotal: 375ms\tremaining: 778ms\n",
      "13:\tlearn: 0.1481126\ttotal: 394ms\tremaining: 732ms\n",
      "14:\tlearn: 0.1406815\ttotal: 414ms\tremaining: 689ms\n",
      "15:\tlearn: 0.1326423\ttotal: 435ms\tremaining: 652ms\n",
      "16:\tlearn: 0.1262540\ttotal: 457ms\tremaining: 618ms\n",
      "17:\tlearn: 0.1211751\ttotal: 477ms\tremaining: 583ms\n",
      "18:\tlearn: 0.1159906\ttotal: 499ms\tremaining: 551ms\n",
      "19:\tlearn: 0.1114378\ttotal: 520ms\tremaining: 520ms\n",
      "20:\tlearn: 0.1070872\ttotal: 544ms\tremaining: 492ms\n",
      "21:\tlearn: 0.1025984\ttotal: 568ms\tremaining: 465ms\n",
      "22:\tlearn: 0.0992194\ttotal: 591ms\tremaining: 437ms\n",
      "23:\tlearn: 0.0959085\ttotal: 614ms\tremaining: 409ms\n",
      "24:\tlearn: 0.0924219\ttotal: 636ms\tremaining: 381ms\n",
      "25:\tlearn: 0.0894492\ttotal: 656ms\tremaining: 353ms\n",
      "26:\tlearn: 0.0860866\ttotal: 677ms\tremaining: 326ms\n",
      "27:\tlearn: 0.0843433\ttotal: 697ms\tremaining: 299ms\n",
      "28:\tlearn: 0.0821466\ttotal: 717ms\tremaining: 272ms\n",
      "29:\tlearn: 0.0796098\ttotal: 737ms\tremaining: 246ms\n",
      "30:\tlearn: 0.0775231\ttotal: 759ms\tremaining: 220ms\n",
      "31:\tlearn: 0.0752739\ttotal: 783ms\tremaining: 196ms\n",
      "32:\tlearn: 0.0730039\ttotal: 806ms\tremaining: 171ms\n",
      "33:\tlearn: 0.0711436\ttotal: 826ms\tremaining: 146ms\n",
      "34:\tlearn: 0.0692946\ttotal: 846ms\tremaining: 121ms\n",
      "35:\tlearn: 0.0676537\ttotal: 867ms\tremaining: 96.3ms\n",
      "36:\tlearn: 0.0655636\ttotal: 886ms\tremaining: 71.9ms\n",
      "37:\tlearn: 0.0641841\ttotal: 906ms\tremaining: 47.7ms\n",
      "38:\tlearn: 0.0622727\ttotal: 926ms\tremaining: 23.7ms\n",
      "39:\tlearn: 0.0609453\ttotal: 947ms\tremaining: 0us\n",
      "0:\tlearn: 0.5744677\ttotal: 21.8ms\tremaining: 848ms\n",
      "1:\tlearn: 0.4840020\ttotal: 42.2ms\tremaining: 802ms\n",
      "2:\tlearn: 0.4144559\ttotal: 64.3ms\tremaining: 794ms\n",
      "3:\tlearn: 0.3539374\ttotal: 84.3ms\tremaining: 759ms\n",
      "4:\tlearn: 0.3090163\ttotal: 103ms\tremaining: 722ms\n",
      "5:\tlearn: 0.2825873\ttotal: 122ms\tremaining: 693ms\n",
      "6:\tlearn: 0.2531264\ttotal: 142ms\tremaining: 671ms\n",
      "7:\tlearn: 0.2262349\ttotal: 162ms\tremaining: 649ms\n",
      "8:\tlearn: 0.2093828\ttotal: 181ms\tremaining: 624ms\n",
      "9:\tlearn: 0.1927993\ttotal: 202ms\tremaining: 606ms\n",
      "10:\tlearn: 0.1777789\ttotal: 223ms\tremaining: 588ms\n",
      "11:\tlearn: 0.1638671\ttotal: 245ms\tremaining: 572ms\n",
      "12:\tlearn: 0.1526007\ttotal: 265ms\tremaining: 551ms\n",
      "13:\tlearn: 0.1429952\ttotal: 287ms\tremaining: 532ms\n",
      "14:\tlearn: 0.1369420\ttotal: 309ms\tremaining: 514ms\n",
      "15:\tlearn: 0.1308456\ttotal: 332ms\tremaining: 498ms\n",
      "16:\tlearn: 0.1246309\ttotal: 354ms\tremaining: 479ms\n",
      "17:\tlearn: 0.1198936\ttotal: 376ms\tremaining: 459ms\n",
      "18:\tlearn: 0.1151727\ttotal: 398ms\tremaining: 440ms\n",
      "19:\tlearn: 0.1095545\ttotal: 419ms\tremaining: 419ms\n",
      "20:\tlearn: 0.1045748\ttotal: 443ms\tremaining: 401ms\n",
      "21:\tlearn: 0.1016818\ttotal: 466ms\tremaining: 381ms\n",
      "22:\tlearn: 0.0994287\ttotal: 489ms\tremaining: 361ms\n",
      "23:\tlearn: 0.0955246\ttotal: 515ms\tremaining: 343ms\n",
      "24:\tlearn: 0.0922143\ttotal: 544ms\tremaining: 326ms\n",
      "25:\tlearn: 0.0893746\ttotal: 570ms\tremaining: 307ms\n",
      "26:\tlearn: 0.0867522\ttotal: 594ms\tremaining: 286ms\n",
      "27:\tlearn: 0.0846188\ttotal: 616ms\tremaining: 264ms\n",
      "28:\tlearn: 0.0822371\ttotal: 639ms\tremaining: 242ms\n",
      "29:\tlearn: 0.0800004\ttotal: 661ms\tremaining: 220ms\n",
      "30:\tlearn: 0.0779113\ttotal: 682ms\tremaining: 198ms\n",
      "31:\tlearn: 0.0754485\ttotal: 703ms\tremaining: 176ms\n",
      "32:\tlearn: 0.0732145\ttotal: 725ms\tremaining: 154ms\n",
      "33:\tlearn: 0.0710546\ttotal: 748ms\tremaining: 132ms\n",
      "34:\tlearn: 0.0688518\ttotal: 770ms\tremaining: 110ms\n",
      "35:\tlearn: 0.0673545\ttotal: 792ms\tremaining: 88ms\n",
      "36:\tlearn: 0.0660281\ttotal: 813ms\tremaining: 65.9ms\n",
      "37:\tlearn: 0.0641851\ttotal: 834ms\tremaining: 43.9ms\n",
      "38:\tlearn: 0.0624584\ttotal: 855ms\tremaining: 21.9ms\n",
      "39:\tlearn: 0.0607079\ttotal: 876ms\tremaining: 0us\n",
      "0:\tlearn: 0.3946338\ttotal: 19.9ms\tremaining: 775ms\n",
      "1:\tlearn: 0.2678978\ttotal: 39.6ms\tremaining: 752ms\n",
      "2:\tlearn: 0.2076760\ttotal: 172ms\tremaining: 2.13s\n",
      "3:\tlearn: 0.1685245\ttotal: 268ms\tremaining: 2.41s\n",
      "4:\tlearn: 0.1412278\ttotal: 292ms\tremaining: 2.04s\n",
      "5:\tlearn: 0.1262556\ttotal: 312ms\tremaining: 1.77s\n",
      "6:\tlearn: 0.1126896\ttotal: 334ms\tremaining: 1.57s\n",
      "7:\tlearn: 0.1012439\ttotal: 358ms\tremaining: 1.43s\n",
      "8:\tlearn: 0.0929394\ttotal: 382ms\tremaining: 1.31s\n",
      "9:\tlearn: 0.0844065\ttotal: 407ms\tremaining: 1.22s\n",
      "10:\tlearn: 0.0772945\ttotal: 443ms\tremaining: 1.17s\n",
      "11:\tlearn: 0.0705763\ttotal: 463ms\tremaining: 1.08s\n",
      "12:\tlearn: 0.0671200\ttotal: 484ms\tremaining: 1s\n",
      "13:\tlearn: 0.0614204\ttotal: 505ms\tremaining: 938ms\n",
      "14:\tlearn: 0.0577919\ttotal: 527ms\tremaining: 878ms\n",
      "15:\tlearn: 0.0536192\ttotal: 549ms\tremaining: 823ms\n",
      "16:\tlearn: 0.0503252\ttotal: 571ms\tremaining: 772ms\n",
      "17:\tlearn: 0.0469187\ttotal: 594ms\tremaining: 726ms\n",
      "18:\tlearn: 0.0442079\ttotal: 618ms\tremaining: 683ms\n",
      "19:\tlearn: 0.0415244\ttotal: 641ms\tremaining: 641ms\n",
      "20:\tlearn: 0.0389848\ttotal: 663ms\tremaining: 600ms\n",
      "21:\tlearn: 0.0366928\ttotal: 685ms\tremaining: 560ms\n",
      "22:\tlearn: 0.0352350\ttotal: 706ms\tremaining: 522ms\n",
      "23:\tlearn: 0.0322486\ttotal: 726ms\tremaining: 484ms\n",
      "24:\tlearn: 0.0302474\ttotal: 750ms\tremaining: 450ms\n",
      "25:\tlearn: 0.0289974\ttotal: 772ms\tremaining: 416ms\n",
      "26:\tlearn: 0.0272412\ttotal: 794ms\tremaining: 382ms\n",
      "27:\tlearn: 0.0260477\ttotal: 816ms\tremaining: 350ms\n",
      "28:\tlearn: 0.0249388\ttotal: 836ms\tremaining: 317ms\n",
      "29:\tlearn: 0.0230691\ttotal: 857ms\tremaining: 286ms\n",
      "30:\tlearn: 0.0216028\ttotal: 878ms\tremaining: 255ms\n",
      "31:\tlearn: 0.0203216\ttotal: 898ms\tremaining: 224ms\n",
      "32:\tlearn: 0.0193165\ttotal: 919ms\tremaining: 195ms\n",
      "33:\tlearn: 0.0180960\ttotal: 941ms\tremaining: 166ms\n",
      "34:\tlearn: 0.0172181\ttotal: 961ms\tremaining: 137ms\n",
      "35:\tlearn: 0.0160653\ttotal: 984ms\tremaining: 109ms\n",
      "36:\tlearn: 0.0152543\ttotal: 1s\tremaining: 81.6ms\n",
      "37:\tlearn: 0.0142215\ttotal: 1.03s\tremaining: 54.2ms\n",
      "38:\tlearn: 0.0137298\ttotal: 1.05s\tremaining: 27ms\n",
      "39:\tlearn: 0.0131438\ttotal: 1.07s\tremaining: 0us\n",
      "0:\tlearn: 0.3863901\ttotal: 20.8ms\tremaining: 813ms\n",
      "1:\tlearn: 0.2812394\ttotal: 41.9ms\tremaining: 796ms\n",
      "2:\tlearn: 0.2171283\ttotal: 61.5ms\tremaining: 759ms\n",
      "3:\tlearn: 0.1752856\ttotal: 81.6ms\tremaining: 734ms\n",
      "4:\tlearn: 0.1479126\ttotal: 101ms\tremaining: 707ms\n",
      "5:\tlearn: 0.1271738\ttotal: 122ms\tremaining: 692ms\n",
      "6:\tlearn: 0.1137800\ttotal: 257ms\tremaining: 1.21s\n",
      "7:\tlearn: 0.1025848\ttotal: 285ms\tremaining: 1.14s\n",
      "8:\tlearn: 0.0935824\ttotal: 307ms\tremaining: 1.06s\n",
      "9:\tlearn: 0.0837741\ttotal: 329ms\tremaining: 988ms\n",
      "10:\tlearn: 0.0777820\ttotal: 351ms\tremaining: 925ms\n",
      "11:\tlearn: 0.0720650\ttotal: 373ms\tremaining: 871ms\n",
      "12:\tlearn: 0.0652407\ttotal: 397ms\tremaining: 824ms\n",
      "13:\tlearn: 0.0599000\ttotal: 418ms\tremaining: 776ms\n",
      "14:\tlearn: 0.0565710\ttotal: 437ms\tremaining: 728ms\n",
      "15:\tlearn: 0.0532007\ttotal: 457ms\tremaining: 685ms\n",
      "16:\tlearn: 0.0502403\ttotal: 478ms\tremaining: 647ms\n",
      "17:\tlearn: 0.0459896\ttotal: 499ms\tremaining: 610ms\n",
      "18:\tlearn: 0.0433038\ttotal: 523ms\tremaining: 578ms\n",
      "19:\tlearn: 0.0418526\ttotal: 547ms\tremaining: 547ms\n",
      "20:\tlearn: 0.0397843\ttotal: 569ms\tremaining: 515ms\n",
      "21:\tlearn: 0.0373669\ttotal: 589ms\tremaining: 482ms\n",
      "22:\tlearn: 0.0345722\ttotal: 608ms\tremaining: 450ms\n",
      "23:\tlearn: 0.0321314\ttotal: 629ms\tremaining: 419ms\n",
      "24:\tlearn: 0.0302019\ttotal: 649ms\tremaining: 389ms\n",
      "25:\tlearn: 0.0288885\ttotal: 668ms\tremaining: 360ms\n",
      "26:\tlearn: 0.0269066\ttotal: 688ms\tremaining: 331ms\n",
      "27:\tlearn: 0.0254479\ttotal: 709ms\tremaining: 304ms\n",
      "28:\tlearn: 0.0239379\ttotal: 729ms\tremaining: 277ms\n",
      "29:\tlearn: 0.0224261\ttotal: 751ms\tremaining: 250ms\n",
      "30:\tlearn: 0.0208301\ttotal: 774ms\tremaining: 225ms\n",
      "31:\tlearn: 0.0198379\ttotal: 797ms\tremaining: 199ms\n",
      "32:\tlearn: 0.0183826\ttotal: 821ms\tremaining: 174ms\n",
      "33:\tlearn: 0.0173441\ttotal: 841ms\tremaining: 148ms\n",
      "34:\tlearn: 0.0165020\ttotal: 863ms\tremaining: 123ms\n",
      "35:\tlearn: 0.0154788\ttotal: 883ms\tremaining: 98.1ms\n",
      "36:\tlearn: 0.0145804\ttotal: 902ms\tremaining: 73.2ms\n",
      "37:\tlearn: 0.0142102\ttotal: 923ms\tremaining: 48.6ms\n",
      "38:\tlearn: 0.0137434\ttotal: 943ms\tremaining: 24.2ms\n",
      "39:\tlearn: 0.0130456\ttotal: 964ms\tremaining: 0us\n",
      "0:\tlearn: 0.4085935\ttotal: 22.2ms\tremaining: 865ms\n",
      "1:\tlearn: 0.2697015\ttotal: 44.8ms\tremaining: 852ms\n",
      "2:\tlearn: 0.1999715\ttotal: 68.3ms\tremaining: 842ms\n",
      "3:\tlearn: 0.1697903\ttotal: 92ms\tremaining: 828ms\n",
      "4:\tlearn: 0.1401794\ttotal: 113ms\tremaining: 789ms\n",
      "5:\tlearn: 0.1244195\ttotal: 133ms\tremaining: 751ms\n",
      "6:\tlearn: 0.1113200\ttotal: 162ms\tremaining: 762ms\n",
      "7:\tlearn: 0.1013495\ttotal: 183ms\tremaining: 732ms\n",
      "8:\tlearn: 0.0933767\ttotal: 203ms\tremaining: 699ms\n",
      "9:\tlearn: 0.0859823\ttotal: 223ms\tremaining: 669ms\n",
      "10:\tlearn: 0.0771172\ttotal: 244ms\tremaining: 644ms\n",
      "11:\tlearn: 0.0699273\ttotal: 264ms\tremaining: 616ms\n",
      "12:\tlearn: 0.0640564\ttotal: 286ms\tremaining: 593ms\n",
      "13:\tlearn: 0.0595943\ttotal: 308ms\tremaining: 572ms\n",
      "14:\tlearn: 0.0562272\ttotal: 329ms\tremaining: 549ms\n",
      "15:\tlearn: 0.0526257\ttotal: 349ms\tremaining: 524ms\n",
      "16:\tlearn: 0.0492152\ttotal: 369ms\tremaining: 500ms\n",
      "17:\tlearn: 0.0463515\ttotal: 389ms\tremaining: 475ms\n",
      "18:\tlearn: 0.0428256\ttotal: 410ms\tremaining: 453ms\n",
      "19:\tlearn: 0.0404337\ttotal: 430ms\tremaining: 430ms\n",
      "20:\tlearn: 0.0380147\ttotal: 449ms\tremaining: 406ms\n",
      "21:\tlearn: 0.0354192\ttotal: 470ms\tremaining: 385ms\n",
      "22:\tlearn: 0.0339611\ttotal: 490ms\tremaining: 362ms\n",
      "23:\tlearn: 0.0325987\ttotal: 512ms\tremaining: 341ms\n",
      "24:\tlearn: 0.0311985\ttotal: 536ms\tremaining: 321ms\n",
      "25:\tlearn: 0.0298818\ttotal: 556ms\tremaining: 300ms\n",
      "26:\tlearn: 0.0285144\ttotal: 577ms\tremaining: 278ms\n",
      "27:\tlearn: 0.0270056\ttotal: 599ms\tremaining: 257ms\n",
      "28:\tlearn: 0.0255900\ttotal: 621ms\tremaining: 235ms\n",
      "29:\tlearn: 0.0242850\ttotal: 641ms\tremaining: 214ms\n",
      "30:\tlearn: 0.0227084\ttotal: 661ms\tremaining: 192ms\n",
      "31:\tlearn: 0.0214337\ttotal: 681ms\tremaining: 170ms\n",
      "32:\tlearn: 0.0199931\ttotal: 702ms\tremaining: 149ms\n",
      "33:\tlearn: 0.0189922\ttotal: 724ms\tremaining: 128ms\n",
      "34:\tlearn: 0.0184241\ttotal: 748ms\tremaining: 107ms\n",
      "35:\tlearn: 0.0173584\ttotal: 781ms\tremaining: 86.8ms\n",
      "36:\tlearn: 0.0163931\ttotal: 802ms\tremaining: 65ms\n",
      "37:\tlearn: 0.0159075\ttotal: 821ms\tremaining: 43.2ms\n",
      "38:\tlearn: 0.0150627\ttotal: 842ms\tremaining: 21.6ms\n",
      "39:\tlearn: 0.0142801\ttotal: 861ms\tremaining: 0us\n",
      "0:\tlearn: 0.3014880\ttotal: 19.9ms\tremaining: 777ms\n",
      "1:\tlearn: 0.1889548\ttotal: 40.2ms\tremaining: 765ms\n",
      "2:\tlearn: 0.1509503\ttotal: 71.9ms\tremaining: 887ms\n",
      "3:\tlearn: 0.1190114\ttotal: 244ms\tremaining: 2.19s\n",
      "4:\tlearn: 0.1026459\ttotal: 274ms\tremaining: 1.92s\n",
      "5:\tlearn: 0.0896717\ttotal: 299ms\tremaining: 1.69s\n",
      "6:\tlearn: 0.0765030\ttotal: 323ms\tremaining: 1.52s\n",
      "7:\tlearn: 0.0712596\ttotal: 345ms\tremaining: 1.38s\n",
      "8:\tlearn: 0.0638223\ttotal: 368ms\tremaining: 1.27s\n",
      "9:\tlearn: 0.0563725\ttotal: 397ms\tremaining: 1.19s\n",
      "10:\tlearn: 0.0516532\ttotal: 417ms\tremaining: 1.1s\n",
      "11:\tlearn: 0.0443156\ttotal: 437ms\tremaining: 1.02s\n",
      "12:\tlearn: 0.0405334\ttotal: 457ms\tremaining: 948ms\n",
      "13:\tlearn: 0.0346044\ttotal: 479ms\tremaining: 890ms\n",
      "14:\tlearn: 0.0315338\ttotal: 502ms\tremaining: 837ms\n",
      "15:\tlearn: 0.0293941\ttotal: 525ms\tremaining: 787ms\n",
      "16:\tlearn: 0.0256556\ttotal: 547ms\tremaining: 740ms\n",
      "17:\tlearn: 0.0225875\ttotal: 567ms\tremaining: 693ms\n",
      "18:\tlearn: 0.0207318\ttotal: 588ms\tremaining: 650ms\n",
      "19:\tlearn: 0.0184843\ttotal: 611ms\tremaining: 611ms\n",
      "20:\tlearn: 0.0164159\ttotal: 632ms\tremaining: 572ms\n",
      "21:\tlearn: 0.0149066\ttotal: 662ms\tremaining: 541ms\n",
      "22:\tlearn: 0.0134651\ttotal: 681ms\tremaining: 503ms\n",
      "23:\tlearn: 0.0126511\ttotal: 702ms\tremaining: 468ms\n",
      "24:\tlearn: 0.0116903\ttotal: 726ms\tremaining: 435ms\n",
      "25:\tlearn: 0.0110080\ttotal: 748ms\tremaining: 403ms\n",
      "26:\tlearn: 0.0100196\ttotal: 769ms\tremaining: 370ms\n",
      "27:\tlearn: 0.0094975\ttotal: 788ms\tremaining: 338ms\n",
      "28:\tlearn: 0.0088661\ttotal: 808ms\tremaining: 306ms\n",
      "29:\tlearn: 0.0086912\ttotal: 827ms\tremaining: 276ms\n",
      "30:\tlearn: 0.0080955\ttotal: 848ms\tremaining: 246ms\n",
      "31:\tlearn: 0.0077082\ttotal: 869ms\tremaining: 217ms\n",
      "32:\tlearn: 0.0074400\ttotal: 888ms\tremaining: 188ms\n",
      "33:\tlearn: 0.0071104\ttotal: 913ms\tremaining: 161ms\n",
      "34:\tlearn: 0.0066608\ttotal: 937ms\tremaining: 134ms\n",
      "35:\tlearn: 0.0064349\ttotal: 961ms\tremaining: 107ms\n",
      "36:\tlearn: 0.0060921\ttotal: 984ms\tremaining: 79.8ms\n",
      "37:\tlearn: 0.0059023\ttotal: 1.01s\tremaining: 53ms\n",
      "38:\tlearn: 0.0056313\ttotal: 1.03s\tremaining: 26.4ms\n",
      "39:\tlearn: 0.0052898\ttotal: 1.05s\tremaining: 0us\n",
      "0:\tlearn: 0.2947749\ttotal: 21.1ms\tremaining: 823ms\n",
      "1:\tlearn: 0.1918716\ttotal: 40.9ms\tremaining: 776ms\n",
      "2:\tlearn: 0.1538330\ttotal: 60.2ms\tremaining: 742ms\n",
      "3:\tlearn: 0.1249587\ttotal: 79.8ms\tremaining: 718ms\n",
      "4:\tlearn: 0.1023499\ttotal: 99.8ms\tremaining: 699ms\n",
      "5:\tlearn: 0.0856652\ttotal: 152ms\tremaining: 862ms\n",
      "6:\tlearn: 0.0761039\ttotal: 251ms\tremaining: 1.18s\n",
      "7:\tlearn: 0.0684472\ttotal: 274ms\tremaining: 1.09s\n",
      "8:\tlearn: 0.0614265\ttotal: 296ms\tremaining: 1.02s\n",
      "9:\tlearn: 0.0520746\ttotal: 321ms\tremaining: 962ms\n",
      "10:\tlearn: 0.0462854\ttotal: 345ms\tremaining: 909ms\n",
      "11:\tlearn: 0.0423389\ttotal: 368ms\tremaining: 859ms\n",
      "12:\tlearn: 0.0371584\ttotal: 391ms\tremaining: 812ms\n",
      "13:\tlearn: 0.0339217\ttotal: 414ms\tremaining: 769ms\n",
      "14:\tlearn: 0.0302972\ttotal: 436ms\tremaining: 727ms\n",
      "15:\tlearn: 0.0264972\ttotal: 460ms\tremaining: 690ms\n",
      "16:\tlearn: 0.0239895\ttotal: 483ms\tremaining: 653ms\n",
      "17:\tlearn: 0.0212163\ttotal: 506ms\tremaining: 619ms\n",
      "18:\tlearn: 0.0187423\ttotal: 533ms\tremaining: 589ms\n",
      "19:\tlearn: 0.0172759\ttotal: 555ms\tremaining: 555ms\n",
      "20:\tlearn: 0.0151112\ttotal: 576ms\tremaining: 521ms\n",
      "21:\tlearn: 0.0146575\ttotal: 597ms\tremaining: 488ms\n",
      "22:\tlearn: 0.0137363\ttotal: 617ms\tremaining: 456ms\n",
      "23:\tlearn: 0.0127135\ttotal: 637ms\tremaining: 425ms\n",
      "24:\tlearn: 0.0121911\ttotal: 656ms\tremaining: 394ms\n",
      "25:\tlearn: 0.0114682\ttotal: 677ms\tremaining: 365ms\n",
      "26:\tlearn: 0.0110865\ttotal: 698ms\tremaining: 336ms\n",
      "27:\tlearn: 0.0101123\ttotal: 719ms\tremaining: 308ms\n",
      "28:\tlearn: 0.0092446\ttotal: 741ms\tremaining: 281ms\n",
      "29:\tlearn: 0.0084054\ttotal: 764ms\tremaining: 255ms\n",
      "30:\tlearn: 0.0078329\ttotal: 787ms\tremaining: 229ms\n",
      "31:\tlearn: 0.0074096\ttotal: 810ms\tremaining: 203ms\n",
      "32:\tlearn: 0.0069894\ttotal: 833ms\tremaining: 177ms\n",
      "33:\tlearn: 0.0065773\ttotal: 855ms\tremaining: 151ms\n",
      "34:\tlearn: 0.0063888\ttotal: 876ms\tremaining: 125ms\n",
      "35:\tlearn: 0.0061735\ttotal: 899ms\tremaining: 99.9ms\n",
      "36:\tlearn: 0.0057756\ttotal: 921ms\tremaining: 74.7ms\n",
      "37:\tlearn: 0.0054140\ttotal: 945ms\tremaining: 49.8ms\n",
      "38:\tlearn: 0.0051149\ttotal: 971ms\tremaining: 24.9ms\n",
      "39:\tlearn: 0.0048457\ttotal: 994ms\tremaining: 0us\n",
      "0:\tlearn: 0.3163893\ttotal: 20.7ms\tremaining: 808ms\n",
      "1:\tlearn: 0.1888534\ttotal: 40.3ms\tremaining: 766ms\n",
      "2:\tlearn: 0.1473194\ttotal: 60.1ms\tremaining: 741ms\n",
      "3:\tlearn: 0.1203914\ttotal: 79.8ms\tremaining: 718ms\n",
      "4:\tlearn: 0.1034810\ttotal: 99.2ms\tremaining: 695ms\n",
      "5:\tlearn: 0.0902878\ttotal: 160ms\tremaining: 908ms\n",
      "6:\tlearn: 0.0802388\ttotal: 278ms\tremaining: 1.31s\n",
      "7:\tlearn: 0.0710807\ttotal: 301ms\tremaining: 1.2s\n",
      "8:\tlearn: 0.0635129\ttotal: 321ms\tremaining: 1.1s\n",
      "9:\tlearn: 0.0567140\ttotal: 342ms\tremaining: 1.02s\n",
      "10:\tlearn: 0.0529796\ttotal: 366ms\tremaining: 964ms\n",
      "11:\tlearn: 0.0472184\ttotal: 388ms\tremaining: 905ms\n",
      "12:\tlearn: 0.0411714\ttotal: 410ms\tremaining: 852ms\n",
      "13:\tlearn: 0.0361280\ttotal: 431ms\tremaining: 800ms\n",
      "14:\tlearn: 0.0334355\ttotal: 452ms\tremaining: 754ms\n",
      "15:\tlearn: 0.0291316\ttotal: 474ms\tremaining: 712ms\n",
      "16:\tlearn: 0.0266486\ttotal: 497ms\tremaining: 672ms\n",
      "17:\tlearn: 0.0245179\ttotal: 518ms\tremaining: 633ms\n",
      "18:\tlearn: 0.0221234\ttotal: 540ms\tremaining: 597ms\n",
      "19:\tlearn: 0.0198195\ttotal: 562ms\tremaining: 562ms\n",
      "20:\tlearn: 0.0182618\ttotal: 584ms\tremaining: 529ms\n",
      "21:\tlearn: 0.0164203\ttotal: 606ms\tremaining: 496ms\n",
      "22:\tlearn: 0.0152826\ttotal: 627ms\tremaining: 464ms\n",
      "23:\tlearn: 0.0138568\ttotal: 647ms\tremaining: 431ms\n",
      "24:\tlearn: 0.0128322\ttotal: 668ms\tremaining: 401ms\n",
      "25:\tlearn: 0.0118736\ttotal: 689ms\tremaining: 371ms\n",
      "26:\tlearn: 0.0111931\ttotal: 710ms\tremaining: 342ms\n",
      "27:\tlearn: 0.0106299\ttotal: 731ms\tremaining: 313ms\n",
      "28:\tlearn: 0.0097860\ttotal: 752ms\tremaining: 285ms\n",
      "29:\tlearn: 0.0095982\ttotal: 775ms\tremaining: 258ms\n",
      "30:\tlearn: 0.0090995\ttotal: 800ms\tremaining: 232ms\n",
      "31:\tlearn: 0.0087063\ttotal: 825ms\tremaining: 206ms\n",
      "32:\tlearn: 0.0082535\ttotal: 846ms\tremaining: 180ms\n",
      "33:\tlearn: 0.0077331\ttotal: 867ms\tremaining: 153ms\n",
      "34:\tlearn: 0.0073625\ttotal: 888ms\tremaining: 127ms\n",
      "35:\tlearn: 0.0070945\ttotal: 908ms\tremaining: 101ms\n",
      "36:\tlearn: 0.0067543\ttotal: 930ms\tremaining: 75.4ms\n",
      "37:\tlearn: 0.0064023\ttotal: 951ms\tremaining: 50.1ms\n",
      "38:\tlearn: 0.0061569\ttotal: 978ms\tremaining: 25.1ms\n",
      "39:\tlearn: 0.0058869\ttotal: 1s\tremaining: 0us\n",
      "0:\tlearn: 0.2562992\ttotal: 22ms\tremaining: 860ms\n",
      "1:\tlearn: 0.1649244\ttotal: 42.8ms\tremaining: 814ms\n",
      "2:\tlearn: 0.1323407\ttotal: 64.6ms\tremaining: 797ms\n",
      "3:\tlearn: 0.1029353\ttotal: 87.2ms\tremaining: 785ms\n",
      "4:\tlearn: 0.0891965\ttotal: 108ms\tremaining: 755ms\n",
      "5:\tlearn: 0.0757959\ttotal: 129ms\tremaining: 732ms\n",
      "6:\tlearn: 0.0621313\ttotal: 150ms\tremaining: 706ms\n",
      "7:\tlearn: 0.0514721\ttotal: 169ms\tremaining: 678ms\n",
      "8:\tlearn: 0.0447424\ttotal: 189ms\tremaining: 652ms\n",
      "9:\tlearn: 0.0409507\ttotal: 209ms\tremaining: 628ms\n",
      "10:\tlearn: 0.0358110\ttotal: 230ms\tremaining: 606ms\n",
      "11:\tlearn: 0.0314113\ttotal: 250ms\tremaining: 584ms\n",
      "12:\tlearn: 0.0267609\ttotal: 273ms\tremaining: 567ms\n",
      "13:\tlearn: 0.0229212\ttotal: 296ms\tremaining: 549ms\n",
      "14:\tlearn: 0.0220839\ttotal: 318ms\tremaining: 530ms\n",
      "15:\tlearn: 0.0185838\ttotal: 339ms\tremaining: 508ms\n",
      "16:\tlearn: 0.0166593\ttotal: 358ms\tremaining: 485ms\n",
      "17:\tlearn: 0.0151049\ttotal: 378ms\tremaining: 462ms\n",
      "18:\tlearn: 0.0138803\ttotal: 398ms\tremaining: 440ms\n",
      "19:\tlearn: 0.0123561\ttotal: 418ms\tremaining: 418ms\n",
      "20:\tlearn: 0.0118176\ttotal: 437ms\tremaining: 396ms\n",
      "21:\tlearn: 0.0101499\ttotal: 460ms\tremaining: 376ms\n",
      "22:\tlearn: 0.0096344\ttotal: 481ms\tremaining: 356ms\n",
      "23:\tlearn: 0.0091062\ttotal: 504ms\tremaining: 336ms\n",
      "24:\tlearn: 0.0083979\ttotal: 527ms\tremaining: 316ms\n",
      "25:\tlearn: 0.0077961\ttotal: 548ms\tremaining: 295ms\n",
      "26:\tlearn: 0.0073563\ttotal: 569ms\tremaining: 274ms\n",
      "27:\tlearn: 0.0073245\ttotal: 591ms\tremaining: 253ms\n",
      "28:\tlearn: 0.0068013\ttotal: 615ms\tremaining: 233ms\n",
      "29:\tlearn: 0.0060981\ttotal: 639ms\tremaining: 213ms\n",
      "30:\tlearn: 0.0057441\ttotal: 663ms\tremaining: 193ms\n",
      "31:\tlearn: 0.0056713\ttotal: 688ms\tremaining: 172ms\n",
      "32:\tlearn: 0.0053045\ttotal: 710ms\tremaining: 151ms\n",
      "33:\tlearn: 0.0050918\ttotal: 734ms\tremaining: 129ms\n",
      "34:\tlearn: 0.0048979\ttotal: 757ms\tremaining: 108ms\n",
      "35:\tlearn: 0.0046893\ttotal: 782ms\tremaining: 86.8ms\n",
      "36:\tlearn: 0.0045031\ttotal: 802ms\tremaining: 65.1ms\n",
      "37:\tlearn: 0.0043849\ttotal: 822ms\tremaining: 43.3ms\n",
      "38:\tlearn: 0.0043024\ttotal: 842ms\tremaining: 21.6ms\n",
      "39:\tlearn: 0.0040968\ttotal: 862ms\tremaining: 0us\n",
      "0:\tlearn: 0.2516399\ttotal: 21.4ms\tremaining: 836ms\n",
      "1:\tlearn: 0.1673407\ttotal: 43ms\tremaining: 818ms\n",
      "2:\tlearn: 0.1310670\ttotal: 64.2ms\tremaining: 792ms\n",
      "3:\tlearn: 0.1025961\ttotal: 84.9ms\tremaining: 764ms\n",
      "4:\tlearn: 0.0872187\ttotal: 105ms\tremaining: 734ms\n",
      "5:\tlearn: 0.0720570\ttotal: 166ms\tremaining: 939ms\n",
      "6:\tlearn: 0.0614924\ttotal: 262ms\tremaining: 1.23s\n",
      "7:\tlearn: 0.0562244\ttotal: 285ms\tremaining: 1.14s\n",
      "8:\tlearn: 0.0474713\ttotal: 307ms\tremaining: 1.06s\n",
      "9:\tlearn: 0.0408265\ttotal: 329ms\tremaining: 986ms\n",
      "10:\tlearn: 0.0364124\ttotal: 352ms\tremaining: 927ms\n",
      "11:\tlearn: 0.0308893\ttotal: 374ms\tremaining: 873ms\n",
      "12:\tlearn: 0.0290363\ttotal: 396ms\tremaining: 822ms\n",
      "13:\tlearn: 0.0256809\ttotal: 417ms\tremaining: 774ms\n",
      "14:\tlearn: 0.0225351\ttotal: 439ms\tremaining: 732ms\n",
      "15:\tlearn: 0.0182481\ttotal: 461ms\tremaining: 692ms\n",
      "16:\tlearn: 0.0168009\ttotal: 483ms\tremaining: 653ms\n",
      "17:\tlearn: 0.0157095\ttotal: 515ms\tremaining: 630ms\n",
      "18:\tlearn: 0.0141679\ttotal: 538ms\tremaining: 595ms\n",
      "19:\tlearn: 0.0122855\ttotal: 561ms\tremaining: 561ms\n",
      "20:\tlearn: 0.0110353\ttotal: 584ms\tremaining: 529ms\n",
      "21:\tlearn: 0.0102873\ttotal: 606ms\tremaining: 496ms\n",
      "22:\tlearn: 0.0090257\ttotal: 629ms\tremaining: 465ms\n",
      "23:\tlearn: 0.0082345\ttotal: 652ms\tremaining: 434ms\n",
      "24:\tlearn: 0.0078440\ttotal: 676ms\tremaining: 405ms\n",
      "25:\tlearn: 0.0076150\ttotal: 698ms\tremaining: 376ms\n",
      "26:\tlearn: 0.0070904\ttotal: 721ms\tremaining: 347ms\n",
      "27:\tlearn: 0.0066142\ttotal: 757ms\tremaining: 324ms\n",
      "28:\tlearn: 0.0060846\ttotal: 780ms\tremaining: 296ms\n",
      "29:\tlearn: 0.0056827\ttotal: 805ms\tremaining: 268ms\n",
      "30:\tlearn: 0.0051186\ttotal: 828ms\tremaining: 241ms\n",
      "31:\tlearn: 0.0050080\ttotal: 849ms\tremaining: 212ms\n",
      "32:\tlearn: 0.0045748\ttotal: 870ms\tremaining: 185ms\n",
      "33:\tlearn: 0.0043315\ttotal: 891ms\tremaining: 157ms\n",
      "34:\tlearn: 0.0040883\ttotal: 912ms\tremaining: 130ms\n",
      "35:\tlearn: 0.0040743\ttotal: 934ms\tremaining: 104ms\n",
      "36:\tlearn: 0.0039715\ttotal: 957ms\tremaining: 77.6ms\n",
      "37:\tlearn: 0.0037318\ttotal: 982ms\tremaining: 51.7ms\n",
      "38:\tlearn: 0.0035392\ttotal: 1.01s\tremaining: 25.8ms\n",
      "39:\tlearn: 0.0034157\ttotal: 1.03s\tremaining: 0us\n",
      "0:\tlearn: 0.2706556\ttotal: 20.9ms\tremaining: 814ms\n",
      "1:\tlearn: 0.1645877\ttotal: 40.4ms\tremaining: 767ms\n",
      "2:\tlearn: 0.1327990\ttotal: 59.7ms\tremaining: 737ms\n",
      "3:\tlearn: 0.1071606\ttotal: 79.3ms\tremaining: 713ms\n",
      "4:\tlearn: 0.0939595\ttotal: 99.7ms\tremaining: 698ms\n",
      "5:\tlearn: 0.0804876\ttotal: 122ms\tremaining: 693ms\n",
      "6:\tlearn: 0.0690913\ttotal: 203ms\tremaining: 955ms\n",
      "7:\tlearn: 0.0593847\ttotal: 268ms\tremaining: 1.07s\n",
      "8:\tlearn: 0.0502614\ttotal: 289ms\tremaining: 996ms\n",
      "9:\tlearn: 0.0433653\ttotal: 309ms\tremaining: 928ms\n",
      "10:\tlearn: 0.0378718\ttotal: 332ms\tremaining: 874ms\n",
      "11:\tlearn: 0.0342272\ttotal: 354ms\tremaining: 827ms\n",
      "12:\tlearn: 0.0276522\ttotal: 375ms\tremaining: 779ms\n",
      "13:\tlearn: 0.0242854\ttotal: 395ms\tremaining: 734ms\n",
      "14:\tlearn: 0.0217097\ttotal: 415ms\tremaining: 691ms\n",
      "15:\tlearn: 0.0192562\ttotal: 435ms\tremaining: 652ms\n",
      "16:\tlearn: 0.0166694\ttotal: 456ms\tremaining: 616ms\n",
      "17:\tlearn: 0.0151409\ttotal: 476ms\tremaining: 581ms\n",
      "18:\tlearn: 0.0135962\ttotal: 495ms\tremaining: 547ms\n",
      "19:\tlearn: 0.0121508\ttotal: 518ms\tremaining: 518ms\n",
      "20:\tlearn: 0.0114030\ttotal: 541ms\tremaining: 489ms\n",
      "21:\tlearn: 0.0105687\ttotal: 563ms\tremaining: 461ms\n",
      "22:\tlearn: 0.0096740\ttotal: 584ms\tremaining: 432ms\n",
      "23:\tlearn: 0.0085167\ttotal: 604ms\tremaining: 403ms\n",
      "24:\tlearn: 0.0081518\ttotal: 624ms\tremaining: 375ms\n",
      "25:\tlearn: 0.0077344\ttotal: 644ms\tremaining: 347ms\n",
      "26:\tlearn: 0.0074872\ttotal: 664ms\tremaining: 320ms\n",
      "27:\tlearn: 0.0071264\ttotal: 684ms\tremaining: 293ms\n",
      "28:\tlearn: 0.0068117\ttotal: 705ms\tremaining: 267ms\n",
      "29:\tlearn: 0.0064028\ttotal: 725ms\tremaining: 242ms\n",
      "30:\tlearn: 0.0059899\ttotal: 747ms\tremaining: 217ms\n",
      "31:\tlearn: 0.0056840\ttotal: 770ms\tremaining: 192ms\n",
      "32:\tlearn: 0.0055277\ttotal: 792ms\tremaining: 168ms\n",
      "33:\tlearn: 0.0052811\ttotal: 814ms\tremaining: 144ms\n",
      "34:\tlearn: 0.0051084\ttotal: 834ms\tremaining: 119ms\n",
      "35:\tlearn: 0.0049812\ttotal: 855ms\tremaining: 95ms\n",
      "36:\tlearn: 0.0048060\ttotal: 875ms\tremaining: 70.9ms\n",
      "37:\tlearn: 0.0046047\ttotal: 895ms\tremaining: 47.1ms\n",
      "38:\tlearn: 0.0045778\ttotal: 914ms\tremaining: 23.4ms\n",
      "39:\tlearn: 0.0045117\ttotal: 935ms\tremaining: 0us\n",
      "0:\tlearn: 0.2383332\ttotal: 22.1ms\tremaining: 861ms\n",
      "1:\tlearn: 0.1557329\ttotal: 43.9ms\tremaining: 834ms\n",
      "2:\tlearn: 0.1244171\ttotal: 66.5ms\tremaining: 820ms\n",
      "3:\tlearn: 0.1004062\ttotal: 88ms\tremaining: 792ms\n",
      "4:\tlearn: 0.0851170\ttotal: 108ms\tremaining: 755ms\n",
      "5:\tlearn: 0.0680419\ttotal: 128ms\tremaining: 724ms\n",
      "6:\tlearn: 0.0557438\ttotal: 147ms\tremaining: 693ms\n",
      "7:\tlearn: 0.0478258\ttotal: 167ms\tremaining: 667ms\n",
      "8:\tlearn: 0.0454997\ttotal: 187ms\tremaining: 645ms\n",
      "9:\tlearn: 0.0369923\ttotal: 207ms\tremaining: 621ms\n",
      "10:\tlearn: 0.0307641\ttotal: 227ms\tremaining: 598ms\n",
      "11:\tlearn: 0.0256593\ttotal: 248ms\tremaining: 579ms\n",
      "12:\tlearn: 0.0222313\ttotal: 269ms\tremaining: 558ms\n",
      "13:\tlearn: 0.0202420\ttotal: 290ms\tremaining: 538ms\n",
      "14:\tlearn: 0.0165433\ttotal: 312ms\tremaining: 520ms\n",
      "15:\tlearn: 0.0134457\ttotal: 335ms\tremaining: 502ms\n",
      "16:\tlearn: 0.0116379\ttotal: 355ms\tremaining: 480ms\n",
      "17:\tlearn: 0.0112459\ttotal: 375ms\tremaining: 459ms\n",
      "18:\tlearn: 0.0101369\ttotal: 395ms\tremaining: 436ms\n",
      "19:\tlearn: 0.0089364\ttotal: 415ms\tremaining: 415ms\n",
      "20:\tlearn: 0.0081666\ttotal: 436ms\tremaining: 394ms\n",
      "21:\tlearn: 0.0080854\ttotal: 456ms\tremaining: 373ms\n",
      "22:\tlearn: 0.0079857\ttotal: 475ms\tremaining: 351ms\n",
      "23:\tlearn: 0.0071676\ttotal: 497ms\tremaining: 332ms\n",
      "24:\tlearn: 0.0068425\ttotal: 520ms\tremaining: 312ms\n",
      "25:\tlearn: 0.0065062\ttotal: 544ms\tremaining: 293ms\n",
      "26:\tlearn: 0.0058971\ttotal: 567ms\tremaining: 273ms\n",
      "27:\tlearn: 0.0057443\ttotal: 588ms\tremaining: 252ms\n",
      "28:\tlearn: 0.0053332\ttotal: 615ms\tremaining: 233ms\n",
      "29:\tlearn: 0.0050864\ttotal: 634ms\tremaining: 211ms\n",
      "30:\tlearn: 0.0047491\ttotal: 654ms\tremaining: 190ms\n",
      "31:\tlearn: 0.0045500\ttotal: 675ms\tremaining: 169ms\n",
      "32:\tlearn: 0.0043739\ttotal: 695ms\tremaining: 147ms\n",
      "33:\tlearn: 0.0042664\ttotal: 717ms\tremaining: 127ms\n",
      "34:\tlearn: 0.0041165\ttotal: 742ms\tremaining: 106ms\n",
      "35:\tlearn: 0.0038164\ttotal: 765ms\tremaining: 84.9ms\n",
      "36:\tlearn: 0.0036670\ttotal: 784ms\tremaining: 63.6ms\n",
      "37:\tlearn: 0.0034900\ttotal: 804ms\tremaining: 42.3ms\n",
      "38:\tlearn: 0.0033687\ttotal: 825ms\tremaining: 21.1ms\n",
      "39:\tlearn: 0.0031798\ttotal: 845ms\tremaining: 0us\n",
      "0:\tlearn: 0.2344939\ttotal: 21.6ms\tremaining: 841ms\n",
      "1:\tlearn: 0.1575454\ttotal: 42.4ms\tremaining: 806ms\n",
      "2:\tlearn: 0.1186321\ttotal: 62.9ms\tremaining: 775ms\n",
      "3:\tlearn: 0.0962608\ttotal: 82.7ms\tremaining: 745ms\n",
      "4:\tlearn: 0.0823292\ttotal: 103ms\tremaining: 720ms\n",
      "5:\tlearn: 0.0646472\ttotal: 129ms\tremaining: 729ms\n",
      "6:\tlearn: 0.0525071\ttotal: 255ms\tremaining: 1.2s\n",
      "7:\tlearn: 0.0438299\ttotal: 277ms\tremaining: 1.11s\n",
      "8:\tlearn: 0.0336405\ttotal: 298ms\tremaining: 1.03s\n",
      "9:\tlearn: 0.0263052\ttotal: 319ms\tremaining: 957ms\n",
      "10:\tlearn: 0.0235793\ttotal: 342ms\tremaining: 903ms\n",
      "11:\tlearn: 0.0220665\ttotal: 365ms\tremaining: 851ms\n",
      "12:\tlearn: 0.0180333\ttotal: 387ms\tremaining: 804ms\n",
      "13:\tlearn: 0.0147806\ttotal: 410ms\tremaining: 761ms\n",
      "14:\tlearn: 0.0123560\ttotal: 431ms\tremaining: 719ms\n",
      "15:\tlearn: 0.0113828\ttotal: 453ms\tremaining: 679ms\n",
      "16:\tlearn: 0.0103021\ttotal: 474ms\tremaining: 641ms\n",
      "17:\tlearn: 0.0086656\ttotal: 494ms\tremaining: 604ms\n",
      "18:\tlearn: 0.0078895\ttotal: 516ms\tremaining: 571ms\n",
      "19:\tlearn: 0.0067144\ttotal: 540ms\tremaining: 540ms\n",
      "20:\tlearn: 0.0062177\ttotal: 563ms\tremaining: 509ms\n",
      "21:\tlearn: 0.0056457\ttotal: 583ms\tremaining: 477ms\n",
      "22:\tlearn: 0.0053047\ttotal: 604ms\tremaining: 446ms\n",
      "23:\tlearn: 0.0049407\ttotal: 624ms\tremaining: 416ms\n",
      "24:\tlearn: 0.0045090\ttotal: 645ms\tremaining: 387ms\n",
      "25:\tlearn: 0.0043054\ttotal: 667ms\tremaining: 359ms\n",
      "26:\tlearn: 0.0040031\ttotal: 688ms\tremaining: 331ms\n",
      "27:\tlearn: 0.0038259\ttotal: 709ms\tremaining: 304ms\n",
      "28:\tlearn: 0.0037103\ttotal: 734ms\tremaining: 279ms\n",
      "29:\tlearn: 0.0034303\ttotal: 758ms\tremaining: 253ms\n",
      "30:\tlearn: 0.0032136\ttotal: 781ms\tremaining: 227ms\n",
      "31:\tlearn: 0.0029906\ttotal: 801ms\tremaining: 200ms\n",
      "32:\tlearn: 0.0029362\ttotal: 822ms\tremaining: 174ms\n",
      "33:\tlearn: 0.0028378\ttotal: 842ms\tremaining: 149ms\n",
      "34:\tlearn: 0.0027791\ttotal: 864ms\tremaining: 123ms\n",
      "35:\tlearn: 0.0026556\ttotal: 884ms\tremaining: 98.2ms\n",
      "36:\tlearn: 0.0026219\ttotal: 904ms\tremaining: 73.3ms\n",
      "37:\tlearn: 0.0025209\ttotal: 926ms\tremaining: 48.7ms\n",
      "38:\tlearn: 0.0024780\ttotal: 948ms\tremaining: 24.3ms\n",
      "39:\tlearn: 0.0024485\ttotal: 969ms\tremaining: 0us\n",
      "0:\tlearn: 0.2518821\ttotal: 25.2ms\tremaining: 981ms\n",
      "1:\tlearn: 0.1588824\ttotal: 48.2ms\tremaining: 916ms\n",
      "2:\tlearn: 0.1314914\ttotal: 69.7ms\tremaining: 860ms\n",
      "3:\tlearn: 0.1069652\ttotal: 94.7ms\tremaining: 852ms\n",
      "4:\tlearn: 0.0895624\ttotal: 121ms\tremaining: 849ms\n",
      "5:\tlearn: 0.0715128\ttotal: 158ms\tremaining: 895ms\n",
      "6:\tlearn: 0.0590138\ttotal: 191ms\tremaining: 903ms\n",
      "7:\tlearn: 0.0541139\ttotal: 218ms\tremaining: 873ms\n",
      "8:\tlearn: 0.0445929\ttotal: 245ms\tremaining: 845ms\n",
      "9:\tlearn: 0.0364098\ttotal: 272ms\tremaining: 816ms\n",
      "10:\tlearn: 0.0306347\ttotal: 300ms\tremaining: 792ms\n",
      "11:\tlearn: 0.0274800\ttotal: 330ms\tremaining: 769ms\n",
      "12:\tlearn: 0.0221969\ttotal: 356ms\tremaining: 740ms\n",
      "13:\tlearn: 0.0191524\ttotal: 381ms\tremaining: 708ms\n",
      "14:\tlearn: 0.0164152\ttotal: 408ms\tremaining: 680ms\n",
      "15:\tlearn: 0.0137951\ttotal: 439ms\tremaining: 659ms\n",
      "16:\tlearn: 0.0114905\ttotal: 470ms\tremaining: 636ms\n",
      "17:\tlearn: 0.0104476\ttotal: 510ms\tremaining: 623ms\n",
      "18:\tlearn: 0.0093939\ttotal: 540ms\tremaining: 597ms\n",
      "19:\tlearn: 0.0084177\ttotal: 571ms\tremaining: 571ms\n",
      "20:\tlearn: 0.0076292\ttotal: 600ms\tremaining: 543ms\n",
      "21:\tlearn: 0.0071593\ttotal: 625ms\tremaining: 512ms\n",
      "22:\tlearn: 0.0065613\ttotal: 653ms\tremaining: 483ms\n",
      "23:\tlearn: 0.0062035\ttotal: 679ms\tremaining: 453ms\n",
      "24:\tlearn: 0.0055726\ttotal: 703ms\tremaining: 422ms\n",
      "25:\tlearn: 0.0052978\ttotal: 723ms\tremaining: 389ms\n",
      "26:\tlearn: 0.0051476\ttotal: 747ms\tremaining: 360ms\n",
      "27:\tlearn: 0.0050957\ttotal: 770ms\tremaining: 330ms\n",
      "28:\tlearn: 0.0049887\ttotal: 792ms\tremaining: 300ms\n",
      "29:\tlearn: 0.0048024\ttotal: 814ms\tremaining: 271ms\n",
      "30:\tlearn: 0.0047235\ttotal: 835ms\tremaining: 242ms\n",
      "31:\tlearn: 0.0045486\ttotal: 856ms\tremaining: 214ms\n",
      "32:\tlearn: 0.0044089\ttotal: 878ms\tremaining: 186ms\n",
      "33:\tlearn: 0.0041855\ttotal: 898ms\tremaining: 158ms\n",
      "34:\tlearn: 0.0040142\ttotal: 920ms\tremaining: 131ms\n",
      "35:\tlearn: 0.0039531\ttotal: 940ms\tremaining: 104ms\n",
      "36:\tlearn: 0.0038922\ttotal: 961ms\tremaining: 77.9ms\n",
      "37:\tlearn: 0.0037551\ttotal: 982ms\tremaining: 51.7ms\n",
      "38:\tlearn: 0.0036856\ttotal: 1s\tremaining: 25.8ms\n",
      "39:\tlearn: 0.0036684\ttotal: 1.03s\tremaining: 0us\n",
      "0:\tlearn: 0.2962186\ttotal: 22.2ms\tremaining: 867ms\n",
      "1:\tlearn: 0.1922368\ttotal: 45.2ms\tremaining: 858ms\n",
      "2:\tlearn: 0.1547177\ttotal: 88.5ms\tremaining: 1.09s\n",
      "3:\tlearn: 0.1231754\ttotal: 120ms\tremaining: 1.08s\n",
      "4:\tlearn: 0.1055789\ttotal: 150ms\tremaining: 1.05s\n",
      "5:\tlearn: 0.0931570\ttotal: 178ms\tremaining: 1.01s\n",
      "6:\tlearn: 0.0836563\ttotal: 207ms\tremaining: 974ms\n",
      "7:\tlearn: 0.0738146\ttotal: 237ms\tremaining: 949ms\n",
      "8:\tlearn: 0.0651259\ttotal: 266ms\tremaining: 916ms\n",
      "9:\tlearn: 0.0606935\ttotal: 292ms\tremaining: 876ms\n",
      "10:\tlearn: 0.0560375\ttotal: 321ms\tremaining: 846ms\n",
      "11:\tlearn: 0.0520249\ttotal: 343ms\tremaining: 801ms\n",
      "12:\tlearn: 0.0463248\ttotal: 364ms\tremaining: 757ms\n",
      "13:\tlearn: 0.0420144\ttotal: 387ms\tremaining: 718ms\n",
      "14:\tlearn: 0.0385996\ttotal: 411ms\tremaining: 685ms\n",
      "15:\tlearn: 0.0351435\ttotal: 433ms\tremaining: 650ms\n",
      "16:\tlearn: 0.0321492\ttotal: 456ms\tremaining: 617ms\n",
      "17:\tlearn: 0.0295541\ttotal: 476ms\tremaining: 582ms\n",
      "18:\tlearn: 0.0274098\ttotal: 499ms\tremaining: 552ms\n",
      "19:\tlearn: 0.0258595\ttotal: 523ms\tremaining: 523ms\n",
      "20:\tlearn: 0.0234816\ttotal: 549ms\tremaining: 497ms\n",
      "21:\tlearn: 0.0216359\ttotal: 572ms\tremaining: 468ms\n",
      "22:\tlearn: 0.0203534\ttotal: 595ms\tremaining: 440ms\n",
      "23:\tlearn: 0.0193559\ttotal: 617ms\tremaining: 412ms\n",
      "24:\tlearn: 0.0175414\ttotal: 641ms\tremaining: 385ms\n",
      "25:\tlearn: 0.0165405\ttotal: 662ms\tremaining: 357ms\n",
      "26:\tlearn: 0.0157438\ttotal: 684ms\tremaining: 329ms\n",
      "27:\tlearn: 0.0142015\ttotal: 705ms\tremaining: 302ms\n",
      "28:\tlearn: 0.0132227\ttotal: 730ms\tremaining: 277ms\n",
      "29:\tlearn: 0.0122996\ttotal: 754ms\tremaining: 251ms\n",
      "30:\tlearn: 0.0111876\ttotal: 777ms\tremaining: 226ms\n",
      "31:\tlearn: 0.0107607\ttotal: 798ms\tremaining: 200ms\n",
      "32:\tlearn: 0.0100380\ttotal: 820ms\tremaining: 174ms\n",
      "33:\tlearn: 0.0094636\ttotal: 841ms\tremaining: 148ms\n",
      "34:\tlearn: 0.0091175\ttotal: 863ms\tremaining: 123ms\n",
      "35:\tlearn: 0.0089266\ttotal: 884ms\tremaining: 98.2ms\n",
      "36:\tlearn: 0.0085147\ttotal: 906ms\tremaining: 73.5ms\n",
      "37:\tlearn: 0.0082741\ttotal: 928ms\tremaining: 48.9ms\n",
      "38:\tlearn: 0.0077251\ttotal: 952ms\tremaining: 24.4ms\n",
      "39:\tlearn: 0.0073813\ttotal: 976ms\tremaining: 0us\n",
      "CPU times: total: 37.9 s\n",
      "Wall time: 20.7 s\n"
     ]
    },
    {
     "data": {
      "text/plain": "GridSearchCV(cv=3,\n             estimator=<catboost.core.CatBoostClassifier object at 0x0000027245891E50>,\n             param_grid={'iterations': [40],\n                         'learning_rate': array([0.1, 0.3, 0.5, 0.7, 0.9])},\n             scoring='f1', verbose=False)",
      "text/html": "<style>#sk-container-id-4 {color: black;background-color: white;}#sk-container-id-4 pre{padding: 0;}#sk-container-id-4 div.sk-toggleable {background-color: white;}#sk-container-id-4 label.sk-toggleable__label {cursor: pointer;display: block;width: 100%;margin-bottom: 0;padding: 0.3em;box-sizing: border-box;text-align: center;}#sk-container-id-4 label.sk-toggleable__label-arrow:before {content: \"▸\";float: left;margin-right: 0.25em;color: #696969;}#sk-container-id-4 label.sk-toggleable__label-arrow:hover:before {color: black;}#sk-container-id-4 div.sk-estimator:hover label.sk-toggleable__label-arrow:before {color: black;}#sk-container-id-4 div.sk-toggleable__content {max-height: 0;max-width: 0;overflow: hidden;text-align: left;background-color: #f0f8ff;}#sk-container-id-4 div.sk-toggleable__content pre {margin: 0.2em;color: black;border-radius: 0.25em;background-color: #f0f8ff;}#sk-container-id-4 input.sk-toggleable__control:checked~div.sk-toggleable__content {max-height: 200px;max-width: 100%;overflow: auto;}#sk-container-id-4 input.sk-toggleable__control:checked~label.sk-toggleable__label-arrow:before {content: \"▾\";}#sk-container-id-4 div.sk-estimator input.sk-toggleable__control:checked~label.sk-toggleable__label {background-color: #d4ebff;}#sk-container-id-4 div.sk-label input.sk-toggleable__control:checked~label.sk-toggleable__label {background-color: #d4ebff;}#sk-container-id-4 input.sk-hidden--visually {border: 0;clip: rect(1px 1px 1px 1px);clip: rect(1px, 1px, 1px, 1px);height: 1px;margin: -1px;overflow: hidden;padding: 0;position: absolute;width: 1px;}#sk-container-id-4 div.sk-estimator {font-family: monospace;background-color: #f0f8ff;border: 1px dotted black;border-radius: 0.25em;box-sizing: border-box;margin-bottom: 0.5em;}#sk-container-id-4 div.sk-estimator:hover {background-color: #d4ebff;}#sk-container-id-4 div.sk-parallel-item::after {content: \"\";width: 100%;border-bottom: 1px solid gray;flex-grow: 1;}#sk-container-id-4 div.sk-label:hover label.sk-toggleable__label {background-color: #d4ebff;}#sk-container-id-4 div.sk-serial::before {content: \"\";position: absolute;border-left: 1px solid gray;box-sizing: border-box;top: 0;bottom: 0;left: 50%;z-index: 0;}#sk-container-id-4 div.sk-serial {display: flex;flex-direction: column;align-items: center;background-color: white;padding-right: 0.2em;padding-left: 0.2em;position: relative;}#sk-container-id-4 div.sk-item {position: relative;z-index: 1;}#sk-container-id-4 div.sk-parallel {display: flex;align-items: stretch;justify-content: center;background-color: white;position: relative;}#sk-container-id-4 div.sk-item::before, #sk-container-id-4 div.sk-parallel-item::before {content: \"\";position: absolute;border-left: 1px solid gray;box-sizing: border-box;top: 0;bottom: 0;left: 50%;z-index: -1;}#sk-container-id-4 div.sk-parallel-item {display: flex;flex-direction: column;z-index: 1;position: relative;background-color: white;}#sk-container-id-4 div.sk-parallel-item:first-child::after {align-self: flex-end;width: 50%;}#sk-container-id-4 div.sk-parallel-item:last-child::after {align-self: flex-start;width: 50%;}#sk-container-id-4 div.sk-parallel-item:only-child::after {width: 0;}#sk-container-id-4 div.sk-dashed-wrapped {border: 1px dashed gray;margin: 0 0.4em 0.5em 0.4em;box-sizing: border-box;padding-bottom: 0.4em;background-color: white;}#sk-container-id-4 div.sk-label label {font-family: monospace;font-weight: bold;display: inline-block;line-height: 1.2em;}#sk-container-id-4 div.sk-label-container {text-align: center;}#sk-container-id-4 div.sk-container {/* jupyter's `normalize.less` sets `[hidden] { display: none; }` but bootstrap.min.css set `[hidden] { display: none !important; }` so we also need the `!important` here to be able to override the default hidden behavior on the sphinx rendered scikit-learn.org. See: https://github.com/scikit-learn/scikit-learn/issues/21755 */display: inline-block !important;position: relative;}#sk-container-id-4 div.sk-text-repr-fallback {display: none;}</style><div id=\"sk-container-id-4\" class=\"sk-top-container\"><div class=\"sk-text-repr-fallback\"><pre>GridSearchCV(cv=3,\n             estimator=&lt;catboost.core.CatBoostClassifier object at 0x0000027245891E50&gt;,\n             param_grid={&#x27;iterations&#x27;: [40],\n                         &#x27;learning_rate&#x27;: array([0.1, 0.3, 0.5, 0.7, 0.9])},\n             scoring=&#x27;f1&#x27;, verbose=False)</pre><b>In a Jupyter environment, please rerun this cell to show the HTML representation or trust the notebook. <br />On GitHub, the HTML representation is unable to render, please try loading this page with nbviewer.org.</b></div><div class=\"sk-container\" hidden><div class=\"sk-item sk-dashed-wrapped\"><div class=\"sk-label-container\"><div class=\"sk-label sk-toggleable\"><input class=\"sk-toggleable__control sk-hidden--visually\" id=\"sk-estimator-id-5\" type=\"checkbox\" ><label for=\"sk-estimator-id-5\" class=\"sk-toggleable__label sk-toggleable__label-arrow\">GridSearchCV</label><div class=\"sk-toggleable__content\"><pre>GridSearchCV(cv=3,\n             estimator=&lt;catboost.core.CatBoostClassifier object at 0x0000027245891E50&gt;,\n             param_grid={&#x27;iterations&#x27;: [40],\n                         &#x27;learning_rate&#x27;: array([0.1, 0.3, 0.5, 0.7, 0.9])},\n             scoring=&#x27;f1&#x27;, verbose=False)</pre></div></div></div><div class=\"sk-parallel\"><div class=\"sk-parallel-item\"><div class=\"sk-item\"><div class=\"sk-label-container\"><div class=\"sk-label sk-toggleable\"><input class=\"sk-toggleable__control sk-hidden--visually\" id=\"sk-estimator-id-6\" type=\"checkbox\" ><label for=\"sk-estimator-id-6\" class=\"sk-toggleable__label sk-toggleable__label-arrow\">estimator: CatBoostClassifier</label><div class=\"sk-toggleable__content\"><pre>&lt;catboost.core.CatBoostClassifier object at 0x0000027245891E50&gt;</pre></div></div></div><div class=\"sk-serial\"><div class=\"sk-item\"><div class=\"sk-estimator sk-toggleable\"><input class=\"sk-toggleable__control sk-hidden--visually\" id=\"sk-estimator-id-7\" type=\"checkbox\" ><label for=\"sk-estimator-id-7\" class=\"sk-toggleable__label sk-toggleable__label-arrow\">CatBoostClassifier</label><div class=\"sk-toggleable__content\"><pre>&lt;catboost.core.CatBoostClassifier object at 0x0000027245891E50&gt;</pre></div></div></div></div></div></div></div></div></div></div>"
     },
     "execution_count": 88,
     "metadata": {},
     "output_type": "execute_result"
    }
   ],
   "source": [
    "%%time\n",
    "catboost = CatBoostClassifier(random_seed=42,\n",
    "                              loss_function='Logloss')\n",
    "\n",
    "# preparing parameters to ask GridSearch, which contains cross validation\n",
    "parameters_cat = {'iterations':[40],\n",
    "                  'learning_rate': np.arange(0.1,1,0.2)}\n",
    "\n",
    "gsearch_catboost = GridSearchCV(catboost,\n",
    "                                param_grid=parameters_cat,\n",
    "                                cv=3,\n",
    "                                verbose=False,\n",
    "                                scoring='f1')\n",
    "\n",
    "gsearch_catboost.fit(list(train['ft_embedding'].values), y_train)"
   ],
   "metadata": {
    "collapsed": false
   }
  },
  {
   "cell_type": "code",
   "execution_count": 100,
   "outputs": [
    {
     "name": "stdout",
     "output_type": "stream",
     "text": [
      "\n",
      "accuracy: 98.03%\n",
      "\n",
      "f1-score: 0.9801384921903853\n",
      "\n",
      " [[973   9]\n",
      " [ 13 120]]\n",
      "\n",
      "               precision    recall  f1-score   support\n",
      "\n",
      "           0       0.99      0.99      0.99       982\n",
      "           1       0.93      0.90      0.92       133\n",
      "\n",
      "    accuracy                           0.98      1115\n",
      "   macro avg       0.96      0.95      0.95      1115\n",
      "weighted avg       0.98      0.98      0.98      1115\n",
      "\n"
     ]
    }
   ],
   "source": [
    "y_pred_catboost = gsearch_catboost.predict(list(test['ft_embedding'].values))\n",
    "\n",
    "print(\"\\naccuracy: {}%\".format(round(accuracy_score(y_test, y_pred_catboost)*100,2)))\n",
    "print(\"\\nf1-score: {}\".format(f1_score(y_test, y_pred_catboost, average='weighted')))\n",
    "print('\\n',confusion_matrix(y_test, y_pred_catboost))\n",
    "print('\\n',classification_report(y_test, y_pred_catboost))"
   ],
   "metadata": {
    "collapsed": false
   }
  },
  {
   "cell_type": "markdown",
   "source": [
    "#### CatBoostClassifier позволяет получить такие результаты, что:\n",
    "\n",
    "* accuracy: 98.03%\n",
    "\n",
    "* f1-score: 0.9801384921903853%\n",
    "\n",
    "* 973 объектов были верно классифицированы как класс 0 (true negatives)\n",
    "* 9 объектов были неверно классифицированы как класс 1 (false positives)\n",
    "* 13 объектов были неверно классифицированы как класс 0 (false negatives)\n",
    "* 120 объектов были верно классифицированы как класс 1 (true positives)"
   ],
   "metadata": {
    "collapsed": false
   }
  },
  {
   "cell_type": "markdown",
   "source": [
    "### 3) Градиентный бустинг LightGBM"
   ],
   "metadata": {
    "collapsed": false
   }
  },
  {
   "cell_type": "code",
   "execution_count": 94,
   "outputs": [
    {
     "name": "stdout",
     "output_type": "stream",
     "text": [
      "CPU times: total: 1min 29s\n",
      "Wall time: 18 s\n"
     ]
    },
    {
     "data": {
      "text/plain": "GridSearchCV(cv=3,\n             estimator=LGBMClassifier(class_weight='balanced', random_state=42),\n             param_grid={'learning_rate': [0.05, 0.1], 'max_depth': [-1],\n                         'n_estimators': [50, 100], 'verbose': [-1]},\n             scoring='f1')",
      "text/html": "<style>#sk-container-id-5 {color: black;background-color: white;}#sk-container-id-5 pre{padding: 0;}#sk-container-id-5 div.sk-toggleable {background-color: white;}#sk-container-id-5 label.sk-toggleable__label {cursor: pointer;display: block;width: 100%;margin-bottom: 0;padding: 0.3em;box-sizing: border-box;text-align: center;}#sk-container-id-5 label.sk-toggleable__label-arrow:before {content: \"▸\";float: left;margin-right: 0.25em;color: #696969;}#sk-container-id-5 label.sk-toggleable__label-arrow:hover:before {color: black;}#sk-container-id-5 div.sk-estimator:hover label.sk-toggleable__label-arrow:before {color: black;}#sk-container-id-5 div.sk-toggleable__content {max-height: 0;max-width: 0;overflow: hidden;text-align: left;background-color: #f0f8ff;}#sk-container-id-5 div.sk-toggleable__content pre {margin: 0.2em;color: black;border-radius: 0.25em;background-color: #f0f8ff;}#sk-container-id-5 input.sk-toggleable__control:checked~div.sk-toggleable__content {max-height: 200px;max-width: 100%;overflow: auto;}#sk-container-id-5 input.sk-toggleable__control:checked~label.sk-toggleable__label-arrow:before {content: \"▾\";}#sk-container-id-5 div.sk-estimator input.sk-toggleable__control:checked~label.sk-toggleable__label {background-color: #d4ebff;}#sk-container-id-5 div.sk-label input.sk-toggleable__control:checked~label.sk-toggleable__label {background-color: #d4ebff;}#sk-container-id-5 input.sk-hidden--visually {border: 0;clip: rect(1px 1px 1px 1px);clip: rect(1px, 1px, 1px, 1px);height: 1px;margin: -1px;overflow: hidden;padding: 0;position: absolute;width: 1px;}#sk-container-id-5 div.sk-estimator {font-family: monospace;background-color: #f0f8ff;border: 1px dotted black;border-radius: 0.25em;box-sizing: border-box;margin-bottom: 0.5em;}#sk-container-id-5 div.sk-estimator:hover {background-color: #d4ebff;}#sk-container-id-5 div.sk-parallel-item::after {content: \"\";width: 100%;border-bottom: 1px solid gray;flex-grow: 1;}#sk-container-id-5 div.sk-label:hover label.sk-toggleable__label {background-color: #d4ebff;}#sk-container-id-5 div.sk-serial::before {content: \"\";position: absolute;border-left: 1px solid gray;box-sizing: border-box;top: 0;bottom: 0;left: 50%;z-index: 0;}#sk-container-id-5 div.sk-serial {display: flex;flex-direction: column;align-items: center;background-color: white;padding-right: 0.2em;padding-left: 0.2em;position: relative;}#sk-container-id-5 div.sk-item {position: relative;z-index: 1;}#sk-container-id-5 div.sk-parallel {display: flex;align-items: stretch;justify-content: center;background-color: white;position: relative;}#sk-container-id-5 div.sk-item::before, #sk-container-id-5 div.sk-parallel-item::before {content: \"\";position: absolute;border-left: 1px solid gray;box-sizing: border-box;top: 0;bottom: 0;left: 50%;z-index: -1;}#sk-container-id-5 div.sk-parallel-item {display: flex;flex-direction: column;z-index: 1;position: relative;background-color: white;}#sk-container-id-5 div.sk-parallel-item:first-child::after {align-self: flex-end;width: 50%;}#sk-container-id-5 div.sk-parallel-item:last-child::after {align-self: flex-start;width: 50%;}#sk-container-id-5 div.sk-parallel-item:only-child::after {width: 0;}#sk-container-id-5 div.sk-dashed-wrapped {border: 1px dashed gray;margin: 0 0.4em 0.5em 0.4em;box-sizing: border-box;padding-bottom: 0.4em;background-color: white;}#sk-container-id-5 div.sk-label label {font-family: monospace;font-weight: bold;display: inline-block;line-height: 1.2em;}#sk-container-id-5 div.sk-label-container {text-align: center;}#sk-container-id-5 div.sk-container {/* jupyter's `normalize.less` sets `[hidden] { display: none; }` but bootstrap.min.css set `[hidden] { display: none !important; }` so we also need the `!important` here to be able to override the default hidden behavior on the sphinx rendered scikit-learn.org. See: https://github.com/scikit-learn/scikit-learn/issues/21755 */display: inline-block !important;position: relative;}#sk-container-id-5 div.sk-text-repr-fallback {display: none;}</style><div id=\"sk-container-id-5\" class=\"sk-top-container\"><div class=\"sk-text-repr-fallback\"><pre>GridSearchCV(cv=3,\n             estimator=LGBMClassifier(class_weight=&#x27;balanced&#x27;, random_state=42),\n             param_grid={&#x27;learning_rate&#x27;: [0.05, 0.1], &#x27;max_depth&#x27;: [-1],\n                         &#x27;n_estimators&#x27;: [50, 100], &#x27;verbose&#x27;: [-1]},\n             scoring=&#x27;f1&#x27;)</pre><b>In a Jupyter environment, please rerun this cell to show the HTML representation or trust the notebook. <br />On GitHub, the HTML representation is unable to render, please try loading this page with nbviewer.org.</b></div><div class=\"sk-container\" hidden><div class=\"sk-item sk-dashed-wrapped\"><div class=\"sk-label-container\"><div class=\"sk-label sk-toggleable\"><input class=\"sk-toggleable__control sk-hidden--visually\" id=\"sk-estimator-id-8\" type=\"checkbox\" ><label for=\"sk-estimator-id-8\" class=\"sk-toggleable__label sk-toggleable__label-arrow\">GridSearchCV</label><div class=\"sk-toggleable__content\"><pre>GridSearchCV(cv=3,\n             estimator=LGBMClassifier(class_weight=&#x27;balanced&#x27;, random_state=42),\n             param_grid={&#x27;learning_rate&#x27;: [0.05, 0.1], &#x27;max_depth&#x27;: [-1],\n                         &#x27;n_estimators&#x27;: [50, 100], &#x27;verbose&#x27;: [-1]},\n             scoring=&#x27;f1&#x27;)</pre></div></div></div><div class=\"sk-parallel\"><div class=\"sk-parallel-item\"><div class=\"sk-item\"><div class=\"sk-label-container\"><div class=\"sk-label sk-toggleable\"><input class=\"sk-toggleable__control sk-hidden--visually\" id=\"sk-estimator-id-9\" type=\"checkbox\" ><label for=\"sk-estimator-id-9\" class=\"sk-toggleable__label sk-toggleable__label-arrow\">estimator: LGBMClassifier</label><div class=\"sk-toggleable__content\"><pre>LGBMClassifier(class_weight=&#x27;balanced&#x27;, random_state=42)</pre></div></div></div><div class=\"sk-serial\"><div class=\"sk-item\"><div class=\"sk-estimator sk-toggleable\"><input class=\"sk-toggleable__control sk-hidden--visually\" id=\"sk-estimator-id-10\" type=\"checkbox\" ><label for=\"sk-estimator-id-10\" class=\"sk-toggleable__label sk-toggleable__label-arrow\">LGBMClassifier</label><div class=\"sk-toggleable__content\"><pre>LGBMClassifier(class_weight=&#x27;balanced&#x27;, random_state=42)</pre></div></div></div></div></div></div></div></div></div></div>"
     },
     "execution_count": 94,
     "metadata": {},
     "output_type": "execute_result"
    }
   ],
   "source": [
    "%%time\n",
    "model = lgb.LGBMClassifier(class_weight = 'balanced',\n",
    "                           random_state=42)\n",
    "\n",
    "params_LGBMClassifier = {\n",
    "\n",
    "    'n_estimators': [50, 100],\n",
    "    'learning_rate': [0.05, 0.1],\n",
    "    'verbose' : [-1],\n",
    "#     'boosting_type' : ['gbdt'],\n",
    "#     'num_leaves': [100],\n",
    "    'max_depth' : [-1],\n",
    "#     'min_split_gain' : [0.0],\n",
    "#     'min_child_samples' : [20],\n",
    "#     'subsample' : [1.0],\n",
    "#     'subsample_freq' : [0],\n",
    "#     'colsample_bytree': [1.0],\n",
    "#     'reg_alpha' : [0.0],\n",
    "#     'reg_lambda' : [0.0],\n",
    "#     'random_state' : [5],\n",
    "#     'silent' : [True]\n",
    "}\n",
    "\n",
    "LGBMClassifier_gsearch = GridSearchCV(estimator=model,\n",
    "                                     cv=3,\n",
    "                                     param_grid=params_LGBMClassifier,\n",
    "                                     scoring='f1')\n",
    "\n",
    "LGBMClassifier_gsearch.fit(list(train['ft_embedding'].values), y_train)"
   ],
   "metadata": {
    "collapsed": false
   }
  },
  {
   "cell_type": "code",
   "execution_count": 99,
   "outputs": [
    {
     "name": "stdout",
     "output_type": "stream",
     "text": [
      "\n",
      "accuracy: 98.21%\n",
      "\n",
      "f1-score: 0.98175787763345\n",
      "\n",
      " [[977   5]\n",
      " [ 15 118]]\n",
      "\n",
      "               precision    recall  f1-score   support\n",
      "\n",
      "           0       0.98      0.99      0.99       982\n",
      "           1       0.96      0.89      0.92       133\n",
      "\n",
      "    accuracy                           0.98      1115\n",
      "   macro avg       0.97      0.94      0.96      1115\n",
      "weighted avg       0.98      0.98      0.98      1115\n",
      "\n"
     ]
    }
   ],
   "source": [
    "y_pred_lightgbm = LGBMClassifier_gsearch.predict(list(test['ft_embedding'].values))\n",
    "\n",
    "print(\"\\naccuracy: {}%\".format(round(accuracy_score(y_test, y_pred_lightgbm)*100,2)))\n",
    "print(\"\\nf1-score: {}\".format(f1_score(y_test, y_pred_lightgbm, average='weighted')))\n",
    "print('\\n',confusion_matrix(y_test, y_pred_lightgbm))\n",
    "print('\\n',classification_report(y_test, y_pred_lightgbm))"
   ],
   "metadata": {
    "collapsed": false
   }
  },
  {
   "cell_type": "markdown",
   "source": [
    "#### LGBMClassifier позволяет получить такие результаты, что:\n",
    "\n",
    "* accuracy: 98.21%\n",
    "\n",
    "* f1-score: 0.98175787763345%\n",
    "\n",
    "* 977 объектов были верно классифицированы как класс 0 (true negatives)\n",
    "* 5 объектов были неверно классифицированы как класс 1 (false positives)\n",
    "* 15 объектов были неверно классифицированы как класс 0 (false negatives)\n",
    "* 118 объектов были верно классифицированы как класс 1 (true positives)\n",
    "\n",
    "*Общее количество объектов в тестовом наборе данных равно 977+5+15+118 = 1115.*"
   ],
   "metadata": {
    "collapsed": false
   }
  },
  {
   "cell_type": "code",
   "execution_count": 108,
   "outputs": [
    {
     "name": "stdout",
     "output_type": "stream",
     "text": [
      "Best score Logistic Regression (Fasttext): 0.83\n"
     ]
    }
   ],
   "source": [
    "# Logistic Regression\n",
    "best_score_logreg = round(logreg_grid.best_score_, 3)\n",
    "print('Best score Logistic Regression (Fasttext): {:.2f}'.format(best_score_logreg))"
   ],
   "metadata": {
    "collapsed": false
   }
  },
  {
   "cell_type": "code",
   "execution_count": 109,
   "outputs": [
    {
     "name": "stdout",
     "output_type": "stream",
     "text": [
      "Best score CatBoostClassifier (Fasttext): 0.89\n"
     ]
    }
   ],
   "source": [
    "# CatBoost\n",
    "best_score_catboost = round(gsearch_catboost.best_score_, 3)\n",
    "print('Best score CatBoostClassifier (Fasttext): {}'.format(best_score_catboost))"
   ],
   "metadata": {
    "collapsed": false
   }
  },
  {
   "cell_type": "code",
   "execution_count": 110,
   "outputs": [
    {
     "name": "stdout",
     "output_type": "stream",
     "text": [
      "Best score LGBMClassifier (Fasttext): 0.904\n"
     ]
    }
   ],
   "source": [
    "# LGBMClassifier\n",
    "best_score_LGBM = round(LGBMClassifier_gsearch.best_score_, 3)\n",
    "print('Best score LGBMClassifier (Fasttext): {}'.format(best_score_LGBM))"
   ],
   "metadata": {
    "collapsed": false
   }
  },
  {
   "cell_type": "code",
   "execution_count": 142,
   "outputs": [
    {
     "data": {
      "text/plain": "<Figure size 1900x600 with 1 Axes>",
      "image/png": "[encoded data removed]"
     },
     "metadata": {},
     "output_type": "display_data"
    }
   ],
   "source": [
    "# Generate F1-score plots\n",
    "\n",
    "plt.rcParams.update({'font.size': 17,\n",
    "                     'text.color' : 'black',\n",
    "                     'axes.labelcolor' : \"blue\"})\n",
    "# plt.rcParams.update({'axes.titlesize': 'large'})\n",
    "fig, ax = plt.subplots(figsize=(19, 6))\n",
    "\n",
    "x = ['Log Reg (Fasttext)',\n",
    "     'Cat Boost',\n",
    "    'LightGBM']\n",
    "\n",
    "y = [best_score_logreg,\n",
    "     best_score_catboost,\n",
    "     best_score_LGBM]\n",
    "\n",
    "ax.bar(x, y, width=0.4, color='#008B8B')\n",
    "ax.set_title('F1-score for each ML algorithm (train data)', fontsize=18)\n",
    "ax.set_xlabel('Classification Models', fontsize=18)\n",
    "ax.set_ylabel('F1-score', fontsize=18)\n",
    "ax.set_ylim(0, 1.1)\n",
    "\n",
    "for index, value in enumerate(y):\n",
    "    plt.text(x=index, y=value + 0.05, s=str(value), ha='center')\n",
    "\n",
    "plt.tight_layout();"
   ],
   "metadata": {
    "collapsed": false
   }
  },
  {
   "cell_type": "markdown",
   "source": [
    "#### Логистическая регрессия позволяет получить такие результаты, что:\n",
    "\n",
    "* **accuracy: 93.99%**\n",
    "\n",
    "* **f1-score: 0.9439430404145152**\n",
    "\n",
    "* **923 объектов были верно классифицированы как класс 0** (true negatives)\n",
    "* **59 объектов были неверно классифицированы как класс 1** (false positives)\n",
    "* **8 объектов были неверно классифицированы как класс 0** (false negatives)\n",
    "* **125 объектов были верно классифицированы как класс 1** (true positives)\n",
    "\n",
    "#### CatBoostClassifier позволяет получить такие результаты, что:\n",
    "\n",
    "* **accuracy: 98.03%**\n",
    "\n",
    "* **f1-score: 0.9801384921903853**\n",
    "\n",
    "* **973 объектов были верно классифицированы как класс 0** (true negatives)\n",
    "* **9 объектов были неверно классифицированы как класс 1** (false positives)\n",
    "* **13 объектов были неверно классифицированы как класс 0** (false negatives)\n",
    "* **120 объектов были верно классифицированы как класс 1** (true positives)\n",
    "\n",
    "\n",
    "#### LGBMClassifier позволяет получить такие результаты, что:\n",
    "\n",
    "* **accuracy: 98.21%**\n",
    "\n",
    "* **f1-score: 0.98175787763345**\n",
    "\n",
    "* **977 объектов были верно классифицированы как класс 0** (true negatives)\n",
    "* **5 объектов были неверно классифицированы как класс 1** (false positives)\n",
    "* **15 объектов были неверно классифицированы как класс 0** (false negatives)\n",
    "* **118 объектов были верно классифицированы как класс 1** (true positives)\n",
    "\n",
    "*Общее количество объектов в тестовом наборе данных равно 1115.*"
   ],
   "metadata": {
    "collapsed": false
   }
  },
  {
   "cell_type": "markdown",
   "source": [
    "### *Вывод:* По совокупности метрик, делаем вывод, что модель бустинга LightGBM с использованием Fasttext для препроцессинга и векторизации текста показывает лучший результат для решения задачи классификации спама."
   ],
   "metadata": {
    "collapsed": false
   }
  }
 ],
 "metadata": {
  "kernelspec": {
   "display_name": "Python 3",
   "language": "python",
   "name": "python3"
  },
  "language_info": {
   "codemirror_mode": {
    "name": "ipython",
    "version": 2
   },
   "file_extension": ".py",
   "mimetype": "text/x-python",
   "name": "python",
   "nbconvert_exporter": "python",
   "pygments_lexer": "ipython2",
   "version": "2.7.6"
  }
 },
 "nbformat": 4,
 "nbformat_minor": 0
}
